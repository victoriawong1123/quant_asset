{
 "cells": [
  {
   "cell_type": "code",
   "execution_count": 2,
   "metadata": {},
   "outputs": [],
   "source": [
    "import numpy as np\n",
    "import pandas as pd\n",
    "from scipy import stats\n",
    "import statsmodels.api as sm\n",
    "from scipy.optimize import minimize\n",
    "import matplotlib.pyplot as plt\n",
    "from ipywidgets import interact, widgets"
   ]
  },
  {
   "cell_type": "code",
   "execution_count": 4,
   "metadata": {
    "pycharm": {
     "is_executing": true
    },
    "scrolled": true
   },
   "outputs": [],
   "source": [
    "market_cap = pd.read_excel('Group_G copy.xlsx', sheet_name=1)\n",
    "price_index = pd.read_excel('Group_G copy.xlsx', sheet_name=2, index_col='Date')\n",
    "revenue = pd.read_excel('Group_G copy.xlsx', sheet_name=3)\n",
    "emission = pd.read_excel('Group_G copy.xlsx', sheet_name=4)"
   ]
  },
  {
   "cell_type": "code",
   "execution_count": 6,
   "metadata": {
    "pycharm": {
     "is_executing": true
    }
   },
   "outputs": [],
   "source": [
    "def assets_returns(assets, period, compounded=True):\n",
    "    if not compounded:\n",
    "        asset_return = (assets / assets.shift(periods=period)) - 1\n",
    "    elif compounded:\n",
    "        diff = assets / assets.shift(periods=period)\n",
    "        asset_return = np.log(diff.astype('float'))\n",
    "    return asset_return"
   ]
  },
  {
   "cell_type": "code",
   "execution_count": 7,
   "metadata": {
    "pycharm": {
     "is_executing": true
    }
   },
   "outputs": [],
   "source": [
    "simple_return = assets_returns(price_index, period=1, compounded=False)"
   ]
  },
  {
   "cell_type": "code",
   "execution_count": 5,
   "metadata": {
    "pycharm": {
     "is_executing": true
    }
   },
   "outputs": [
    {
     "name": "stderr",
     "output_type": "stream",
     "text": [
      "/Users/victoriawong/opt/anaconda3/lib/python3.9/site-packages/pandas/core/internals/blocks.py:402: RuntimeWarning: divide by zero encountered in log\n",
      "  result = func(self.values, **kwargs)\n"
     ]
    }
   ],
   "source": [
    "log_return = assets_returns(price_index, period=1, compounded=True)"
   ]
  },
  {
   "cell_type": "code",
   "execution_count": 9,
   "metadata": {
    "pycharm": {
     "is_executing": true
    }
   },
   "outputs": [],
   "source": [
    "def get_moment(assetReturn, moment):\n",
    "    if moment == 1:\n",
    "        return pd.DataFrame(assetReturn.mean())\n",
    "    elif moment == 2:\n",
    "        return pd.DataFrame(assetReturn.std())\n",
    "    elif moment == 3:\n",
    "        return pd.DataFrame(assetReturn.skew())\n",
    "    elif moment == 4:\n",
    "        nu = (pow(assetReturn, moment)).mean() - pow(assetReturn.mean(), moment)\n",
    "        den = pow(assetReturn.std(), moment)\n",
    "        res = nu / den\n",
    "        return pd.DataFrame(res)"
   ]
  },
  {
   "cell_type": "code",
   "execution_count": 7,
   "metadata": {
    "pycharm": {
     "is_executing": true
    }
   },
   "outputs": [],
   "source": [
    "simple_mean = get_moment(simple_return, 1)\n",
    "simple_std = get_moment(simple_return, 2)\n",
    "simple_skew = get_moment(simple_return, 3)\n",
    "simple_kurt = get_moment(simple_return, 4)"
   ]
  },
  {
   "cell_type": "code",
   "execution_count": 8,
   "metadata": {
    "pycharm": {
     "is_executing": true
    }
   },
   "outputs": [],
   "source": [
    "def jarque_bera(series, skewness, kurtosis):\n",
    "    t = np.shape(series)[0]\n",
    "    tstat = t * (pow(skewness, 2)/6 + pow((kurtosis), 2)/24)\n",
    "    return tstat"
   ]
  },
  {
   "cell_type": "code",
   "execution_count": 9,
   "metadata": {
    "pycharm": {
     "is_executing": true
    }
   },
   "outputs": [],
   "source": [
    "jb_res = jarque_bera(simple_return, simple_skew, simple_kurt)"
   ]
  },
  {
   "cell_type": "code",
   "execution_count": 10,
   "metadata": {
    "pycharm": {
     "is_executing": true
    }
   },
   "outputs": [],
   "source": [
    "def jb_test(tstat, alpha, dof):\n",
    "    critical_val = stats.chi2.ppf(1-alpha, df=dof)\n",
    "    out = {}\n",
    "    for k, v in tstat.T.items():\n",
    "        if v[0] >= critical_val:\n",
    "\n",
    "            # print(f'Reject H0: Return is not Gaussian')\n",
    "            out[k] = 'Reject H0: Return is not Gaussian'\n",
    "    return pd.Series(out)"
   ]
  },
  {
   "cell_type": "code",
   "execution_count": 11,
   "metadata": {
    "pycharm": {
     "is_executing": true
    }
   },
   "outputs": [],
   "source": [
    "test_res = jb_test(jb_res, 0.05, 2)"
   ]
  },
  {
   "cell_type": "code",
   "execution_count": 12,
   "metadata": {
    "pycharm": {
     "is_executing": true
    }
   },
   "outputs": [],
   "source": [
    "def get_acf(ds: pd.DataFrame, nlags=10) -> pd.DataFrame:\n",
    "    out = {}\n",
    "    for k in ds.keys():\n",
    "        res = sm.tsa.acf(ds[k], nlags=nlags, missing='conservative')\n",
    "        out[k] = res[1:]\n",
    "    return pd.DataFrame(out)"
   ]
  },
  {
   "cell_type": "code",
   "execution_count": 13,
   "metadata": {
    "pycharm": {
     "is_executing": true
    }
   },
   "outputs": [
    {
     "name": "stderr",
     "output_type": "stream",
     "text": [
      "/Users/victoriawong/opt/anaconda3/lib/python3.9/site-packages/statsmodels/tsa/stattools.py:463: RuntimeWarning: invalid value encountered in double_scalars\n",
      "  xo = x - x.sum() / notmask_int.sum()\n",
      "/Users/victoriawong/opt/anaconda3/lib/python3.9/site-packages/statsmodels/tsa/stattools.py:518: RuntimeWarning: invalid value encountered in true_divide\n",
      "  acov = np.fft.ifft(Frf * np.conjugate(Frf))[:nobs] / d[nobs - 1 :]\n",
      "/Users/victoriawong/opt/anaconda3/lib/python3.9/site-packages/statsmodels/tsa/stattools.py:463: RuntimeWarning: invalid value encountered in subtract\n",
      "  xo = x - x.sum() / notmask_int.sum()\n"
     ]
    }
   ],
   "source": [
    "acf = get_acf(simple_return, nlags=10)\n",
    "squared_acf = get_acf(pow(simple_return, 2), nlags=10)"
   ]
  },
  {
   "cell_type": "code",
   "execution_count": 14,
   "metadata": {
    "pycharm": {
     "is_executing": true
    }
   },
   "outputs": [],
   "source": [
    "def ljung_box(acf, returns, nlag):\n",
    "    t = np.shape(returns)[0]\n",
    "    tstat = t*(t+2)*1/(t-nlag)*pow(acf.iloc[nlag],2)\n",
    "    return tstat\n",
    "\n",
    "\n",
    "lj_stat = {}\n",
    "for i in range(10):\n",
    "    lj_stat[i] = ljung_box(acf, simple_return, i)\n",
    "lj_stat = pd.DataFrame(lj_stat).transpose()"
   ]
  },
  {
   "cell_type": "code",
   "execution_count": 10,
   "metadata": {
    "pycharm": {
     "is_executing": true
    }
   },
   "outputs": [],
   "source": [
    "# Filtered portfolio inputs\n",
    "opt_simple = simple_return.dropna(thresh=145).dropna(axis=1)\n",
    "opt_mean = get_moment(opt_simple, 1)\n",
    "opt_vol = get_moment(opt_simple, 2)\n",
    "opt_skew = get_moment(opt_simple, 3)\n",
    "opt_kurt = get_moment(opt_simple, 4)\n",
    "\n",
    "\n",
    "# For annualized portfolio inputs\n",
    "annual_mean = pow((1+opt_mean), 252) -1\n",
    "annual_vol = opt_vol * np.sqrt(252)"
   ]
  },
  {
   "cell_type": "code",
   "execution_count": 16,
   "metadata": {
    "pycharm": {
     "is_executing": true
    }
   },
   "outputs": [],
   "source": [
    "def get_weight(num_assets, size):\n",
    "    weights = np.random.randn(num_assets, size)\n",
    "    weights = pd.DataFrame(weights)\n",
    "    for i in range(size):\n",
    "        weights.iloc[:, i] = weights.iloc[:, i] / weights.iloc[:, i].sum()\n",
    "    return weights\n",
    "\n",
    "\n",
    "# On the rows are each asset's weight in different portfolios, each column represents a randomly generated portfolio\n",
    "random_weight = get_weight(np.shape(opt_simple)[1], 1000 )"
   ]
  },
  {
   "cell_type": "code",
   "execution_count": 17,
   "metadata": {
    "pycharm": {
     "is_executing": true
    }
   },
   "outputs": [],
   "source": [
    "def portfolio_return(asset_returns, port_weight):\n",
    "    if np.shape(asset_returns)[1] != np.shape(port_weight)[0]:\n",
    "        port_mean = asset_returns.T.values @ port_weight.values\n",
    "    else:\n",
    "        port_mean = asset_returns.values @ port_weight.values\n",
    "    port_mean = pd.DataFrame(port_mean).transpose()\n",
    "    port_mean.index = port_weight.T.index\n",
    "    port_mean.columns = ['Portfolio Mean']\n",
    "    return port_mean\n",
    "\n",
    "\n",
    "def vcv_matrix(asset_returns):\n",
    "    return asset_returns.cov()\n",
    "\n",
    "\n",
    "def portfolio_var(port_weight, vcv):\n",
    "    out = {}\n",
    "    for i in port_weight:\n",
    "        out[i] = port_weight.iloc[:, i].values.T @ vcv.values @ port_weight.iloc[:, i].values\n",
    "    out = pd.Series(out)\n",
    "    out.name = 'Sigma'\n",
    "    return out"
   ]
  },
  {
   "cell_type": "code",
   "execution_count": 18,
   "metadata": {
    "pycharm": {
     "is_executing": true
    }
   },
   "outputs": [],
   "source": [
    "opt_mu = portfolio_return(opt_mean, random_weight)\n",
    "opt_vcv = vcv_matrix(opt_simple)\n",
    "opt_sigma2 = portfolio_var(random_weight, opt_vcv)\n",
    "opt_sigma = np.sqrt(opt_sigma2)\n",
    "annual_opt_mu = pow((1+opt_mu), 252) -1\n",
    "annual_opt_vol = opt_sigma * np.sqrt(252)"
   ]
  },
  {
   "cell_type": "code",
   "execution_count": 12,
   "metadata": {
    "pycharm": {
     "is_executing": true
    }
   },
   "outputs": [],
   "source": [
    "def efficient_frontier(mean, vcv, risk_aversion, num_port):\n",
    "    \"\"\"\n",
    "\n",
    "    :param mean: All asset's expected return\n",
    "    :param vcv: The variance covariance matrix\n",
    "    :param risk_aversion: Investor's risk aversion\n",
    "    :param num_port: Number of equally spaced return portfolios we want display on the efficient frontier\n",
    "    :return: This function returns a list of objects.\n",
    "        frontier: The mean variance efficient frontier with x number of MVP portfolios\n",
    "        gmvp_weight: The asset allocation of the global minimum variance portfolio\n",
    "        gmvp_mean: The mean of the global minimum variance portfolio\n",
    "        gmvp_variance: The variance of the global minimum variance portfolio\n",
    "        optimal_weight: The asset allocation of the optimal portfolio\n",
    "        optimal_mean: The mean of the optimal portfolio\n",
    "        optimal_variance: The variance of the optimal portfolio\n",
    "    \"\"\"\n",
    "\n",
    "    e = np.ones(np.shape(mean)[0])\n",
    "    vcv_inv = np.linalg.inv(vcv)\n",
    "    A = mean.T @ vcv_inv @ mean\n",
    "    B = mean.T @ vcv_inv @ e\n",
    "    C = e.T @ vcv_inv @ e\n",
    "    alpha_spec = (e.T @ vcv_inv @ mean) / risk_aversion\n",
    "    alpha_min = 1-alpha_spec\n",
    "\n",
    "    # The mean-variance efficient frontier\n",
    "    mu = np.linspace(-0.1, 0.25, num_port)\n",
    "    std = ((C * pow(mu, 2) - 2*B*mu + A)/(A*C-pow(B, 2))).T.reshape(-1)\n",
    "    frontier = pd.DataFrame({'mu_p': mu, 'mu_std': std})\n",
    "\n",
    "    # The global mean variance portfolio\n",
    "    gmvp_weight = vcv_inv @ e / C\n",
    "    gmvp_mean = gmvp_weight.T @ mean\n",
    "    gmvp_variance = gmvp_weight.T @ vcv @ gmvp_weight\n",
    "\n",
    "    # The speculative portfolio\n",
    "    spec_weight = vcv_inv @ mean / (e.T @ vcv_inv @ mean)\n",
    "    spec_mean = spec_weight.T @ mean\n",
    "    spec_variance = spec_weight.T @ vcv @ spec_weight\n",
    "\n",
    "    # The optimal portfolio\n",
    "    optimal_weight = alpha_min * gmvp_weight.reshape(-1) + alpha_spec * spec_weight.reshape(-1)\n",
    "    optimal_mean = optimal_weight.T @ mean\n",
    "    optimal_variance = optimal_weight.T @ vcv @ optimal_weight\n",
    "\n",
    "    return [frontier, gmvp_weight, gmvp_mean, gmvp_variance, optimal_weight, optimal_mean, optimal_variance]"
   ]
  },
  {
   "cell_type": "code",
   "execution_count": 31,
   "metadata": {
    "pycharm": {
     "is_executing": true
    }
   },
   "outputs": [],
   "source": [
    "r = efficient_frontier(opt_mean.values, opt_vcv.values, risk_aversion=2, num_port=100)\n"
   ]
  },
  {
   "cell_type": "code",
   "execution_count": 21,
   "metadata": {
    "pycharm": {
     "is_executing": true
    }
   },
   "outputs": [
    {
     "data": {
      "application/vnd.jupyter.widget-view+json": {
       "model_id": "ab14c7ad435446d6a8b362f2431e4750",
       "version_major": 2,
       "version_minor": 0
      },
      "text/plain": [
       "interactive(children=(FloatSlider(value=1.0, description='risk_aversion', max=10.0), Output()), _dom_classes=(…"
      ]
     },
     "metadata": {},
     "output_type": "display_data"
    }
   ],
   "source": [
    "@interact()\n",
    "def plot(risk_aversion=widgets.FloatSlider(min=0, max=10, step=0.1, value=1)):\n",
    "\n",
    "    f = efficient_frontier(opt_mean.values, opt_vcv, risk_aversion=risk_aversion, num_port=100)\n",
    "\n",
    "    ax = plt.gca()\n",
    "    ax.plot(f[0]['mu_std'], f[0]['mu_p'])\n",
    "    gmvp_weight = f[1]\n",
    "    gmvp_retr = f[2]\n",
    "    gmvp_vcv = f[3]\n",
    "\n",
    "    optimal_variance = f[-1]\n",
    "    optimal_mu = f[-2]\n",
    "\n",
    "    ax.plot(gmvp_vcv, gmvp_retr, 'ro')\n",
    "    ax.plot(optimal_variance, optimal_mu, 'bo')\n",
    "    \n",
    "#     d = np.linspace(0, 0.25, 101)\n",
    "#     ax.plot(d, y, 'k--')\n",
    "    ax.axhline(y=0,color='k', ls='-')"
   ]
  },
  {
   "cell_type": "code",
   "execution_count": 22,
   "metadata": {
    "pycharm": {
     "is_executing": true
    }
   },
   "outputs": [],
   "source": [
    "# Efficient frontier using optimization method\n",
    "def min_variance_portfolio(mean, vcv, initial_weight):\n",
    "    \"\"\"\n",
    "\n",
    "    :param vcv: The variance covariance matrix\n",
    "    :param initial_weight: Initial guess of asset weight allocation\n",
    "    :param risk_free:\n",
    "    :return: Returns a list of objects.\n",
    "    1. Optimal weight allocation of assets given the covariance matrix\n",
    "    2. The return of this global minimum variance portfolio\n",
    "    3. The variance of this global minimum variance portfolio\n",
    "    \"\"\"\n",
    "    obj = lambda a: a.T @ vcv @ a\n",
    "    cons = {\n",
    "        'type': 'eq',\n",
    "        'fun': lambda a: a.T @ (np.zeros(len(a)) + 1) - 1\n",
    "    }\n",
    "    bnds = [[None, None] for i in range(len(initial_weight))]\n",
    "    port_weight = minimize(obj, x0=initial_weight, constraints=cons, bounds=bnds)\n",
    "    r = port_weight.x.reshape(1, -1)\n",
    "    port_mean = r @ mean\n",
    "    port_vcv = r @ vcv @ r.T\n",
    "    return [port_weight, port_mean, port_vcv]"
   ]
  },
  {
   "cell_type": "code",
   "execution_count": 33,
   "metadata": {
    "pycharm": {
     "is_executing": true
    }
   },
   "outputs": [
    {
     "data": {
      "text/html": [
       "<div>\n",
       "<style scoped>\n",
       "    .dataframe tbody tr th:only-of-type {\n",
       "        vertical-align: middle;\n",
       "    }\n",
       "\n",
       "    .dataframe tbody tr th {\n",
       "        vertical-align: top;\n",
       "    }\n",
       "\n",
       "    .dataframe thead th {\n",
       "        text-align: right;\n",
       "    }\n",
       "</style>\n",
       "<table border=\"1\" class=\"dataframe\">\n",
       "  <thead>\n",
       "    <tr style=\"text-align: right;\">\n",
       "      <th></th>\n",
       "      <th>0</th>\n",
       "    </tr>\n",
       "  </thead>\n",
       "  <tbody>\n",
       "    <tr>\n",
       "      <th>0</th>\n",
       "      <td>0.000407</td>\n",
       "    </tr>\n",
       "  </tbody>\n",
       "</table>\n",
       "</div>"
      ],
      "text/plain": [
       "          0\n",
       "0  0.000407"
      ]
     },
     "execution_count": 33,
     "metadata": {},
     "output_type": "execute_result"
    }
   ],
   "source": [
    "pweight = min_variance_portfolio(opt_mean, opt_vcv, r[1])\n",
    "gmvp_weight = pweight[0]\n",
    "gmvp_mean = pweight[1]\n",
    "gmvp_variance = pweight[2]\n",
    "gmvp_mean"
   ]
  },
  {
   "cell_type": "code",
   "execution_count": 34,
   "metadata": {
    "pycharm": {
     "is_executing": true
    }
   },
   "outputs": [],
   "source": [
    "def optimal_portfolio(mean, vcv, initial_weight, risk_free):\n",
    "    vcv_inv = np.linalg.inv(vcv)\n",
    "    ones = np.ones((np.shape(mean)[0], 1))\n",
    "    \n",
    "    obj = lambda a: a.T @ vcv @ a\n",
    "    cons = {\n",
    "        'type': 'eq',\n",
    "        'fun' : lambda a: a.T @ mean + (1 - ones.T @ a) * risk_free - a.T @ mean\n",
    "    }\n",
    "    bnds = [(None, None) for i in range(len(initial_weight))]\n",
    "    port_weight = minimize(obj, x0=initial_weight, method='SLSQP', constraints=cons, bounds=bnds)\n",
    "    a_str = port_weight.x.reshape(-1, 1)\n",
    "#     optimal_portfolio = port_weight.x.reshape(1, -1)\n",
    "#     port_mean = optimal_portfolio @ mean\n",
    "    \n",
    "    excess_mu = mean - risk_free * ones\n",
    "#     tan_port = (vcv_inv @ excess_mu) / (ones.T @ vcv_inv @ excess_mu)\n",
    "    tan_port = a_str / (ones.T @ a_str)\n",
    "    tan_mu = tan_port.T @ excess_mu + risk_free\n",
    "    tan_vcv = tan_port.T @ vcv @ tan_port\n",
    "#     return [port_weight.x, optimal_portfolio, port_mean, tan_port, tan_mu, tan_vcv]\n",
    "    \n",
    "    return tan_port, tan_mu, tan_vcv\n",
    "\n",
    "\n",
    "# res = optimal_portfolio(opt_mean.values, opt_vcv, minport, 0.005)\n",
    "# res[-2]\n"
   ]
  },
  {
   "cell_type": "code",
   "execution_count": 38,
   "metadata": {
    "pycharm": {
     "is_executing": true
    }
   },
   "outputs": [
    {
     "data": {
      "text/plain": [
       "[<matplotlib.lines.Line2D at 0x7fe19bda8c40>]"
      ]
     },
     "execution_count": 38,
     "metadata": {},
     "output_type": "execute_result"
    },
    {
     "data": {
      "image/png": "[encoded data removed]",
      "text/plain": [
       "<Figure size 640x480 with 1 Axes>"
      ]
     },
     "metadata": {},
     "output_type": "display_data"
    }
   ],
   "source": [
    "f = efficient_frontier(opt_mean.values, opt_vcv.values, risk_aversion=1, num_port=100)\n",
    "\n",
    "ax = plt.gca()\n",
    "ax.plot(f[0]['mu_std'], f[0]['mu_p'])\n",
    "gmvp_weight = f[1]\n",
    "gmvp_retr = f[2]\n",
    "gmvp_vcv = f[3]\n",
    "\n",
    "optimal_variance = f[-1]\n",
    "optimal_mu = f[-2]\n",
    "\n",
    "ax.plot(gmvp_vcv, gmvp_retr, 'ro')\n",
    "ax.plot(optimal_variance, optimal_mu, 'bo')\n",
    "\n",
    "res = optimal_portfolio(opt_mean.values, opt_vcv.values, r[1], 0.05)\n",
    "ax.plot(res[-1], res[-2], 'go')\n",
    "    \n",
    "#     d = np.linspace(0, 0.25, 101)\n",
    "#     ax.plot(d, y, 'k--')\n",
    "# ax.axhline(y=0,color='g', ls='-')"
   ]
  },
  {
   "cell_type": "code",
   "execution_count": null,
   "metadata": {
    "pycharm": {
     "is_executing": true
    }
   },
   "outputs": [],
   "source": [
    "gmvp_vcv"
   ]
  },
  {
   "cell_type": "code",
   "execution_count": null,
   "metadata": {
    "pycharm": {
     "is_executing": true
    }
   },
   "outputs": [],
   "source": [
    "ax = plt.gca()\n",
    "y2 = np.sqrt(f['mu_std']) # this is actually the squared root of the variance\n",
    "\n",
    "\n",
    "pmus = []\n",
    "pvols = []\n",
    "# for i in range(len(random_weight.columns)):\n",
    "#     res = ef_optimization(opt_vcv, random_weight.iloc[:, i], risk_free=False)\n",
    "#\n",
    "#     pmu = res.x @ opt_mean\n",
    "#     pvol = res.x.T @ opt_vcv @ res.x\n",
    "#     pmus.append(pmu)\n",
    "#     pvols.append(pvol)\n",
    "#     ax.plot(np.sqrt(pvol).T, pmu, 'ro')\n",
    "#\n",
    "# # ax.set_ylim(-0.01, 0.02)\n",
    "# # ax.set_xlim(0, 0.05)\n",
    "# ax.plot(y2, f['mu_p'])"
   ]
  },
  {
   "cell_type": "code",
   "execution_count": null,
   "metadata": {
    "pycharm": {
     "is_executing": true
    }
   },
   "outputs": [],
   "source": []
  },
  {
   "cell_type": "code",
   "execution_count": null,
   "metadata": {
    "pycharm": {
     "is_executing": true
    }
   },
   "outputs": [],
   "source": [
    "ax = plt.gca()\n",
    "ax.plot(pvols, pmus, 'ro')\n",
    "ax.plot(y2, f['mu_p'])\n",
    "ax.set_xlim(0, 0.01)\n",
    "ax.set_ylim(-0.05, 0.05)"
   ]
  },
  {
   "cell_type": "code",
   "execution_count": null,
   "metadata": {
    "pycharm": {
     "is_executing": true
    }
   },
   "outputs": [],
   "source": [
    "def portfolio_resampling(row_selected, num_iter, len_dummy_mu):\n",
    "    \"\"\"\n",
    "\n",
    "    :param row_selected: Number of draws of raw returns we have for each sample\n",
    "    :param num_iter: Number of resampled returns\n",
    "    :param len_dummy_mu: Number of portfolio returns we set to optimize for portfolio volatility\n",
    "    :return: The output contains multiple outputs. First, the optimal allocation given all returns, the expected return of the portfolio, the variacne of the optimal portfolios.\n",
    "    \"\"\"\n",
    "    out = []\n",
    "    optimal_weights = []\n",
    "    optimal_mu = []\n",
    "    optimal_vcv = []\n",
    "    for i in range(num_iter):\n",
    "        sam = opt_simple.sample(n=row_selected, ignore_index=True)\n",
    "        mu = sam.mean()\n",
    "        optimal_mu.append(mu)\n",
    "        cov = sam.cov()\n",
    "        optimal_vcv.append(cov)\n",
    "        res = efficient_frontier(mu, cov, len_dummy_mu)\n",
    "        num = np.linalg.inv(cov) @ np.ones(np.shape(cov)[0])\n",
    "        den = np.ones(np.shape(cov)[0]).T @ np.linalg.inv(cov) @ np.ones(np.shape(cov)[0])\n",
    "        alpha = num / den\n",
    "        out.append(res['mu_std'])\n",
    "        optimal_weights.append(alpha)\n",
    "    df = pd.DataFrame(np.asarray(out).T, index=res['mu_p'])\n",
    "    optimal_weights = pd.DataFrame(optimal_weights).T\n",
    "    optimal_mu = pd.DataFrame(optimal_mu)\n",
    "    return [df, optimal_weights, optimal_mu]\n",
    "\n",
    "\n",
    "# def resampled_mu(row_selected, num_iter, )"
   ]
  },
  {
   "cell_type": "code",
   "execution_count": null,
   "metadata": {
    "pycharm": {
     "is_executing": true
    }
   },
   "outputs": [],
   "source": [
    "resampled = portfolio_resampling(300, 2000, 200)\n",
    "# resampled = pd.DataFrame(np.asarray(resampled).T)\n",
    "# np.shape(resampled)\n",
    "# all_weights = []\n",
    "\n",
    "\n",
    "# for i in range(np.shape(resampled)[0]+1):\n",
    "#     resampled.iloc[:, i] = resampled.iloc[:, i] / resampled.iloc[:, i].sum()\n",
    "\n",
    "\n",
    "# all_weights = pd.DataFrame(all_weights)\n",
    "# all_weights.sum()\n",
    "# resampled.plot(legend=False)\n",
    "resampled[1].sum()"
   ]
  },
  {
   "cell_type": "code",
   "execution_count": null,
   "metadata": {
    "pycharm": {
     "is_executing": true
    }
   },
   "outputs": [],
   "source": [
    "final_sample = resampled.mean(axis=1)"
   ]
  },
  {
   "cell_type": "code",
   "execution_count": null,
   "metadata": {
    "pycharm": {
     "is_executing": true
    }
   },
   "outputs": [],
   "source": [
    "efficient_frontier(opt_mean.values, opt_vcv.values, risk_aversion=1, num_port=100)"
   ]
  },
  {
   "cell_type": "code",
   "execution_count": null,
   "metadata": {
    "pycharm": {
     "is_executing": true
    }
   },
   "outputs": [],
   "source": [
    "ax = plt.gca()\n",
    "for i in range(len(resampled.columns)):\n",
    "    ax.plot(resampled.iloc[:, i], resampled.index, 'k-', lw=0.05)\n",
    "ax.plot(resampled.mean(axis=1), resampled.index, 'r-', lw=1.2)"
   ]
  },
  {
   "cell_type": "code",
   "execution_count": 71,
   "metadata": {
    "pycharm": {
     "is_executing": true
    }
   },
   "outputs": [
    {
     "data": {
      "text/plain": [
       "<matplotlib.legend.Legend at 0x1f6b9f09d90>"
      ]
     },
     "execution_count": 71,
     "metadata": {},
     "output_type": "execute_result"
    },
    {
     "data": {
      "image/png": "[encoded data removed]",
      "text/plain": [
       "<Figure size 640x480 with 1 Axes>"
      ]
     },
     "metadata": {},
     "output_type": "display_data"
    }
   ],
   "source": [
    "Q = 100\n",
    "m = 51\n",
    "returns = opt_simple\n",
    "nb_rows = 200\n",
    "risk_aversion = 2\n",
    "num_port = 101\n",
    "\n",
    "ax = plt.gca()\n",
    "\n",
    "p0 = returns.sample(n=nb_rows, ignore_index=True)\n",
    "ft, _, min_mu, min_cov, _, max_mu, max_cov = efficient_frontier(returns.mean(), returns.cov(), risk_aversion, num_port)\n",
    "ax.plot(ft.mu_std, ft.mu_p, 'k-', label='classic')\n",
    "\n",
    "\n",
    "ft, _, min_mu, min_cov, _, max_mu, max_cov = efficient_frontier(p0.mean(), p0.cov(), risk_aversion, num_port)\n",
    "ax.plot(ft.mu_std, ft.mu_p, 'k--', label='p0')\n",
    "\n",
    "mu_0 = p0.mean()\n",
    "cov_0 = p0.cov()\n",
    "\n",
    "opt_mus = []\n",
    "opt_covs = []\n",
    "a_res = [[] for i in range(m)]\n",
    "for i in range(Q):\n",
    "    p1 = np.random.normal(loc=p0.mean().values, scale=p0.std().values, size=p0.shape)\n",
    "    mu_1 = p1.mean(axis=0).reshape(-1, 1)\n",
    "    cov_1 = np.cov(p1.T)\n",
    "    c = 0\n",
    "    for mu in np.linspace(min_mu, max_mu, m):\n",
    "        obj = lambda a: a.T @ cov_1 @ a\n",
    "        cons1 = {\n",
    "            'type': 'eq',\n",
    "            'fun': lambda a: a.T @ (np.zeros(len(a)) + 1) - 1\n",
    "        }\n",
    "        cons2 = {\n",
    "            'type': 'eq',\n",
    "            'fun': lambda a: a.T @ mu_1 - mu\n",
    "        }\n",
    "        w0 = np.random.random(mu_1.shape)\n",
    "        w0 /= w0.sum()\n",
    "        bnds = [[None, None] for i in range(len(w0))]\n",
    "        res = minimize(obj, x0=w0.reshape(-1), method='SLSQP', constraints=(cons1, cons2), bounds=bnds)\n",
    "        r = res.x\n",
    "        opt_mu = r.T @ mu_0\n",
    "        opt_cov = r.T @ cov_0 @ r\n",
    "        ax.plot(opt_cov, opt_mu, 'bo')\n",
    "        opt_mus.append(opt_mu)\n",
    "        opt_covs.append(opt_cov)\n",
    "        a_res[c].append(r)\n",
    "        c += 1\n",
    "        \n",
    "mu_res = []\n",
    "cov_res = []\n",
    "ares = []\n",
    "for i in range(m):\n",
    "    _a_res = np.asarray(a_res)[i].sum(axis=0)/Q\n",
    "    mu_res.append(_a_res.T @ mu_0)\n",
    "    cov_res.append(_a_res.T @ cov_0 @ _a_res)\n",
    "    ares.append(_a_res)\n",
    "\n",
    "ax.plot(cov_res, mu_res, 'r-', label='resampled', ms=3)\n",
    "ax.legend()\n",
    "\n",
    "        "
   ]
  },
  {
   "cell_type": "code",
   "execution_count": 104,
   "metadata": {},
   "outputs": [
    {
     "data": {
      "text/plain": [
       "(-0.1, 0.5)"
      ]
     },
     "execution_count": 104,
     "metadata": {},
     "output_type": "execute_result"
    },
    {
     "data": {
      "image/png": "[encoded data removed]",
      "text/plain": [
       "<Figure size 640x480 with 1 Axes>"
      ]
     },
     "metadata": {},
     "output_type": "display_data"
    }
   ],
   "source": [
    "ax = plt.gca()\n",
    "\n",
    "ax.plot(cov_res, mu_res, 'r-')\n",
    "ax.scatter(opt_covs, opt_mus, c=np.asarray(opt_mus), s=12)\n",
    "ax.set_xlim(-0.1, 0.5)\n",
    "ax.set_ylim(-0.1, 0.5)\n"
   ]
  }
 ],
 "metadata": {
  "hide_input": false,
  "kernelspec": {
   "display_name": "Python 3 (ipykernel)",
   "language": "python",
   "name": "python3"
  },
  "language_info": {
   "codemirror_mode": {
    "name": "ipython",
    "version": 3
   },
   "file_extension": ".py",
   "mimetype": "text/x-python",
   "name": "python",
   "nbconvert_exporter": "python",
   "pygments_lexer": "ipython3",
   "version": "3.9.12"
  },
  "toc": {
   "base_numbering": 1,
   "nav_menu": {},
   "number_sections": true,
   "sideBar": true,
   "skip_h1_title": false,
   "title_cell": "Table of Contents",
   "title_sidebar": "Contents",
   "toc_cell": false,
   "toc_position": {},
   "toc_section_display": true,
   "toc_window_display": false
  }
 },
 "nbformat": 4,
 "nbformat_minor": 1
}
