{
 "cells": [
  {
   "cell_type": "code",
   "execution_count": 37,
   "metadata": {},
   "outputs": [],
   "source": [
    "import numpy as np\n",
    "from numpy.linalg import inv\n",
    "import pandas as pd\n",
    "from scipy import stats\n",
    "import statsmodels.api as sm\n",
    "from scipy.optimize import minimize\n",
    "import matplotlib.pyplot as plt\n",
    "from matplotlib import colormaps\n",
    "from matplotlib import colormaps\n",
    "from ipywidgets import interact, widgets\n",
    "import time\n",
    "import seaborn as sns"
   ]
  },
  {
   "cell_type": "code",
   "execution_count": 29,
   "metadata": {
    "scrolled": true
   },
   "outputs": [
    {
     "data": {
      "text/plain": "            CAMPBELL SOUP - TOT RETURN IND (~U$) (#T) - CAMPBELL SOUP - TOT RETURN IND (~U$) (#T)  \\\nDate                                                                                                \n1999-01-01                                            6625.85                                       \n1999-01-04                                            6497.85                                       \n1999-01-05                                            6671.03                                       \n1999-01-06                                            6607.78                                       \n1999-01-07                                            6517.05                                       \n...                                                       ...                                       \n2022-12-26                                           13531.69                                       \n2022-12-27                                           13595.48                                       \n2022-12-28                                           13474.99                                       \n2022-12-29                                           13397.04                                       \n2022-12-30                                           13406.48                                       \n\n            APARTMENT INV.& MAN.'A' - TOT RETURN IND (~U$) (#T) - APARTMENT INV.& MAN.'A' - TOT RETURN IND (~U$) (#T)  \\\nDate                                                                                                                    \n1999-01-01                                             276.80                                                           \n1999-01-04                                             280.98                                                           \n1999-01-05                                             280.52                                                           \n1999-01-06                                             281.91                                                           \n1999-01-07                                             275.40                                                           \n...                                                       ...                                                           \n2022-12-26                                            2299.70                                                           \n2022-12-27                                            2236.86                                                           \n2022-12-28                                            2202.31                                                           \n2022-12-29                                            2258.86                                                           \n2022-12-30                                            2236.86                                                           \n\n            WILLIAMS - TOT RETURN IND (~U$) (#T) - WILLIAMS - TOT RETURN IND (~U$) (#T)  \\\nDate                                                                                      \n1999-01-01                                            1874.56                             \n1999-01-04                                            1814.45                             \n1999-01-05                                            1795.67                             \n1999-01-06                                            1852.02                             \n1999-01-07                                            1852.02                             \n...                                                       ...                             \n2022-12-26                                            6271.60                             \n2022-12-27                                            6288.54                             \n2022-12-28                                            6158.66                             \n2022-12-29                                            6205.72                             \n2022-12-30                                            6192.54                             \n\n            TNSC.'A' SBVTG. - TOT RETURN IND (~U$) (#T) - TNSC.'A' SBVTG. - TOT RETURN IND (~U$) (#T)  \\\nDate                                                                                                    \n1999-01-01                                             153.56                                           \n1999-01-04                                             158.25                                           \n1999-01-05                                             154.96                                           \n1999-01-06                                             154.55                                           \n1999-01-07                                             153.77                                           \n...                                                       ...                                           \n2022-12-26                                             768.72                                           \n2022-12-27                                             773.71                                           \n2022-12-28                                             764.53                                           \n2022-12-29                                             777.76                                           \n2022-12-30                                             772.29                                           \n\n            XEROX HOLDINGS - TOT RETURN IND (~U$) (#T) - XEROX HOLDINGS - TOT RETURN IND (~U$) (#T)  \\\nDate                                                                                                  \n1999-01-01                                             678.75                                         \n1999-01-04                                             677.31                                         \n1999-01-05                                             690.25                                         \n1999-01-06                                             703.55                                         \n1999-01-07                                             700.32                                         \n...                                                       ...                                         \n2022-12-26                                             106.71                                         \n2022-12-27                                             107.37                                         \n2022-12-28                                             104.95                                         \n2022-12-29                                             107.66                                         \n2022-12-30                                             108.47                                         \n\n            UNIVERSAL HEALTH SVS.'B' - TOT RETURN IND (~U$) (#T) - UNIVERSAL HEALTH SVS.'B' - TOT RETURN IND (~U$) (#T)  \\\nDate                                                                                                                      \n1999-01-01                                            1024.69                                                             \n1999-01-04                                            1041.98                                                             \n1999-01-05                                            1046.91                                                             \n1999-01-06                                            1045.68                                                             \n1999-01-07                                            1016.05                                                             \n...                                                       ...                                                             \n2022-12-26                                           12286.12                                                             \n2022-12-27                                           12329.76                                                             \n2022-12-28                                           12164.79                                                             \n2022-12-29                                           12288.73                                                             \n2022-12-30                                           12297.46                                                             \n\n            RAYTHEON TECHNOLOGIES - TOT RETURN IND (~U$) (#T) - RAYTHEON TECHNOLOGIES - TOT RETURN IND (~U$) (#T)  \\\nDate                                                                                                                \n1999-01-01                                            5332.55                                                       \n1999-01-04                                            5295.77                                                       \n1999-01-05                                            5452.07                                                       \n1999-01-06                                            5510.30                                                       \n1999-01-07                                            5452.07                                                       \n...                                                       ...                                                       \n2022-12-26                                           54026.43                                                       \n2022-12-27                                           54222.30                                                       \n2022-12-28                                           53939.38                                                       \n2022-12-29                                           54586.83                                                       \n2022-12-30                                           54907.83                                                       \n\n            SCHNITZER STL.INDS. - TOT RETURN IND (~U$) (#T) - SCHNITZER STL.INDS. - TOT RETURN IND (~U$) (#T)  \\\nDate                                                                                                            \n1999-01-01                                              78.79                                                   \n1999-01-04                                              80.84                                                   \n1999-01-05                                              81.53                                                   \n1999-01-06                                              84.95                                                   \n1999-01-07                                              84.27                                                   \n...                                                       ...                                                   \n2022-12-26                                             758.56                                                   \n2022-12-27                                             783.32                                                   \n2022-12-28                                             759.05                                                   \n2022-12-29                                             767.63                                                   \n2022-12-30                                             751.45                                                   \n\n            NETAPP - TOT RETURN IND (~U$) (#T) - NETAPP - TOT RETURN IND (~U$) (#T)  \\\nDate                                                                                  \n1999-01-01                                             875.00                         \n1999-01-04                                             878.05                         \n1999-01-05                                             875.61                         \n1999-01-06                                             895.12                         \n1999-01-07                                             902.44                         \n...                                                       ...                         \n2022-12-26                                            5799.57                         \n2022-12-27                                            5800.55                         \n2022-12-28                                            5715.09                         \n2022-12-29                                            5902.71                         \n2022-12-30                                            5899.77                         \n\n            COPART - TOT RETURN IND (~U$) (#T) - COPART - TOT RETURN IND (~U$) (#T)  \\\nDate                                                                                  \n1999-01-01                                             221.37                         \n1999-01-04                                             199.15                         \n1999-01-05                                             194.02                         \n1999-01-06                                             200.00                         \n1999-01-07                                             198.29                         \n...                                                       ...                         \n2022-12-26                                           19859.69                         \n2022-12-27                                           19721.84                         \n2022-12-28                                           19679.18                         \n2022-12-29                                           20096.00                         \n2022-12-30                                           19984.41                         \n\n            ...  \\\nDate        ...   \n1999-01-01  ...   \n1999-01-04  ...   \n1999-01-05  ...   \n1999-01-06  ...   \n1999-01-07  ...   \n...         ...   \n2022-12-26  ...   \n2022-12-27  ...   \n2022-12-28  ...   \n2022-12-29  ...   \n2022-12-30  ...   \n\n            STATE STREET - TOT RETURN IND (~U$) (#T) - STATE STREET - TOT RETURN IND (~U$) (#T)  \\\nDate                                                                                              \n1999-01-01                                           25101.16                                     \n1999-01-04                                           25324.87                                     \n1999-01-05                                           25861.80                                     \n1999-01-06                                           26667.18                                     \n1999-01-07                                           26532.95                                     \n...                                                       ...                                     \n2022-12-26                                           81869.00                                     \n2022-12-27                                           81509.75                                     \n2022-12-28                                           81182.25                                     \n2022-12-29                                           82767.00                                     \n2022-12-30                                           82619.13                                     \n\n            RAYONIER - TOT RETURN IND (~U$) (#T) - RAYONIER - TOT RETURN IND (~U$) (#T)  \\\nDate                                                                                      \n1999-01-01                                             168.23                             \n1999-01-04                                             166.85                             \n1999-01-05                                             167.31                             \n1999-01-06                                             168.46                             \n1999-01-07                                             166.62                             \n...                                                       ...                             \n2022-12-26                                            1449.70                             \n2022-12-27                                            1454.87                             \n2022-12-28                                            1397.22                             \n2022-12-29                                            1437.66                             \n2022-12-30                                            1417.87                             \n\n            S&P GLOBAL - TOT RETURN IND (~U$) (#T) - S&P GLOBAL - TOT RETURN IND (~U$) (#T)  \\\nDate                                                                                          \n1999-01-01                                            6506.60                                 \n1999-01-04                                            6614.38                                 \n1999-01-05                                            6738.13                                 \n1999-01-06                                            6841.91                                 \n1999-01-07                                            6857.88                                 \n...                                                       ...                                 \n2022-12-26                                          131815.80                                 \n2022-12-27                                          131174.50                                 \n2022-12-28                                          130493.50                                 \n2022-12-29                                          134535.80                                 \n2022-12-30                                          132607.60                                 \n\n            SYNOVUS FINANCIAL - TOT RETURN IND (~U$) (#T) - SYNOVUS FINANCIAL - TOT RETURN IND (~U$) (#T)  \\\nDate                                                                                                        \n1999-01-01                                            4878.04                                               \n1999-01-04                                            4865.33                                               \n1999-01-05                                            4966.96                                               \n1999-01-06                                            5068.58                                               \n1999-01-07                                            4827.22                                               \n...                                                       ...                                               \n2022-12-26                                            4374.88                                               \n2022-12-27                                            4404.78                                               \n2022-12-28                                            4379.66                                               \n2022-12-29                                            4478.93                                               \n2022-12-30                                            4490.89                                               \n\n            FORTIS - TOT RETURN IND (~U$) (#T) - FORTIS - TOT RETURN IND (~U$) (#T)  \\\nDate                                                                                  \n1999-01-01                                             254.19                         \n1999-01-04                                             252.98                         \n1999-01-05                                             256.35                         \n1999-01-06                                             260.95                         \n1999-01-07                                             266.59                         \n...                                                       ...                         \n2022-12-26                                            4149.85                         \n2022-12-27                                            4176.78                         \n2022-12-28                                            4112.86                         \n2022-12-29                                            4125.64                         \n2022-12-30                                            4092.25                         \n\n            FREEHOLD ROYALTIES - TOT RETURN IND (~U$) (#T) - FREEHOLD ROYALTIES - TOT RETURN IND (~U$) (#T)  \\\nDate                                                                                                          \n1999-01-01                                              33.86                                                 \n1999-01-04                                              34.41                                                 \n1999-01-05                                              34.73                                                 \n1999-01-06                                              35.38                                                 \n1999-01-07                                              36.87                                                 \n...                                                       ...                                                 \n2022-12-26                                            1465.38                                                 \n2022-12-27                                            1474.89                                                 \n2022-12-28                                            1424.19                                                 \n2022-12-29                                            1440.82                                                 \n2022-12-30                                            1451.13                                                 \n\n            CHEESECAKE FACTORY - TOT RETURN IND (~U$) (#T) - CHEESECAKE FACTORY - TOT RETURN IND (~U$) (#T)  \\\nDate                                                                                                          \n1999-01-01                                             244.84                                                 \n1999-01-04                                             234.27                                                 \n1999-01-05                                             233.23                                                 \n1999-01-06                                             231.17                                                 \n1999-01-07                                             222.40                                                 \n...                                                       ...                                                 \n2022-12-26                                            1066.24                                                 \n2022-12-27                                            1052.60                                                 \n2022-12-28                                            1048.94                                                 \n2022-12-29                                            1057.26                                                 \n2022-12-30                                            1054.60                                                 \n\n            ROYAL CARIBBEAN GROUP - TOT RETURN IND (~U$) (#T) - ROYAL CARIBBEAN GROUP - TOT RETURN IND (~U$) (#T)  \\\nDate                                                                                                                \n1999-01-01                                             441.26                                                       \n1999-01-04                                             420.40                                                       \n1999-01-05                                             436.82                                                       \n1999-01-06                                             459.20                                                       \n1999-01-07                                             448.78                                                       \n...                                                       ...                                                       \n2022-12-26                                             858.25                                                       \n2022-12-27                                             842.91                                                       \n2022-12-28                                             827.40                                                       \n2022-12-29                                             858.43                                                       \n2022-12-30                                             852.05                                                       \n\n            ENTERPRISE PRDS.PTNS.LP. - TOT RETURN IND (~U$) (#T) - ENTERPRISE PRDS.PTNS.LP. - TOT RETURN IND (~U$) (#T)  \\\nDate                                                                                                                      \n1999-01-01                                              70.31                                                             \n1999-01-04                                              76.22                                                             \n1999-01-05                                              79.17                                                             \n1999-01-06                                              83.31                                                             \n1999-01-07                                              82.72                                                             \n...                                                       ...                                                             \n2022-12-26                                            2220.63                                                             \n2022-12-27                                            2233.61                                                             \n2022-12-28                                            2203.01                                                             \n2022-12-29                                            2245.66                                                             \n2022-12-30                                            2236.39                                                             \n\n            SUPERIOR PLUS - TOT RETURN IND (~U$) (#T) - SUPERIOR PLUS - TOT RETURN IND (~U$) (#T)  \nDate                                                                                               \n1999-01-01                                              94.26                                      \n1999-01-04                                              95.57                                      \n1999-01-05                                              95.83                                      \n1999-01-06                                              97.19                                      \n1999-01-07                                              97.02                                      \n...                                                       ...                                      \n2022-12-26                                             662.87                                      \n2022-12-27                                             667.17                                      \n2022-12-28                                             663.93                                      \n2022-12-29                                             682.92                                      \n2022-12-30                                             679.06                                      \n\n[6261 rows x 90 columns]",
      "text/html": "<div>\n<style scoped>\n    .dataframe tbody tr th:only-of-type {\n        vertical-align: middle;\n    }\n\n    .dataframe tbody tr th {\n        vertical-align: top;\n    }\n\n    .dataframe thead th {\n        text-align: right;\n    }\n</style>\n<table border=\"1\" class=\"dataframe\">\n  <thead>\n    <tr style=\"text-align: right;\">\n      <th></th>\n      <th>CAMPBELL SOUP - TOT RETURN IND (~U$) (#T) - CAMPBELL SOUP - TOT RETURN IND (~U$) (#T)</th>\n      <th>APARTMENT INV.&amp; MAN.'A' - TOT RETURN IND (~U$) (#T) - APARTMENT INV.&amp; MAN.'A' - TOT RETURN IND (~U$) (#T)</th>\n      <th>WILLIAMS - TOT RETURN IND (~U$) (#T) - WILLIAMS - TOT RETURN IND (~U$) (#T)</th>\n      <th>TNSC.'A' SBVTG. - TOT RETURN IND (~U$) (#T) - TNSC.'A' SBVTG. - TOT RETURN IND (~U$) (#T)</th>\n      <th>XEROX HOLDINGS - TOT RETURN IND (~U$) (#T) - XEROX HOLDINGS - TOT RETURN IND (~U$) (#T)</th>\n      <th>UNIVERSAL HEALTH SVS.'B' - TOT RETURN IND (~U$) (#T) - UNIVERSAL HEALTH SVS.'B' - TOT RETURN IND (~U$) (#T)</th>\n      <th>RAYTHEON TECHNOLOGIES - TOT RETURN IND (~U$) (#T) - RAYTHEON TECHNOLOGIES - TOT RETURN IND (~U$) (#T)</th>\n      <th>SCHNITZER STL.INDS. - TOT RETURN IND (~U$) (#T) - SCHNITZER STL.INDS. - TOT RETURN IND (~U$) (#T)</th>\n      <th>NETAPP - TOT RETURN IND (~U$) (#T) - NETAPP - TOT RETURN IND (~U$) (#T)</th>\n      <th>COPART - TOT RETURN IND (~U$) (#T) - COPART - TOT RETURN IND (~U$) (#T)</th>\n      <th>...</th>\n      <th>STATE STREET - TOT RETURN IND (~U$) (#T) - STATE STREET - TOT RETURN IND (~U$) (#T)</th>\n      <th>RAYONIER - TOT RETURN IND (~U$) (#T) - RAYONIER - TOT RETURN IND (~U$) (#T)</th>\n      <th>S&amp;P GLOBAL - TOT RETURN IND (~U$) (#T) - S&amp;P GLOBAL - TOT RETURN IND (~U$) (#T)</th>\n      <th>SYNOVUS FINANCIAL - TOT RETURN IND (~U$) (#T) - SYNOVUS FINANCIAL - TOT RETURN IND (~U$) (#T)</th>\n      <th>FORTIS - TOT RETURN IND (~U$) (#T) - FORTIS - TOT RETURN IND (~U$) (#T)</th>\n      <th>FREEHOLD ROYALTIES - TOT RETURN IND (~U$) (#T) - FREEHOLD ROYALTIES - TOT RETURN IND (~U$) (#T)</th>\n      <th>CHEESECAKE FACTORY - TOT RETURN IND (~U$) (#T) - CHEESECAKE FACTORY - TOT RETURN IND (~U$) (#T)</th>\n      <th>ROYAL CARIBBEAN GROUP - TOT RETURN IND (~U$) (#T) - ROYAL CARIBBEAN GROUP - TOT RETURN IND (~U$) (#T)</th>\n      <th>ENTERPRISE PRDS.PTNS.LP. - TOT RETURN IND (~U$) (#T) - ENTERPRISE PRDS.PTNS.LP. - TOT RETURN IND (~U$) (#T)</th>\n      <th>SUPERIOR PLUS - TOT RETURN IND (~U$) (#T) - SUPERIOR PLUS - TOT RETURN IND (~U$) (#T)</th>\n    </tr>\n    <tr>\n      <th>Date</th>\n      <th></th>\n      <th></th>\n      <th></th>\n      <th></th>\n      <th></th>\n      <th></th>\n      <th></th>\n      <th></th>\n      <th></th>\n      <th></th>\n      <th></th>\n      <th></th>\n      <th></th>\n      <th></th>\n      <th></th>\n      <th></th>\n      <th></th>\n      <th></th>\n      <th></th>\n      <th></th>\n      <th></th>\n    </tr>\n  </thead>\n  <tbody>\n    <tr>\n      <th>1999-01-01</th>\n      <td>6625.85</td>\n      <td>276.80</td>\n      <td>1874.56</td>\n      <td>153.56</td>\n      <td>678.75</td>\n      <td>1024.69</td>\n      <td>5332.55</td>\n      <td>78.79</td>\n      <td>875.00</td>\n      <td>221.37</td>\n      <td>...</td>\n      <td>25101.16</td>\n      <td>168.23</td>\n      <td>6506.60</td>\n      <td>4878.04</td>\n      <td>254.19</td>\n      <td>33.86</td>\n      <td>244.84</td>\n      <td>441.26</td>\n      <td>70.31</td>\n      <td>94.26</td>\n    </tr>\n    <tr>\n      <th>1999-01-04</th>\n      <td>6497.85</td>\n      <td>280.98</td>\n      <td>1814.45</td>\n      <td>158.25</td>\n      <td>677.31</td>\n      <td>1041.98</td>\n      <td>5295.77</td>\n      <td>80.84</td>\n      <td>878.05</td>\n      <td>199.15</td>\n      <td>...</td>\n      <td>25324.87</td>\n      <td>166.85</td>\n      <td>6614.38</td>\n      <td>4865.33</td>\n      <td>252.98</td>\n      <td>34.41</td>\n      <td>234.27</td>\n      <td>420.40</td>\n      <td>76.22</td>\n      <td>95.57</td>\n    </tr>\n    <tr>\n      <th>1999-01-05</th>\n      <td>6671.03</td>\n      <td>280.52</td>\n      <td>1795.67</td>\n      <td>154.96</td>\n      <td>690.25</td>\n      <td>1046.91</td>\n      <td>5452.07</td>\n      <td>81.53</td>\n      <td>875.61</td>\n      <td>194.02</td>\n      <td>...</td>\n      <td>25861.80</td>\n      <td>167.31</td>\n      <td>6738.13</td>\n      <td>4966.96</td>\n      <td>256.35</td>\n      <td>34.73</td>\n      <td>233.23</td>\n      <td>436.82</td>\n      <td>79.17</td>\n      <td>95.83</td>\n    </tr>\n    <tr>\n      <th>1999-01-06</th>\n      <td>6607.78</td>\n      <td>281.91</td>\n      <td>1852.02</td>\n      <td>154.55</td>\n      <td>703.55</td>\n      <td>1045.68</td>\n      <td>5510.30</td>\n      <td>84.95</td>\n      <td>895.12</td>\n      <td>200.00</td>\n      <td>...</td>\n      <td>26667.18</td>\n      <td>168.46</td>\n      <td>6841.91</td>\n      <td>5068.58</td>\n      <td>260.95</td>\n      <td>35.38</td>\n      <td>231.17</td>\n      <td>459.20</td>\n      <td>83.31</td>\n      <td>97.19</td>\n    </tr>\n    <tr>\n      <th>1999-01-07</th>\n      <td>6517.05</td>\n      <td>275.40</td>\n      <td>1852.02</td>\n      <td>153.77</td>\n      <td>700.32</td>\n      <td>1016.05</td>\n      <td>5452.07</td>\n      <td>84.27</td>\n      <td>902.44</td>\n      <td>198.29</td>\n      <td>...</td>\n      <td>26532.95</td>\n      <td>166.62</td>\n      <td>6857.88</td>\n      <td>4827.22</td>\n      <td>266.59</td>\n      <td>36.87</td>\n      <td>222.40</td>\n      <td>448.78</td>\n      <td>82.72</td>\n      <td>97.02</td>\n    </tr>\n    <tr>\n      <th>...</th>\n      <td>...</td>\n      <td>...</td>\n      <td>...</td>\n      <td>...</td>\n      <td>...</td>\n      <td>...</td>\n      <td>...</td>\n      <td>...</td>\n      <td>...</td>\n      <td>...</td>\n      <td>...</td>\n      <td>...</td>\n      <td>...</td>\n      <td>...</td>\n      <td>...</td>\n      <td>...</td>\n      <td>...</td>\n      <td>...</td>\n      <td>...</td>\n      <td>...</td>\n      <td>...</td>\n    </tr>\n    <tr>\n      <th>2022-12-26</th>\n      <td>13531.69</td>\n      <td>2299.70</td>\n      <td>6271.60</td>\n      <td>768.72</td>\n      <td>106.71</td>\n      <td>12286.12</td>\n      <td>54026.43</td>\n      <td>758.56</td>\n      <td>5799.57</td>\n      <td>19859.69</td>\n      <td>...</td>\n      <td>81869.00</td>\n      <td>1449.70</td>\n      <td>131815.80</td>\n      <td>4374.88</td>\n      <td>4149.85</td>\n      <td>1465.38</td>\n      <td>1066.24</td>\n      <td>858.25</td>\n      <td>2220.63</td>\n      <td>662.87</td>\n    </tr>\n    <tr>\n      <th>2022-12-27</th>\n      <td>13595.48</td>\n      <td>2236.86</td>\n      <td>6288.54</td>\n      <td>773.71</td>\n      <td>107.37</td>\n      <td>12329.76</td>\n      <td>54222.30</td>\n      <td>783.32</td>\n      <td>5800.55</td>\n      <td>19721.84</td>\n      <td>...</td>\n      <td>81509.75</td>\n      <td>1454.87</td>\n      <td>131174.50</td>\n      <td>4404.78</td>\n      <td>4176.78</td>\n      <td>1474.89</td>\n      <td>1052.60</td>\n      <td>842.91</td>\n      <td>2233.61</td>\n      <td>667.17</td>\n    </tr>\n    <tr>\n      <th>2022-12-28</th>\n      <td>13474.99</td>\n      <td>2202.31</td>\n      <td>6158.66</td>\n      <td>764.53</td>\n      <td>104.95</td>\n      <td>12164.79</td>\n      <td>53939.38</td>\n      <td>759.05</td>\n      <td>5715.09</td>\n      <td>19679.18</td>\n      <td>...</td>\n      <td>81182.25</td>\n      <td>1397.22</td>\n      <td>130493.50</td>\n      <td>4379.66</td>\n      <td>4112.86</td>\n      <td>1424.19</td>\n      <td>1048.94</td>\n      <td>827.40</td>\n      <td>2203.01</td>\n      <td>663.93</td>\n    </tr>\n    <tr>\n      <th>2022-12-29</th>\n      <td>13397.04</td>\n      <td>2258.86</td>\n      <td>6205.72</td>\n      <td>777.76</td>\n      <td>107.66</td>\n      <td>12288.73</td>\n      <td>54586.83</td>\n      <td>767.63</td>\n      <td>5902.71</td>\n      <td>20096.00</td>\n      <td>...</td>\n      <td>82767.00</td>\n      <td>1437.66</td>\n      <td>134535.80</td>\n      <td>4478.93</td>\n      <td>4125.64</td>\n      <td>1440.82</td>\n      <td>1057.26</td>\n      <td>858.43</td>\n      <td>2245.66</td>\n      <td>682.92</td>\n    </tr>\n    <tr>\n      <th>2022-12-30</th>\n      <td>13406.48</td>\n      <td>2236.86</td>\n      <td>6192.54</td>\n      <td>772.29</td>\n      <td>108.47</td>\n      <td>12297.46</td>\n      <td>54907.83</td>\n      <td>751.45</td>\n      <td>5899.77</td>\n      <td>19984.41</td>\n      <td>...</td>\n      <td>82619.13</td>\n      <td>1417.87</td>\n      <td>132607.60</td>\n      <td>4490.89</td>\n      <td>4092.25</td>\n      <td>1451.13</td>\n      <td>1054.60</td>\n      <td>852.05</td>\n      <td>2236.39</td>\n      <td>679.06</td>\n    </tr>\n  </tbody>\n</table>\n<p>6261 rows × 90 columns</p>\n</div>"
     },
     "execution_count": 29,
     "metadata": {},
     "output_type": "execute_result"
    }
   ],
   "source": [
    "market_cap = pd.read_excel('Group_G copy.xlsx', sheet_name=1, index_col='Date')\n",
    "price_index = pd.read_excel('Group_G copy.xlsx', sheet_name=2, index_col='Date')\n",
    "revenue = pd.read_excel('Group_G copy.xlsx', sheet_name=3, index_col='Date')\n",
    "emission = pd.read_excel('Group_G copy.xlsx', sheet_name=4, index_col='Date')\n",
    "\n",
    "\n",
    "price_index = price_index.iloc[0:6261, :]\n",
    "price_index= price_index.dropna(axis=1)\n",
    "price_index"
   ]
  },
  {
   "cell_type": "code",
   "execution_count": 39,
   "metadata": {},
   "outputs": [],
   "source": [
    "price_index = price_index.resample('M').last()\n",
    "def assets_returns(assets, period, compounded=True):\n",
    "    if not compounded:\n",
    "        asset_return = (assets / assets.shift(periods=period)) - 1\n",
    "    elif compounded:\n",
    "        diff = assets / assets.shift(periods=period)\n",
    "        asset_return = np.log(diff.astype('float'))\n",
    "    return asset_return"
   ]
  },
  {
   "cell_type": "markdown",
   "metadata": {},
   "source": [
    "# Question 1"
   ]
  },
  {
   "cell_type": "code",
   "execution_count": 40,
   "metadata": {},
   "outputs": [],
   "source": [
    "### Describe the characteristics of the stocks\n",
    "simple_return = assets_returns(price_index.loc[:, price_index.columns != 'Date'], period=1, compounded=False)\n",
    "simple_return.head(5)\n",
    "\n",
    "\n",
    "# create list to store mean, variance, skewness, kurtosis,max,min\n",
    "header = list(simple_return.columns.values)\n",
    "\n",
    "list_mean = list()\n",
    "annualized_mean = list()\n",
    "annualized_variance = list()\n",
    "variance = list()\n",
    "skewness = list()\n",
    "kurtosis = list()\n",
    "max_return = list()\n",
    "min_return = list()"
   ]
  },
  {
   "cell_type": "code",
   "execution_count": 41,
   "metadata": {},
   "outputs": [
    {
     "name": "stdout",
     "output_type": "stream",
     "text": [
      "Index(['CAMPBELL SOUP - TOT RETURN IND (~U$) (#T) - CAMPBELL SOUP - TOT RETURN IND (~U$) (#T)',\n",
      "       'APARTMENT INV.& MAN.'A' - TOT RETURN IND (~U$) (#T) - APARTMENT INV.& MAN.'A' - TOT RETURN IND (~U$) (#T)',\n",
      "       'WILLIAMS - TOT RETURN IND (~U$) (#T) - WILLIAMS - TOT RETURN IND (~U$) (#T)',\n",
      "       'TNSC.'A' SBVTG. - TOT RETURN IND (~U$) (#T) - TNSC.'A' SBVTG. - TOT RETURN IND (~U$) (#T)',\n",
      "       'BREAD FINANCIAL HOLDINGS - TOT RETURN IND (~U$) (#T) - BREAD FINANCIAL HOLDINGS - TOT RETURN IND (~U$) (#T)',\n",
      "       'NASDAQ - TOT RETURN IND (~U$) (#T) - NASDAQ - TOT RETURN IND (~U$) (#T)',\n",
      "       'XEROX HOLDINGS - TOT RETURN IND (~U$) (#T) - XEROX HOLDINGS - TOT RETURN IND (~U$) (#T)',\n",
      "       'UNIVERSAL HEALTH SVS.'B' - TOT RETURN IND (~U$) (#T) - UNIVERSAL HEALTH SVS.'B' - TOT RETURN IND (~U$) (#T)',\n",
      "       'RAYTHEON TECHNOLOGIES - TOT RETURN IND (~U$) (#T) - RAYTHEON TECHNOLOGIES - TOT RETURN IND (~U$) (#T)',\n",
      "       'SCHNITZER STL.INDS. - TOT RETURN IND (~U$) (#T) - SCHNITZER STL.INDS. - TOT RETURN IND (~U$) (#T)',\n",
      "       ...\n",
      "       'WSP GLOBAL - TOT RETURN IND (~U$) (#T) - WSP GLOBAL - TOT RETURN IND (~U$) (#T)',\n",
      "       'CHIMERA INVESTMENT - TOT RETURN IND (~U$) (#T) - CHIMERA INVESTMENT - TOT RETURN IND (~U$) (#T)',\n",
      "       'SYNOVUS FINANCIAL - TOT RETURN IND (~U$) (#T) - SYNOVUS FINANCIAL - TOT RETURN IND (~U$) (#T)',\n",
      "       'FORTIS - TOT RETURN IND (~U$) (#T) - FORTIS - TOT RETURN IND (~U$) (#T)',\n",
      "       'FREEHOLD ROYALTIES - TOT RETURN IND (~U$) (#T) - FREEHOLD ROYALTIES - TOT RETURN IND (~U$) (#T)',\n",
      "       'CHEESECAKE FACTORY - TOT RETURN IND (~U$) (#T) - CHEESECAKE FACTORY - TOT RETURN IND (~U$) (#T)',\n",
      "       'ROYAL CARIBBEAN GROUP - TOT RETURN IND (~U$) (#T) - ROYAL CARIBBEAN GROUP - TOT RETURN IND (~U$) (#T)',\n",
      "       'ENTERPRISE PRDS.PTNS.LP. - TOT RETURN IND (~U$) (#T) - ENTERPRISE PRDS.PTNS.LP. - TOT RETURN IND (~U$) (#T)',\n",
      "       'BIRCHCLIFF ENERGY - TOT RETURN IND (~U$) (#T) - BIRCHCLIFF ENERGY - TOT RETURN IND (~U$) (#T)',\n",
      "       'SUPERIOR PLUS - TOT RETURN IND (~U$) (#T) - SUPERIOR PLUS - TOT RETURN IND (~U$) (#T)'],\n",
      "      dtype='object', length=129)\n"
     ]
    }
   ],
   "source": [
    "# compute mean, variance, kurtosis, skewness\n",
    "for columns in range(simple_return.shape[1]):\n",
    "        \n",
    "    list_mean.append(simple_return.iloc[:, columns].mean())\n",
    "    annualized_mean.append((1+simple_return.iloc[:, columns].mean())**(12)-1)\n",
    "    annualized_std_deviation = np.sqrt(12) * simple_return.iloc[:, columns].std()\n",
    "    annualized_variance.append((1+simple_return.iloc[:, columns].var())**(12)-1)\n",
    "    variance.append((simple_return.iloc[:, columns].var()))\n",
    "    skewness.append(simple_return.iloc[:, columns].skew())\n",
    "    kurtosis.append(simple_return.iloc[:, columns].kurt()+3)\n",
    "    max_return.append(simple_return.iloc[:, columns].max())\n",
    "    min_return.append(simple_return.iloc[:, columns].min())\n",
    "    \n",
    "characteristics = [list_mean, annualized_mean,  variance,annualized_variance, skewness, kurtosis, max_return, min_return]\n",
    "chara_index = ['Simple Mean', 'Annualized Mean', 'Variance','Annualized Variance', 'Skewness', 'Kurtosis', 'Max return', 'Min return']\n",
    "df_characteristics = pd.DataFrame(characteristics, columns = header, index = chara_index)\n",
    "df_characteristics.T.head(10)\n",
    "print(df_characteristics.columns)\n",
    "import matplotlib.pyplot as plt\n",
    "df_transposed = df_characteristics.transpose()"
   ]
  },
  {
   "cell_type": "code",
   "execution_count": 42,
   "metadata": {
    "scrolled": false
   },
   "outputs": [
    {
     "data": {
      "image/png": "[encoded data removed]",
      "text/plain": [
       "<Figure size 500x400 with 1 Axes>"
      ]
     },
     "metadata": {},
     "output_type": "display_data"
    }
   ],
   "source": [
    "# plot returns\n",
    "\n",
    "labels=list(simple_return)\n",
    "\n",
    "fig, ax = plt.subplots(figsize=(5,4))\n",
    "cm = colormaps['plasma']\n",
    "colors = [cm(i/len(labels)) for i in range(len(labels))]\n",
    "\n",
    "annualized_mean = simple_return.mean()*252\n",
    "\n",
    "ax.bar(labels, annualized_mean, color=colors, label=[i.split('-')[0] for i in labels])\n",
    "ax.set_xticks([])\n",
    "ax.set_xlabel('Firms')\n",
    "ax.set_ylabel('Return%')\n",
    "# ax.legend(loc='center', bbox_to_anchor=(0.5, -0.55), fontsize=5, ncol=5)\n",
    "# ax.set_title('Average returns')\n",
    "\n",
    "plt.tight_layout()\n",
    "fig.savefig('average_returns.pdf')"
   ]
  },
  {
   "cell_type": "code",
   "execution_count": 43,
   "metadata": {},
   "outputs": [
    {
     "data": {
      "image/png": "[encoded data removed]",
      "text/plain": [
       "<Figure size 500x400 with 1 Axes>"
      ]
     },
     "metadata": {},
     "output_type": "display_data"
    }
   ],
   "source": [
    "# plot volatility\n",
    "\n",
    "labels=list(simple_return)\n",
    "\n",
    "fig, ax = plt.subplots(figsize=(5, 4))\n",
    "cm = colormaps['plasma']\n",
    "colors = [cm(i/len(labels)) for i in range(len(labels))]\n",
    "\n",
    "ax.bar(labels,\n",
    "       simple_return.std() * np.sqrt(252),\n",
    "#        np.power(np.diag(Sigma),0.5)*np.power(12,.5),\n",
    "       color=colors, label=[i.split('-')[0] for i in labels])\n",
    "ax.set_xticks([])\n",
    "ax.set_xlabel('Firms')\n",
    "ax.set_ylabel('Standard Deviation')\n",
    "# ax.legend(loc='center', bbox_to_anchor=(0.5, -0.55), fontsize=5, ncol=5)\n",
    "# ax.set_title('Volatility')\n",
    "\n",
    "plt.tight_layout()\n",
    "fig.savefig('average_volatility.pdf')"
   ]
  },
  {
   "cell_type": "code",
   "execution_count": 44,
   "metadata": {},
   "outputs": [
    {
     "data": {
      "image/png": "[encoded data removed]",
      "text/plain": [
       "<Figure size 640x480 with 1 Axes>"
      ]
     },
     "metadata": {},
     "output_type": "display_data"
    },
    {
     "data": {
      "text/plain": [
       "<Figure size 640x480 with 0 Axes>"
      ]
     },
     "metadata": {},
     "output_type": "display_data"
    }
   ],
   "source": [
    "# Create the figure and axis objects\n",
    "fig, ax = plt.subplots()\n",
    "\n",
    "# Plot the scatter points for each company\n",
    "ax.scatter(df_transposed['Annualized Mean'], df_transposed['Annualized Variance'], alpha=0.5)\n",
    "\n",
    "# Set the axis labels\n",
    "ax.set_xlabel('Annualized Mean')\n",
    "ax.set_ylabel('Annualized Variance')\n",
    "\n",
    "# Set the title of the plot\n",
    "# ax.set_title('Annualized Mean vs Annualized Variance for 149 Companies')\n",
    "\n",
    "# Show the plot\n",
    "plt.show()\n",
    "plt.tight_layout()\n",
    "fig.savefig('annualized_mean_vs_var.pdf')"
   ]
  },
  {
   "cell_type": "code",
   "execution_count": 45,
   "metadata": {},
   "outputs": [
    {
     "data": {
      "image/png": "[encoded data removed]",
      "text/plain": [
       "<Figure size 400x500 with 1 Axes>"
      ]
     },
     "metadata": {},
     "output_type": "display_data"
    }
   ],
   "source": [
    "from scipy.stats import chi2\n",
    "\n",
    "skew_return = simple_return.skew()\n",
    "kurt_return = simple_return.kurt()+3\n",
    "\n",
    "n = len(kurt_return)\n",
    "\n",
    "# H0: Skewness = 0 and Kurtosis = 3\n",
    "# We reject H0 if the JB statistic is greater than a chi-squared with 2 DF\n",
    "# chi-squared(2) =5.99 at 95% significance \n",
    "\n",
    "JB_test = (n/6)*(skew_return**2 + (kurt_return-3)**2 / 4)\n",
    "jb_pvalue = 1 - chi2.cdf(JB_test, df=2)\n",
    "\n",
    "# generate a new serie with the result of the test reject normality if > 5.99\n",
    "JB_result = pd.Series( dtype = np.float64 )\n",
    "for firm in header:\n",
    "    if JB_test[firm] < 5.99:\n",
    "        JB_result[firm] = 'normal'\n",
    "    else:\n",
    "        JB_result[firm] = 'reject'\n",
    "        \n",
    "        \n",
    "# JB_result[JB_result=='normal'] # print firms that passed the test\n",
    "\n",
    "x =0\n",
    "for i in range(len(JB_result)):\n",
    "    if JB_result.iloc[i] == 'reject':\n",
    "        x += 1\n",
    "\n",
    "data = [x/len(JB_result),(len(JB_result)-x)/len(JB_result) ]\n",
    "\n",
    "color1 = sns.color_palette('bright')[3]\n",
    "color2 = sns.color_palette('bright')[0]\n",
    "labels = ['Reject','Non-Reject']\n",
    "plt.figure(figsize=(4,5))\n",
    "plt.bar(labels,list(np.array(data)*100), width=0.3, color=(color1,color2))\n",
    "plt.yticks(np.arange(0, 101, 10))\n",
    "# plt.title(\"Stocks returns rejecting the normality Jarque and Bera test \")\n",
    "\n",
    "plt.savefig('jb_testres.pdf')"
   ]
  },
  {
   "cell_type": "code",
   "execution_count": 46,
   "metadata": {},
   "outputs": [
    {
     "data": {
      "text/plain": [
       "CAMPBELL SOUP - TOT RETURN IND (~U$) (#T) - CAMPBELL SOUP - TOT RETURN IND (~U$) (#T)                         -0.116501\n",
       "APARTMENT INV.& MAN.'A' - TOT RETURN IND (~U$) (#T) - APARTMENT INV.& MAN.'A' - TOT RETURN IND (~U$) (#T)      0.559148\n",
       "WILLIAMS - TOT RETURN IND (~U$) (#T) - WILLIAMS - TOT RETURN IND (~U$) (#T)                                    0.012675\n",
       "TNSC.'A' SBVTG. - TOT RETURN IND (~U$) (#T) - TNSC.'A' SBVTG. - TOT RETURN IND (~U$) (#T)                      0.026937\n",
       "BREAD FINANCIAL HOLDINGS - TOT RETURN IND (~U$) (#T) - BREAD FINANCIAL HOLDINGS - TOT RETURN IND (~U$) (#T)   -0.179065\n",
       "                                                                                                                 ...   \n",
       "CHEESECAKE FACTORY - TOT RETURN IND (~U$) (#T) - CHEESECAKE FACTORY - TOT RETURN IND (~U$) (#T)               -0.748495\n",
       "ROYAL CARIBBEAN GROUP - TOT RETURN IND (~U$) (#T) - ROYAL CARIBBEAN GROUP - TOT RETURN IND (~U$) (#T)         -0.000988\n",
       "ENTERPRISE PRDS.PTNS.LP. - TOT RETURN IND (~U$) (#T) - ENTERPRISE PRDS.PTNS.LP. - TOT RETURN IND (~U$) (#T)   -0.899849\n",
       "BIRCHCLIFF ENERGY - TOT RETURN IND (~U$) (#T) - BIRCHCLIFF ENERGY - TOT RETURN IND (~U$) (#T)                  1.198097\n",
       "SUPERIOR PLUS - TOT RETURN IND (~U$) (#T) - SUPERIOR PLUS - TOT RETURN IND (~U$) (#T)                         -0.006615\n",
       "Length: 129, dtype: float64"
      ]
     },
     "execution_count": 46,
     "metadata": {},
     "output_type": "execute_result"
    }
   ],
   "source": [
    "skew_return"
   ]
  },
  {
   "cell_type": "code",
   "execution_count": 11,
   "metadata": {},
   "outputs": [
    {
     "data": {
      "text/html": [
       "<div>\n",
       "<style scoped>\n",
       "    .dataframe tbody tr th:only-of-type {\n",
       "        vertical-align: middle;\n",
       "    }\n",
       "\n",
       "    .dataframe tbody tr th {\n",
       "        vertical-align: top;\n",
       "    }\n",
       "\n",
       "    .dataframe thead th {\n",
       "        text-align: right;\n",
       "    }\n",
       "</style>\n",
       "<table border=\"1\" class=\"dataframe\">\n",
       "  <thead>\n",
       "    <tr style=\"text-align: right;\">\n",
       "      <th></th>\n",
       "      <th>CAMPBELL SOUP - TOT RETURN IND (~U$) (#T) - CAMPBELL SOUP - TOT RETURN IND (~U$) (#T)</th>\n",
       "      <th>APARTMENT INV.&amp; MAN.'A' - TOT RETURN IND (~U$) (#T) - APARTMENT INV.&amp; MAN.'A' - TOT RETURN IND (~U$) (#T)</th>\n",
       "      <th>WILLIAMS - TOT RETURN IND (~U$) (#T) - WILLIAMS - TOT RETURN IND (~U$) (#T)</th>\n",
       "      <th>TNSC.'A' SBVTG. - TOT RETURN IND (~U$) (#T) - TNSC.'A' SBVTG. - TOT RETURN IND (~U$) (#T)</th>\n",
       "      <th>BREAD FINANCIAL HOLDINGS - TOT RETURN IND (~U$) (#T) - BREAD FINANCIAL HOLDINGS - TOT RETURN IND (~U$) (#T)</th>\n",
       "      <th>NASDAQ - TOT RETURN IND (~U$) (#T) - NASDAQ - TOT RETURN IND (~U$) (#T)</th>\n",
       "      <th>XEROX HOLDINGS - TOT RETURN IND (~U$) (#T) - XEROX HOLDINGS - TOT RETURN IND (~U$) (#T)</th>\n",
       "      <th>UNIVERSAL HEALTH SVS.'B' - TOT RETURN IND (~U$) (#T) - UNIVERSAL HEALTH SVS.'B' - TOT RETURN IND (~U$) (#T)</th>\n",
       "      <th>RAYTHEON TECHNOLOGIES - TOT RETURN IND (~U$) (#T) - RAYTHEON TECHNOLOGIES - TOT RETURN IND (~U$) (#T)</th>\n",
       "      <th>SCHNITZER STL.INDS. - TOT RETURN IND (~U$) (#T) - SCHNITZER STL.INDS. - TOT RETURN IND (~U$) (#T)</th>\n",
       "      <th>...</th>\n",
       "      <th>WSP GLOBAL - TOT RETURN IND (~U$) (#T) - WSP GLOBAL - TOT RETURN IND (~U$) (#T)</th>\n",
       "      <th>CHIMERA INVESTMENT - TOT RETURN IND (~U$) (#T) - CHIMERA INVESTMENT - TOT RETURN IND (~U$) (#T)</th>\n",
       "      <th>SYNOVUS FINANCIAL - TOT RETURN IND (~U$) (#T) - SYNOVUS FINANCIAL - TOT RETURN IND (~U$) (#T)</th>\n",
       "      <th>FORTIS - TOT RETURN IND (~U$) (#T) - FORTIS - TOT RETURN IND (~U$) (#T)</th>\n",
       "      <th>FREEHOLD ROYALTIES - TOT RETURN IND (~U$) (#T) - FREEHOLD ROYALTIES - TOT RETURN IND (~U$) (#T)</th>\n",
       "      <th>CHEESECAKE FACTORY - TOT RETURN IND (~U$) (#T) - CHEESECAKE FACTORY - TOT RETURN IND (~U$) (#T)</th>\n",
       "      <th>ROYAL CARIBBEAN GROUP - TOT RETURN IND (~U$) (#T) - ROYAL CARIBBEAN GROUP - TOT RETURN IND (~U$) (#T)</th>\n",
       "      <th>ENTERPRISE PRDS.PTNS.LP. - TOT RETURN IND (~U$) (#T) - ENTERPRISE PRDS.PTNS.LP. - TOT RETURN IND (~U$) (#T)</th>\n",
       "      <th>BIRCHCLIFF ENERGY - TOT RETURN IND (~U$) (#T) - BIRCHCLIFF ENERGY - TOT RETURN IND (~U$) (#T)</th>\n",
       "      <th>SUPERIOR PLUS - TOT RETURN IND (~U$) (#T) - SUPERIOR PLUS - TOT RETURN IND (~U$) (#T)</th>\n",
       "    </tr>\n",
       "    <tr>\n",
       "      <th>Date</th>\n",
       "      <th></th>\n",
       "      <th></th>\n",
       "      <th></th>\n",
       "      <th></th>\n",
       "      <th></th>\n",
       "      <th></th>\n",
       "      <th></th>\n",
       "      <th></th>\n",
       "      <th></th>\n",
       "      <th></th>\n",
       "      <th></th>\n",
       "      <th></th>\n",
       "      <th></th>\n",
       "      <th></th>\n",
       "      <th></th>\n",
       "      <th></th>\n",
       "      <th></th>\n",
       "      <th></th>\n",
       "      <th></th>\n",
       "      <th></th>\n",
       "      <th></th>\n",
       "    </tr>\n",
       "  </thead>\n",
       "  <tbody>\n",
       "    <tr>\n",
       "      <th>2011-04-30</th>\n",
       "      <td>NaN</td>\n",
       "      <td>NaN</td>\n",
       "      <td>NaN</td>\n",
       "      <td>NaN</td>\n",
       "      <td>NaN</td>\n",
       "      <td>NaN</td>\n",
       "      <td>NaN</td>\n",
       "      <td>NaN</td>\n",
       "      <td>NaN</td>\n",
       "      <td>NaN</td>\n",
       "      <td>...</td>\n",
       "      <td>NaN</td>\n",
       "      <td>NaN</td>\n",
       "      <td>NaN</td>\n",
       "      <td>NaN</td>\n",
       "      <td>NaN</td>\n",
       "      <td>NaN</td>\n",
       "      <td>NaN</td>\n",
       "      <td>NaN</td>\n",
       "      <td>NaN</td>\n",
       "      <td>NaN</td>\n",
       "    </tr>\n",
       "    <tr>\n",
       "      <th>2011-05-31</th>\n",
       "      <td>0.034535</td>\n",
       "      <td>-0.004027</td>\n",
       "      <td>-0.053665</td>\n",
       "      <td>-0.015918</td>\n",
       "      <td>-0.011259</td>\n",
       "      <td>-0.059015</td>\n",
       "      <td>0.011915</td>\n",
       "      <td>-0.004389</td>\n",
       "      <td>-0.014809</td>\n",
       "      <td>-0.047554</td>\n",
       "      <td>...</td>\n",
       "      <td>-0.069878</td>\n",
       "      <td>-0.034586</td>\n",
       "      <td>-0.047996</td>\n",
       "      <td>0.003781</td>\n",
       "      <td>-0.059123</td>\n",
       "      <td>0.079521</td>\n",
       "      <td>-0.020601</td>\n",
       "      <td>-0.037665</td>\n",
       "      <td>-0.017621</td>\n",
       "      <td>0.043308</td>\n",
       "    </tr>\n",
       "    <tr>\n",
       "      <th>2011-06-30</th>\n",
       "      <td>-0.005756</td>\n",
       "      <td>-0.044893</td>\n",
       "      <td>-0.029846</td>\n",
       "      <td>0.005661</td>\n",
       "      <td>0.001490</td>\n",
       "      <td>-0.008582</td>\n",
       "      <td>0.023924</td>\n",
       "      <td>-0.054321</td>\n",
       "      <td>0.008431</td>\n",
       "      <td>-0.025377</td>\n",
       "      <td>...</td>\n",
       "      <td>-0.093005</td>\n",
       "      <td>-0.081186</td>\n",
       "      <td>-0.122061</td>\n",
       "      <td>-0.016189</td>\n",
       "      <td>-0.071231</td>\n",
       "      <td>-0.012595</td>\n",
       "      <td>-0.034867</td>\n",
       "      <td>0.037697</td>\n",
       "      <td>-0.003772</td>\n",
       "      <td>-0.022911</td>\n",
       "    </tr>\n",
       "    <tr>\n",
       "      <th>2011-07-31</th>\n",
       "      <td>-0.035275</td>\n",
       "      <td>0.069334</td>\n",
       "      <td>0.047932</td>\n",
       "      <td>0.062257</td>\n",
       "      <td>0.045392</td>\n",
       "      <td>-0.048616</td>\n",
       "      <td>-0.103787</td>\n",
       "      <td>-0.036677</td>\n",
       "      <td>-0.064061</td>\n",
       "      <td>-0.118232</td>\n",
       "      <td>...</td>\n",
       "      <td>0.014259</td>\n",
       "      <td>-0.109958</td>\n",
       "      <td>-0.120189</td>\n",
       "      <td>-0.010086</td>\n",
       "      <td>0.043329</td>\n",
       "      <td>-0.080975</td>\n",
       "      <td>-0.186395</td>\n",
       "      <td>-0.023379</td>\n",
       "      <td>0.078299</td>\n",
       "      <td>-0.007528</td>\n",
       "    </tr>\n",
       "    <tr>\n",
       "      <th>2011-08-31</th>\n",
       "      <td>-0.035703</td>\n",
       "      <td>-0.022273</td>\n",
       "      <td>-0.141916</td>\n",
       "      <td>-0.101549</td>\n",
       "      <td>-0.050140</td>\n",
       "      <td>-0.015829</td>\n",
       "      <td>-0.110412</td>\n",
       "      <td>-0.160948</td>\n",
       "      <td>-0.097722</td>\n",
       "      <td>-0.103012</td>\n",
       "      <td>...</td>\n",
       "      <td>-0.029165</td>\n",
       "      <td>-0.016073</td>\n",
       "      <td>-0.207651</td>\n",
       "      <td>0.016230</td>\n",
       "      <td>-0.101820</td>\n",
       "      <td>-0.047864</td>\n",
       "      <td>-0.150984</td>\n",
       "      <td>0.013464</td>\n",
       "      <td>-0.048844</td>\n",
       "      <td>-0.072425</td>\n",
       "    </tr>\n",
       "  </tbody>\n",
       "</table>\n",
       "<p>5 rows × 129 columns</p>\n",
       "</div>"
      ],
      "text/plain": [
       "            CAMPBELL SOUP - TOT RETURN IND (~U$) (#T) - CAMPBELL SOUP - TOT RETURN IND (~U$) (#T)  \\\n",
       "Date                                                                                                \n",
       "2011-04-30                                                NaN                                       \n",
       "2011-05-31                                           0.034535                                       \n",
       "2011-06-30                                          -0.005756                                       \n",
       "2011-07-31                                          -0.035275                                       \n",
       "2011-08-31                                          -0.035703                                       \n",
       "\n",
       "            APARTMENT INV.& MAN.'A' - TOT RETURN IND (~U$) (#T) - APARTMENT INV.& MAN.'A' - TOT RETURN IND (~U$) (#T)  \\\n",
       "Date                                                                                                                    \n",
       "2011-04-30                                                NaN                                                           \n",
       "2011-05-31                                          -0.004027                                                           \n",
       "2011-06-30                                          -0.044893                                                           \n",
       "2011-07-31                                           0.069334                                                           \n",
       "2011-08-31                                          -0.022273                                                           \n",
       "\n",
       "            WILLIAMS - TOT RETURN IND (~U$) (#T) - WILLIAMS - TOT RETURN IND (~U$) (#T)  \\\n",
       "Date                                                                                      \n",
       "2011-04-30                                                NaN                             \n",
       "2011-05-31                                          -0.053665                             \n",
       "2011-06-30                                          -0.029846                             \n",
       "2011-07-31                                           0.047932                             \n",
       "2011-08-31                                          -0.141916                             \n",
       "\n",
       "            TNSC.'A' SBVTG. - TOT RETURN IND (~U$) (#T) - TNSC.'A' SBVTG. - TOT RETURN IND (~U$) (#T)  \\\n",
       "Date                                                                                                    \n",
       "2011-04-30                                                NaN                                           \n",
       "2011-05-31                                          -0.015918                                           \n",
       "2011-06-30                                           0.005661                                           \n",
       "2011-07-31                                           0.062257                                           \n",
       "2011-08-31                                          -0.101549                                           \n",
       "\n",
       "            BREAD FINANCIAL HOLDINGS - TOT RETURN IND (~U$) (#T) - BREAD FINANCIAL HOLDINGS - TOT RETURN IND (~U$) (#T)  \\\n",
       "Date                                                                                                                      \n",
       "2011-04-30                                                NaN                                                             \n",
       "2011-05-31                                          -0.011259                                                             \n",
       "2011-06-30                                           0.001490                                                             \n",
       "2011-07-31                                           0.045392                                                             \n",
       "2011-08-31                                          -0.050140                                                             \n",
       "\n",
       "            NASDAQ - TOT RETURN IND (~U$) (#T) - NASDAQ - TOT RETURN IND (~U$) (#T)  \\\n",
       "Date                                                                                  \n",
       "2011-04-30                                                NaN                         \n",
       "2011-05-31                                          -0.059015                         \n",
       "2011-06-30                                          -0.008582                         \n",
       "2011-07-31                                          -0.048616                         \n",
       "2011-08-31                                          -0.015829                         \n",
       "\n",
       "            XEROX HOLDINGS - TOT RETURN IND (~U$) (#T) - XEROX HOLDINGS - TOT RETURN IND (~U$) (#T)  \\\n",
       "Date                                                                                                  \n",
       "2011-04-30                                                NaN                                         \n",
       "2011-05-31                                           0.011915                                         \n",
       "2011-06-30                                           0.023924                                         \n",
       "2011-07-31                                          -0.103787                                         \n",
       "2011-08-31                                          -0.110412                                         \n",
       "\n",
       "            UNIVERSAL HEALTH SVS.'B' - TOT RETURN IND (~U$) (#T) - UNIVERSAL HEALTH SVS.'B' - TOT RETURN IND (~U$) (#T)  \\\n",
       "Date                                                                                                                      \n",
       "2011-04-30                                                NaN                                                             \n",
       "2011-05-31                                          -0.004389                                                             \n",
       "2011-06-30                                          -0.054321                                                             \n",
       "2011-07-31                                          -0.036677                                                             \n",
       "2011-08-31                                          -0.160948                                                             \n",
       "\n",
       "            RAYTHEON TECHNOLOGIES - TOT RETURN IND (~U$) (#T) - RAYTHEON TECHNOLOGIES - TOT RETURN IND (~U$) (#T)  \\\n",
       "Date                                                                                                                \n",
       "2011-04-30                                                NaN                                                       \n",
       "2011-05-31                                          -0.014809                                                       \n",
       "2011-06-30                                           0.008431                                                       \n",
       "2011-07-31                                          -0.064061                                                       \n",
       "2011-08-31                                          -0.097722                                                       \n",
       "\n",
       "            SCHNITZER STL.INDS. - TOT RETURN IND (~U$) (#T) - SCHNITZER STL.INDS. - TOT RETURN IND (~U$) (#T)  \\\n",
       "Date                                                                                                            \n",
       "2011-04-30                                                NaN                                                   \n",
       "2011-05-31                                          -0.047554                                                   \n",
       "2011-06-30                                          -0.025377                                                   \n",
       "2011-07-31                                          -0.118232                                                   \n",
       "2011-08-31                                          -0.103012                                                   \n",
       "\n",
       "            ...  \\\n",
       "Date        ...   \n",
       "2011-04-30  ...   \n",
       "2011-05-31  ...   \n",
       "2011-06-30  ...   \n",
       "2011-07-31  ...   \n",
       "2011-08-31  ...   \n",
       "\n",
       "            WSP GLOBAL - TOT RETURN IND (~U$) (#T) - WSP GLOBAL - TOT RETURN IND (~U$) (#T)  \\\n",
       "Date                                                                                          \n",
       "2011-04-30                                                NaN                                 \n",
       "2011-05-31                                          -0.069878                                 \n",
       "2011-06-30                                          -0.093005                                 \n",
       "2011-07-31                                           0.014259                                 \n",
       "2011-08-31                                          -0.029165                                 \n",
       "\n",
       "            CHIMERA INVESTMENT - TOT RETURN IND (~U$) (#T) - CHIMERA INVESTMENT - TOT RETURN IND (~U$) (#T)  \\\n",
       "Date                                                                                                          \n",
       "2011-04-30                                                NaN                                                 \n",
       "2011-05-31                                          -0.034586                                                 \n",
       "2011-06-30                                          -0.081186                                                 \n",
       "2011-07-31                                          -0.109958                                                 \n",
       "2011-08-31                                          -0.016073                                                 \n",
       "\n",
       "            SYNOVUS FINANCIAL - TOT RETURN IND (~U$) (#T) - SYNOVUS FINANCIAL - TOT RETURN IND (~U$) (#T)  \\\n",
       "Date                                                                                                        \n",
       "2011-04-30                                                NaN                                               \n",
       "2011-05-31                                          -0.047996                                               \n",
       "2011-06-30                                          -0.122061                                               \n",
       "2011-07-31                                          -0.120189                                               \n",
       "2011-08-31                                          -0.207651                                               \n",
       "\n",
       "            FORTIS - TOT RETURN IND (~U$) (#T) - FORTIS - TOT RETURN IND (~U$) (#T)  \\\n",
       "Date                                                                                  \n",
       "2011-04-30                                                NaN                         \n",
       "2011-05-31                                           0.003781                         \n",
       "2011-06-30                                          -0.016189                         \n",
       "2011-07-31                                          -0.010086                         \n",
       "2011-08-31                                           0.016230                         \n",
       "\n",
       "            FREEHOLD ROYALTIES - TOT RETURN IND (~U$) (#T) - FREEHOLD ROYALTIES - TOT RETURN IND (~U$) (#T)  \\\n",
       "Date                                                                                                          \n",
       "2011-04-30                                                NaN                                                 \n",
       "2011-05-31                                          -0.059123                                                 \n",
       "2011-06-30                                          -0.071231                                                 \n",
       "2011-07-31                                           0.043329                                                 \n",
       "2011-08-31                                          -0.101820                                                 \n",
       "\n",
       "            CHEESECAKE FACTORY - TOT RETURN IND (~U$) (#T) - CHEESECAKE FACTORY - TOT RETURN IND (~U$) (#T)  \\\n",
       "Date                                                                                                          \n",
       "2011-04-30                                                NaN                                                 \n",
       "2011-05-31                                           0.079521                                                 \n",
       "2011-06-30                                          -0.012595                                                 \n",
       "2011-07-31                                          -0.080975                                                 \n",
       "2011-08-31                                          -0.047864                                                 \n",
       "\n",
       "            ROYAL CARIBBEAN GROUP - TOT RETURN IND (~U$) (#T) - ROYAL CARIBBEAN GROUP - TOT RETURN IND (~U$) (#T)  \\\n",
       "Date                                                                                                                \n",
       "2011-04-30                                                NaN                                                       \n",
       "2011-05-31                                          -0.020601                                                       \n",
       "2011-06-30                                          -0.034867                                                       \n",
       "2011-07-31                                          -0.186395                                                       \n",
       "2011-08-31                                          -0.150984                                                       \n",
       "\n",
       "            ENTERPRISE PRDS.PTNS.LP. - TOT RETURN IND (~U$) (#T) - ENTERPRISE PRDS.PTNS.LP. - TOT RETURN IND (~U$) (#T)  \\\n",
       "Date                                                                                                                      \n",
       "2011-04-30                                                NaN                                                             \n",
       "2011-05-31                                          -0.037665                                                             \n",
       "2011-06-30                                           0.037697                                                             \n",
       "2011-07-31                                          -0.023379                                                             \n",
       "2011-08-31                                           0.013464                                                             \n",
       "\n",
       "            BIRCHCLIFF ENERGY - TOT RETURN IND (~U$) (#T) - BIRCHCLIFF ENERGY - TOT RETURN IND (~U$) (#T)  \\\n",
       "Date                                                                                                        \n",
       "2011-04-30                                                NaN                                               \n",
       "2011-05-31                                          -0.017621                                               \n",
       "2011-06-30                                          -0.003772                                               \n",
       "2011-07-31                                           0.078299                                               \n",
       "2011-08-31                                          -0.048844                                               \n",
       "\n",
       "            SUPERIOR PLUS - TOT RETURN IND (~U$) (#T) - SUPERIOR PLUS - TOT RETURN IND (~U$) (#T)  \n",
       "Date                                                                                               \n",
       "2011-04-30                                                NaN                                      \n",
       "2011-05-31                                           0.043308                                      \n",
       "2011-06-30                                          -0.022911                                      \n",
       "2011-07-31                                          -0.007528                                      \n",
       "2011-08-31                                          -0.072425                                      \n",
       "\n",
       "[5 rows x 129 columns]"
      ]
     },
     "execution_count": 11,
     "metadata": {},
     "output_type": "execute_result"
    }
   ],
   "source": [
    "simple_return = assets_returns(price_index.loc[:, price_index.columns != 'Date'], period=1, compounded=False)\n",
    "simple_return.head(5)"
   ]
  },
  {
   "cell_type": "code",
   "execution_count": 12,
   "metadata": {},
   "outputs": [],
   "source": [
    "log_return = assets_returns(price_index.loc[:, price_index.columns != 'Date'], period=1, compounded=True)"
   ]
  },
  {
   "cell_type": "code",
   "execution_count": 13,
   "metadata": {},
   "outputs": [],
   "source": [
    "def get_moment(assetReturn, moment):\n",
    "    if moment == 1:\n",
    "        return pd.DataFrame(assetReturn.mean())\n",
    "    elif moment == 2:\n",
    "        return pd.DataFrame(assetReturn.std())\n",
    "    elif moment == 3:\n",
    "        return pd.DataFrame(assetReturn.skew())\n",
    "    elif moment == 4:\n",
    "        nu = (pow(assetReturn, moment)).mean() - pow(assetReturn.mean(), moment)\n",
    "        den = pow(assetReturn.std(), moment)\n",
    "        res = nu / den\n",
    "        return pd.DataFrame(res)"
   ]
  },
  {
   "cell_type": "code",
   "execution_count": 14,
   "metadata": {},
   "outputs": [],
   "source": [
    "simple_mean = get_moment(simple_return, 1)\n",
    "simple_std = get_moment(simple_return, 2)\n",
    "simple_skew = get_moment(simple_return, 3)\n",
    "simple_kurt = get_moment(simple_return, 4)"
   ]
  },
  {
   "cell_type": "code",
   "execution_count": 15,
   "metadata": {},
   "outputs": [],
   "source": [
    "def jarque_bera(series, skewness, kurtosis):\n",
    "    t = np.shape(series)[0]\n",
    "    tstat = t * (pow(skewness, 2)/6 + pow((kurtosis), 2)/24)\n",
    "    return tstat"
   ]
  },
  {
   "cell_type": "code",
   "execution_count": 16,
   "metadata": {},
   "outputs": [],
   "source": [
    "jb_res = jarque_bera(simple_return, simple_skew, simple_kurt)"
   ]
  },
  {
   "cell_type": "code",
   "execution_count": 17,
   "metadata": {},
   "outputs": [],
   "source": [
    "def jb_test(tstat, alpha, dof):\n",
    "    critical_val = stats.chi2.ppf(1-alpha, df=dof)\n",
    "    out = {}\n",
    "    for k, v in tstat.T.items():\n",
    "        if v[0] >= critical_val:\n",
    "\n",
    "            # print(f'Reject H0: Return is not Gaussian')\n",
    "            out[k] = 'Reject H0: Return is not Gaussian'\n",
    "    return pd.Series(out)"
   ]
  },
  {
   "cell_type": "code",
   "execution_count": 18,
   "metadata": {},
   "outputs": [],
   "source": [
    "test_res = jb_test(jb_res, 0.05, 2)"
   ]
  },
  {
   "cell_type": "code",
   "execution_count": 19,
   "metadata": {},
   "outputs": [],
   "source": [
    "def get_acf(ds: pd.DataFrame, nlags=10) -> pd.DataFrame:\n",
    "    out = {}\n",
    "    for k in ds.keys():\n",
    "        res = sm.tsa.acf(ds[k], nlags=nlags, missing='conservative')\n",
    "        out[k] = res[1:]\n",
    "    return pd.DataFrame(out)"
   ]
  },
  {
   "cell_type": "code",
   "execution_count": 20,
   "metadata": {},
   "outputs": [],
   "source": [
    "acf = get_acf(simple_return, nlags=10)\n",
    "squared_acf = get_acf(pow(simple_return, 2), nlags=10)"
   ]
  },
  {
   "cell_type": "code",
   "execution_count": 21,
   "metadata": {},
   "outputs": [],
   "source": [
    "def ljung_box(acf, returns, nlag):\n",
    "    t = np.shape(returns)[0]\n",
    "    tstat = t*(t+2)*1/(t-nlag)*pow(acf.iloc[nlag],2)\n",
    "    return tstat\n",
    "\n",
    "\n",
    "lj_stat = {}\n",
    "for i in range(10):\n",
    "    lj_stat[i] = ljung_box(acf, simple_return, i)\n",
    "lj_stat = pd.DataFrame(lj_stat).transpose()"
   ]
  },
  {
   "cell_type": "code",
   "execution_count": 22,
   "metadata": {},
   "outputs": [],
   "source": [
    "# Filtered portfolio inputs\n",
    "opt_simple = simple_return.dropna(thresh=145).dropna(axis=1)\n",
    "opt_mean = get_moment(opt_simple, 1)\n",
    "opt_vol = get_moment(opt_simple, 2)\n",
    "opt_skew = get_moment(opt_simple, 3)\n",
    "opt_kurt = get_moment(opt_simple, 4)\n",
    "\n",
    "\n",
    "# For annualized portfolio inputs\n",
    "annual_mean = pow((1+opt_mean), 252) -1\n",
    "annual_vol = opt_vol * np.sqrt(252)"
   ]
  },
  {
   "cell_type": "code",
   "execution_count": 23,
   "metadata": {},
   "outputs": [],
   "source": [
    "def get_weight(num_assets, size):\n",
    "    weights = np.random.randn(num_assets, size)\n",
    "    weights = pd.DataFrame(weights)\n",
    "    for i in range(size):\n",
    "        weights.iloc[:, i] = weights.iloc[:, i] / weights.iloc[:, i].sum()\n",
    "    return weights\n",
    "\n",
    "\n",
    "# On the rows are each asset's weight in different portfolios, each column represents a randomly generated portfolio\n",
    "random_weight = get_weight(np.shape(opt_simple)[1], 1000 )"
   ]
  },
  {
   "cell_type": "code",
   "execution_count": 24,
   "metadata": {},
   "outputs": [],
   "source": [
    "def portfolio_return(asset_returns, port_weight):\n",
    "    if np.shape(asset_returns)[1] != np.shape(port_weight)[0]:\n",
    "        port_mean = asset_returns.T.values @ port_weight.values\n",
    "    else:\n",
    "        port_mean = asset_returns.values @ port_weight.values\n",
    "    port_mean = pd.DataFrame(port_mean).transpose()\n",
    "    port_mean.index = port_weight.T.index\n",
    "    port_mean.columns = ['Portfolio Mean']\n",
    "    return port_mean\n",
    "\n",
    "\n",
    "def vcv_matrix(asset_returns):\n",
    "    return asset_returns.cov()\n",
    "\n",
    "\n",
    "def portfolio_var(port_weight, vcv):\n",
    "    out = {}\n",
    "    for i in port_weight:\n",
    "        out[i] = port_weight.iloc[:, i].values.T @ vcv.values @ port_weight.iloc[:, i].values\n",
    "    out = pd.Series(out)\n",
    "    out.name = 'Sigma'\n",
    "    return out"
   ]
  },
  {
   "cell_type": "code",
   "execution_count": 25,
   "metadata": {},
   "outputs": [
    {
     "name": "stderr",
     "output_type": "stream",
     "text": [
      "/Users/victoriawong/opt/anaconda3/lib/python3.9/site-packages/numpy/lib/function_base.py:380: RuntimeWarning: Mean of empty slice.\n",
      "  avg = a.mean(axis)\n",
      "/Users/victoriawong/opt/anaconda3/lib/python3.9/site-packages/numpy/core/_methods.py:181: RuntimeWarning: invalid value encountered in true_divide\n",
      "  ret = um.true_divide(\n",
      "/Users/victoriawong/opt/anaconda3/lib/python3.9/site-packages/pandas/core/frame.py:9688: RuntimeWarning: Degrees of freedom <= 0 for slice\n",
      "  base_cov = np.cov(mat.T, ddof=ddof)\n",
      "/Users/victoriawong/opt/anaconda3/lib/python3.9/site-packages/numpy/lib/function_base.py:2542: RuntimeWarning: divide by zero encountered in true_divide\n",
      "  c *= np.true_divide(1, fact)\n",
      "/Users/victoriawong/opt/anaconda3/lib/python3.9/site-packages/numpy/lib/function_base.py:2542: RuntimeWarning: invalid value encountered in multiply\n",
      "  c *= np.true_divide(1, fact)\n"
     ]
    }
   ],
   "source": [
    "opt_mu = portfolio_return(opt_mean, random_weight)\n",
    "opt_vcv = vcv_matrix(opt_simple)\n",
    "opt_sigma2 = portfolio_var(random_weight, opt_vcv)\n",
    "opt_sigma = np.sqrt(opt_sigma2)\n",
    "annual_opt_mu = pow((1+opt_mu), 252) -1\n",
    "annual_opt_vol = opt_sigma * np.sqrt(252)"
   ]
  },
  {
   "cell_type": "markdown",
   "metadata": {},
   "source": [
    "# Efficient frontier"
   ]
  },
  {
   "cell_type": "markdown",
   "metadata": {},
   "source": [
    "### Sort monthly data"
   ]
  },
  {
   "cell_type": "code",
   "execution_count": 26,
   "metadata": {},
   "outputs": [
    {
     "data": {
      "text/html": [
       "<div>\n",
       "<style scoped>\n",
       "    .dataframe tbody tr th:only-of-type {\n",
       "        vertical-align: middle;\n",
       "    }\n",
       "\n",
       "    .dataframe tbody tr th {\n",
       "        vertical-align: top;\n",
       "    }\n",
       "\n",
       "    .dataframe thead th {\n",
       "        text-align: right;\n",
       "    }\n",
       "</style>\n",
       "<table border=\"1\" class=\"dataframe\">\n",
       "  <thead>\n",
       "    <tr style=\"text-align: right;\">\n",
       "      <th></th>\n",
       "    </tr>\n",
       "  </thead>\n",
       "  <tbody>\n",
       "  </tbody>\n",
       "</table>\n",
       "</div>"
      ],
      "text/plain": [
       "Empty DataFrame\n",
       "Columns: []\n",
       "Index: []"
      ]
     },
     "execution_count": 26,
     "metadata": {},
     "output_type": "execute_result"
    }
   ],
   "source": [
    "# monthly return\n",
    "r = simple_return.dropna(axis=1, thresh=6250)  # drop nan with a threshold\n",
    "monthly_df = r.resample('M').agg(lambda x: (x + 1).prod() - 1)  # merge daily to monthly\n",
    "price_df = price_index.dropna(axis=1, thresh=6250).resample('M').mean()  # monthly price\n",
    "price_df.columns = [i.split('-')[0] for i in price_df.columns]\n",
    "monthly_df"
   ]
  },
  {
   "cell_type": "code",
   "execution_count": 27,
   "metadata": {},
   "outputs": [],
   "source": [
    "def efficient_frontier(mean, vcv, risk_aversion, num_port):\n",
    "    \"\"\"\n",
    "\n",
    "    :param mean: All asset's expected return\n",
    "    :param vcv: The variance covariance matrix\n",
    "    :param risk_aversion: Investor's risk aversion\n",
    "    :param num_port: Number of equally spaced return portfolios we want display on the efficient frontier\n",
    "    \n",
    "    :return: This function returns a list of objects.\n",
    "        frontier: The mean variance efficient frontier with x number of MVP portfolios\n",
    "        gmvp_weight: The asset allocation of the global minimum variance portfolio\n",
    "        gmvp_mean: The mean of the global minimum variance portfolio\n",
    "        gmvp_variance: The variance of the global minimum variance portfolio\n",
    "        optimal_weight: The asset allocation of the optimal portfolio\n",
    "        optimal_mean: The mean of the optimal portfolio\n",
    "        optimal_variance: The variance of the optimal portfolio\n",
    "    \"\"\"\n",
    "\n",
    "    e = np.ones(np.shape(mean)[0])\n",
    "    vcv_inv = np.linalg.inv(vcv)\n",
    "    A = mean.T @ vcv_inv @ mean\n",
    "    B = e.T @ vcv_inv @ mean\n",
    "    C = e.T @ vcv_inv @ e\n",
    "    alpha_spec = (e.T @ vcv_inv @ mean) / risk_aversion\n",
    "    alpha_min = 1-alpha_spec\n",
    "\n",
    "    # The mean-variance efficient frontier\n",
    "    mu = np.linspace(-0.1, 1, num_port)\n",
    "    std = ((C * pow(mu, 2) - 2*B*mu + A)/(A*C-pow(B, 2))).T.reshape(-1)\n",
    "    frontier = pd.DataFrame({'mu_p': mu, 'mu_std': std})\n",
    "\n",
    "    # The global mean variance portfolio\n",
    "    gmvp_weight = vcv_inv @ e / C\n",
    "    gmvp_mean = gmvp_weight.T @ mean\n",
    "    gmvp_variance = gmvp_weight.T @ vcv @ gmvp_weight\n",
    "\n",
    "    # The speculative portfolio\n",
    "    spec_weight = vcv_inv @ mean / (e.T @ vcv_inv @ mean)\n",
    "    spec_mean = spec_weight.T @ mean\n",
    "    spec_variance = spec_weight.T @ vcv @ spec_weight\n",
    "\n",
    "    # The optimal portfolio\n",
    "    optimal_weight = alpha_min * gmvp_weight.reshape(-1) + alpha_spec * spec_weight.reshape(-1)\n",
    "    optimal_mean = optimal_weight.T @ mean\n",
    "    optimal_variance = optimal_weight.T @ vcv @ optimal_weight\n",
    "\n",
    "    return frontier, gmvp_weight, gmvp_mean, gmvp_variance, optimal_weight, optimal_mean, optimal_variance"
   ]
  },
  {
   "cell_type": "code",
   "execution_count": 28,
   "metadata": {},
   "outputs": [
    {
     "data": {
      "text/html": [
       "<div>\n",
       "<style scoped>\n",
       "    .dataframe tbody tr th:only-of-type {\n",
       "        vertical-align: middle;\n",
       "    }\n",
       "\n",
       "    .dataframe tbody tr th {\n",
       "        vertical-align: top;\n",
       "    }\n",
       "\n",
       "    .dataframe thead th {\n",
       "        text-align: right;\n",
       "    }\n",
       "</style>\n",
       "<table border=\"1\" class=\"dataframe\">\n",
       "  <thead>\n",
       "    <tr style=\"text-align: right;\">\n",
       "      <th></th>\n",
       "      <th>mu_p</th>\n",
       "      <th>mu_std</th>\n",
       "    </tr>\n",
       "  </thead>\n",
       "  <tbody>\n",
       "    <tr>\n",
       "      <th>0</th>\n",
       "      <td>-0.100000</td>\n",
       "      <td>NaN</td>\n",
       "    </tr>\n",
       "    <tr>\n",
       "      <th>1</th>\n",
       "      <td>-0.088889</td>\n",
       "      <td>NaN</td>\n",
       "    </tr>\n",
       "    <tr>\n",
       "      <th>2</th>\n",
       "      <td>-0.077778</td>\n",
       "      <td>NaN</td>\n",
       "    </tr>\n",
       "    <tr>\n",
       "      <th>3</th>\n",
       "      <td>-0.066667</td>\n",
       "      <td>NaN</td>\n",
       "    </tr>\n",
       "    <tr>\n",
       "      <th>4</th>\n",
       "      <td>-0.055556</td>\n",
       "      <td>NaN</td>\n",
       "    </tr>\n",
       "    <tr>\n",
       "      <th>...</th>\n",
       "      <td>...</td>\n",
       "      <td>...</td>\n",
       "    </tr>\n",
       "    <tr>\n",
       "      <th>95</th>\n",
       "      <td>0.955556</td>\n",
       "      <td>NaN</td>\n",
       "    </tr>\n",
       "    <tr>\n",
       "      <th>96</th>\n",
       "      <td>0.966667</td>\n",
       "      <td>NaN</td>\n",
       "    </tr>\n",
       "    <tr>\n",
       "      <th>97</th>\n",
       "      <td>0.977778</td>\n",
       "      <td>NaN</td>\n",
       "    </tr>\n",
       "    <tr>\n",
       "      <th>98</th>\n",
       "      <td>0.988889</td>\n",
       "      <td>NaN</td>\n",
       "    </tr>\n",
       "    <tr>\n",
       "      <th>99</th>\n",
       "      <td>1.000000</td>\n",
       "      <td>NaN</td>\n",
       "    </tr>\n",
       "  </tbody>\n",
       "</table>\n",
       "<p>100 rows × 2 columns</p>\n",
       "</div>"
      ],
      "text/plain": [
       "        mu_p  mu_std\n",
       "0  -0.100000     NaN\n",
       "1  -0.088889     NaN\n",
       "2  -0.077778     NaN\n",
       "3  -0.066667     NaN\n",
       "4  -0.055556     NaN\n",
       "..       ...     ...\n",
       "95  0.955556     NaN\n",
       "96  0.966667     NaN\n",
       "97  0.977778     NaN\n",
       "98  0.988889     NaN\n",
       "99  1.000000     NaN\n",
       "\n",
       "[100 rows x 2 columns]"
      ]
     },
     "execution_count": 28,
     "metadata": {},
     "output_type": "execute_result"
    }
   ],
   "source": [
    "r = efficient_frontier(opt_mean.values, opt_vcv.values, risk_aversion=2, num_port=100)\n",
    "r[0]"
   ]
  },
  {
   "cell_type": "code",
   "execution_count": 29,
   "metadata": {},
   "outputs": [
    {
     "data": {
      "application/vnd.jupyter.widget-view+json": {
       "model_id": "73bc1a31cbf942c5a577381ebfa25598",
       "version_major": 2,
       "version_minor": 0
      },
      "text/plain": [
       "interactive(children=(FloatSlider(value=1.0, description='risk_aversion', max=10.0), Output()), _dom_classes=(…"
      ]
     },
     "metadata": {},
     "output_type": "display_data"
    }
   ],
   "source": [
    "@interact()\n",
    "def plot(risk_aversion=widgets.FloatSlider(min=0, max=10, step=0.1, value=1)):\n",
    "\n",
    "    f = efficient_frontier(opt_mean.values, opt_vcv, risk_aversion=risk_aversion, num_port=100)\n",
    "\n",
    "    ax = plt.gca()\n",
    "    ax.plot(f[0]['mu_std'], f[0]['mu_p'])\n",
    "    gmvp_weight = f[1]\n",
    "    gmvp_retr = f[2]\n",
    "    gmvp_vcv = f[3]\n",
    "\n",
    "    optimal_variance = f[-1]\n",
    "    optimal_mu = f[-2]\n",
    "\n",
    "    ax.plot(gmvp_vcv, gmvp_retr, 'ro')\n",
    "    ax.plot(optimal_variance, optimal_mu, 'bo')\n",
    "    \n",
    "#     d = np.linspace(0, 0.25, 101)\n",
    "#     ax.plot(d, y, 'k--')\n",
    "    ax.axhline(y=0,color='k', ls='-')\n",
    "    ax.set_ylim(-0.1, 0.6)\n",
    "    ax.set_xlim(0, 1)\n",
    "    ax.set_xlabel('Var')\n",
    "    ax.set_ylabel('Return')"
   ]
  },
  {
   "cell_type": "code",
   "execution_count": 30,
   "metadata": {},
   "outputs": [],
   "source": [
    "# Efficient frontier using optimization method\n",
    "def min_variance_portfolio(mean, vcv, initial_weight):\n",
    "    \"\"\"\n",
    "\n",
    "    :param vcv: The variance covariance matrix\n",
    "    :param initial_weight: Initial guess of asset weight allocation\n",
    "    :param risk_free:\n",
    "    \n",
    "    :return: Returns a list of objects.\n",
    "    1. Optimal weight allocation of assets given the covariance matrix\n",
    "    2. The return of this global minimum variance portfolio\n",
    "    3. The variance of this global minimum variance portfolio\n",
    "    \"\"\"\n",
    "    obj = lambda a: a.T @ vcv @ a\n",
    "    cons = {\n",
    "        'type': 'eq',\n",
    "        'fun': lambda a: a.T @ (np.zeros(len(a)) + 1) - 1\n",
    "    }\n",
    "    bnds = [[None, None] for i in range(len(initial_weight))]\n",
    "    port_weight = minimize(obj, x0=initial_weight, constraints=cons, bounds=bnds)\n",
    "    r = port_weight.x.reshape(1, -1)\n",
    "    port_mean = r @ mean\n",
    "    port_vcv = np.sqrt(r @ vcv @ r.T)\n",
    "    return [port_weight, port_mean, port_vcv]"
   ]
  },
  {
   "cell_type": "code",
   "execution_count": 31,
   "metadata": {},
   "outputs": [
    {
     "data": {
      "text/html": [
       "<div>\n",
       "<style scoped>\n",
       "    .dataframe tbody tr th:only-of-type {\n",
       "        vertical-align: middle;\n",
       "    }\n",
       "\n",
       "    .dataframe tbody tr th {\n",
       "        vertical-align: top;\n",
       "    }\n",
       "\n",
       "    .dataframe thead th {\n",
       "        text-align: right;\n",
       "    }\n",
       "</style>\n",
       "<table border=\"1\" class=\"dataframe\">\n",
       "  <thead>\n",
       "    <tr style=\"text-align: right;\">\n",
       "      <th></th>\n",
       "      <th>0</th>\n",
       "    </tr>\n",
       "  </thead>\n",
       "  <tbody>\n",
       "    <tr>\n",
       "      <th>0</th>\n",
       "      <td>NaN</td>\n",
       "    </tr>\n",
       "  </tbody>\n",
       "</table>\n",
       "</div>"
      ],
      "text/plain": [
       "    0\n",
       "0 NaN"
      ]
     },
     "execution_count": 31,
     "metadata": {},
     "output_type": "execute_result"
    }
   ],
   "source": [
    "pweight = min_variance_portfolio(opt_mean, opt_vcv, r[1])\n",
    "gmvp_weight = pweight[0]\n",
    "gmvp_mean = pweight[1]\n",
    "gmvp_variance = pweight[2]\n",
    "gmvp_mean"
   ]
  },
  {
   "cell_type": "code",
   "execution_count": 32,
   "metadata": {},
   "outputs": [],
   "source": [
    "def optimal_portfolio(mean, vcv, initial_weight, risk_free):\n",
    "    vcv_inv = np.linalg.inv(vcv)\n",
    "    ones = np.ones(np.shape(mean))\n",
    "    \n",
    "    obj = lambda a: a.T @ vcv @ a\n",
    "    cons = {\n",
    "        'type': 'eq',\n",
    "        'fun' : lambda a: a.T @ mean + (1 - ones.T @ a) * risk_free - a.T @ mean\n",
    "    }\n",
    "    bnds = [(None, None) for i in range(len(initial_weight))]\n",
    "    port_weight = minimize(obj, x0=initial_weight, method='SLSQP', constraints=cons, bounds=bnds)\n",
    "    a_str = port_weight.x.reshape(-1, 1)\n",
    "#     optimal_portfolio = port_weight.x.reshape(1, -1)\n",
    "#     port_mean = optimal_portfolio @ mean\n",
    "    \n",
    "    excess_mu = mean - risk_free * ones\n",
    "#     tan_port = (vcv_inv @ excess_mu) / (ones.T @ vcv_inv @ excess_mu)\n",
    "    tan_port = a_str / (ones.T @ a_str)\n",
    "    tan_mu = tan_port.T @ excess_mu + risk_free\n",
    "    tan_vcv = tan_port.T @ vcv @ tan_port\n",
    "#     return [port_weight.x, optimal_portfolio, port_mean, tan_port, tan_mu, tan_vcv]\n",
    "    \n",
    "    return tan_port, tan_mu, tan_vcv\n",
    "\n",
    "\n",
    "# res = optimal_portfolio(opt_mean.values, opt_vcv, minport, 0.005)\n",
    "# res[-2]\n"
   ]
  },
  {
   "cell_type": "code",
   "execution_count": 33,
   "metadata": {},
   "outputs": [
    {
     "data": {
      "text/plain": [
       "<matplotlib.legend.Legend at 0x7fa4f3cd7fa0>"
      ]
     },
     "execution_count": 33,
     "metadata": {},
     "output_type": "execute_result"
    },
    {
     "data": {
      "image/png": "[encoded data removed]",
      "text/plain": [
       "<Figure size 640x480 with 1 Axes>"
      ]
     },
     "metadata": {},
     "output_type": "display_data"
    }
   ],
   "source": [
    "# daily\n",
    "\n",
    "f = efficient_frontier(opt_mean.values, opt_vcv.values, risk_aversion=1, num_port=100)\n",
    "\n",
    "ax = plt.gca()\n",
    "ax.plot(f[0]['mu_std'], f[0]['mu_p'])\n",
    "gmvp_weight = f[1]\n",
    "gmvp_retr = f[2]\n",
    "gmvp_vcv = f[3]\n",
    "\n",
    "optimal_variance = f[-1]\n",
    "optimal_mu = f[-2]\n",
    "\n",
    "ax.plot(gmvp_vcv, gmvp_retr, 'ro', label='MVP')\n",
    "ax.plot(optimal_variance, optimal_mu, 'bo', label='SPEC')\n",
    "\n",
    "\n",
    "res = optimal_portfolio(opt_mean.values, opt_vcv.values, f[1], 0.05)\n",
    "ax.plot(res[-1], res[-2], 'go', ms=10, mfc='none', label='optimal portfolio')\n",
    "ax.set_xlabel('Variance')\n",
    "ax.set_ylabel('Return')\n",
    "ax.set_xlim(None, 1)\n",
    "ax.set_ylim(None, 0.6)\n",
    "ax.legend()"
   ]
  },
  {
   "cell_type": "code",
   "execution_count": 34,
   "metadata": {},
   "outputs": [
    {
     "name": "stderr",
     "output_type": "stream",
     "text": [
      "/var/folders/ws/l0gf3b2n0mj6s2k8j0nwk_9c0000gn/T/ipykernel_51580/2586842066.py:29: RuntimeWarning: invalid value encountered in true_divide\n",
      "  std = ((C * pow(mu, 2) - 2*B*mu + A)/(A*C-pow(B, 2))).T.reshape(-1)\n"
     ]
    },
    {
     "ename": "ValueError",
     "evalue": "unexpected array size: new_size=1, got array with arr_size=0\n",
     "output_type": "error",
     "traceback": [
      "\u001B[0;31m---------------------------------------------------------------------------\u001B[0m",
      "\u001B[0;31mValueError\u001B[0m                                Traceback (most recent call last)",
      "Cell \u001B[0;32mIn[34], line 19\u001B[0m\n\u001B[1;32m     15\u001B[0m ax\u001B[38;5;241m.\u001B[39mplot(gmvp_vcv, gmvp_retr, \u001B[38;5;124m'\u001B[39m\u001B[38;5;124mro\u001B[39m\u001B[38;5;124m'\u001B[39m, label\u001B[38;5;241m=\u001B[39m\u001B[38;5;124m'\u001B[39m\u001B[38;5;124mMVP\u001B[39m\u001B[38;5;124m'\u001B[39m)\n\u001B[1;32m     16\u001B[0m ax\u001B[38;5;241m.\u001B[39mplot(optimal_variance, optimal_mu, \u001B[38;5;124m'\u001B[39m\u001B[38;5;124mbo\u001B[39m\u001B[38;5;124m'\u001B[39m, label\u001B[38;5;241m=\u001B[39m\u001B[38;5;124m'\u001B[39m\u001B[38;5;124mSPEC\u001B[39m\u001B[38;5;124m'\u001B[39m)\n\u001B[0;32m---> 19\u001B[0m res \u001B[38;5;241m=\u001B[39m \u001B[43moptimal_portfolio\u001B[49m\u001B[43m(\u001B[49m\u001B[43mmonthly_df\u001B[49m\u001B[38;5;241;43m.\u001B[39;49m\u001B[43mmean\u001B[49m\u001B[43m(\u001B[49m\u001B[43m)\u001B[49m\u001B[38;5;241;43m.\u001B[39;49m\u001B[43mvalues\u001B[49m\u001B[43m,\u001B[49m\u001B[43m \u001B[49m\u001B[43mmonthly_df\u001B[49m\u001B[38;5;241;43m.\u001B[39;49m\u001B[43mcov\u001B[49m\u001B[43m(\u001B[49m\u001B[43m)\u001B[49m\u001B[38;5;241;43m.\u001B[39;49m\u001B[43mvalues\u001B[49m\u001B[43m,\u001B[49m\u001B[43m \u001B[49m\u001B[43mf\u001B[49m\u001B[43m[\u001B[49m\u001B[38;5;241;43m1\u001B[39;49m\u001B[43m]\u001B[49m\u001B[43m,\u001B[49m\u001B[43m \u001B[49m\u001B[38;5;241;43m0.05\u001B[39;49m\u001B[43m)\u001B[49m\n\u001B[1;32m     20\u001B[0m ax\u001B[38;5;241m.\u001B[39mplot(res[\u001B[38;5;241m-\u001B[39m\u001B[38;5;241m1\u001B[39m], res[\u001B[38;5;241m-\u001B[39m\u001B[38;5;241m2\u001B[39m], \u001B[38;5;124m'\u001B[39m\u001B[38;5;124mgo\u001B[39m\u001B[38;5;124m'\u001B[39m, ms\u001B[38;5;241m=\u001B[39m\u001B[38;5;241m10\u001B[39m, mfc\u001B[38;5;241m=\u001B[39m\u001B[38;5;124m'\u001B[39m\u001B[38;5;124mnone\u001B[39m\u001B[38;5;124m'\u001B[39m, label\u001B[38;5;241m=\u001B[39m\u001B[38;5;124m'\u001B[39m\u001B[38;5;124moptimal portfolio\u001B[39m\u001B[38;5;124m'\u001B[39m)\n\u001B[1;32m     21\u001B[0m ax\u001B[38;5;241m.\u001B[39mset_xlabel(\u001B[38;5;124m'\u001B[39m\u001B[38;5;124mVariance\u001B[39m\u001B[38;5;124m'\u001B[39m)\n",
      "Cell \u001B[0;32mIn[32], line 11\u001B[0m, in \u001B[0;36moptimal_portfolio\u001B[0;34m(mean, vcv, initial_weight, risk_free)\u001B[0m\n\u001B[1;32m      6\u001B[0m     cons \u001B[38;5;241m=\u001B[39m {\n\u001B[1;32m      7\u001B[0m         \u001B[38;5;124m'\u001B[39m\u001B[38;5;124mtype\u001B[39m\u001B[38;5;124m'\u001B[39m: \u001B[38;5;124m'\u001B[39m\u001B[38;5;124meq\u001B[39m\u001B[38;5;124m'\u001B[39m,\n\u001B[1;32m      8\u001B[0m         \u001B[38;5;124m'\u001B[39m\u001B[38;5;124mfun\u001B[39m\u001B[38;5;124m'\u001B[39m : \u001B[38;5;28;01mlambda\u001B[39;00m a: a\u001B[38;5;241m.\u001B[39mT \u001B[38;5;241m@\u001B[39m mean \u001B[38;5;241m+\u001B[39m (\u001B[38;5;241m1\u001B[39m \u001B[38;5;241m-\u001B[39m ones\u001B[38;5;241m.\u001B[39mT \u001B[38;5;241m@\u001B[39m a) \u001B[38;5;241m*\u001B[39m risk_free \u001B[38;5;241m-\u001B[39m a\u001B[38;5;241m.\u001B[39mT \u001B[38;5;241m@\u001B[39m mean\n\u001B[1;32m      9\u001B[0m     }\n\u001B[1;32m     10\u001B[0m     bnds \u001B[38;5;241m=\u001B[39m [(\u001B[38;5;28;01mNone\u001B[39;00m, \u001B[38;5;28;01mNone\u001B[39;00m) \u001B[38;5;28;01mfor\u001B[39;00m i \u001B[38;5;129;01min\u001B[39;00m \u001B[38;5;28mrange\u001B[39m(\u001B[38;5;28mlen\u001B[39m(initial_weight))]\n\u001B[0;32m---> 11\u001B[0m     port_weight \u001B[38;5;241m=\u001B[39m \u001B[43mminimize\u001B[49m\u001B[43m(\u001B[49m\u001B[43mobj\u001B[49m\u001B[43m,\u001B[49m\u001B[43m \u001B[49m\u001B[43mx0\u001B[49m\u001B[38;5;241;43m=\u001B[39;49m\u001B[43minitial_weight\u001B[49m\u001B[43m,\u001B[49m\u001B[43m \u001B[49m\u001B[43mmethod\u001B[49m\u001B[38;5;241;43m=\u001B[39;49m\u001B[38;5;124;43m'\u001B[39;49m\u001B[38;5;124;43mSLSQP\u001B[39;49m\u001B[38;5;124;43m'\u001B[39;49m\u001B[43m,\u001B[49m\u001B[43m \u001B[49m\u001B[43mconstraints\u001B[49m\u001B[38;5;241;43m=\u001B[39;49m\u001B[43mcons\u001B[49m\u001B[43m,\u001B[49m\u001B[43m \u001B[49m\u001B[43mbounds\u001B[49m\u001B[38;5;241;43m=\u001B[39;49m\u001B[43mbnds\u001B[49m\u001B[43m)\u001B[49m\n\u001B[1;32m     12\u001B[0m     a_str \u001B[38;5;241m=\u001B[39m port_weight\u001B[38;5;241m.\u001B[39mx\u001B[38;5;241m.\u001B[39mreshape(\u001B[38;5;241m-\u001B[39m\u001B[38;5;241m1\u001B[39m, \u001B[38;5;241m1\u001B[39m)\n\u001B[1;32m     13\u001B[0m \u001B[38;5;66;03m#     optimal_portfolio = port_weight.x.reshape(1, -1)\u001B[39;00m\n\u001B[1;32m     14\u001B[0m \u001B[38;5;66;03m#     port_mean = optimal_portfolio @ mean\u001B[39;00m\n",
      "File \u001B[0;32m~/opt/anaconda3/lib/python3.9/site-packages/scipy/optimize/_minimize.py:631\u001B[0m, in \u001B[0;36mminimize\u001B[0;34m(fun, x0, args, method, jac, hess, hessp, bounds, constraints, tol, callback, options)\u001B[0m\n\u001B[1;32m    629\u001B[0m     \u001B[38;5;28;01mreturn\u001B[39;00m _minimize_cobyla(fun, x0, args, constraints, \u001B[38;5;241m*\u001B[39m\u001B[38;5;241m*\u001B[39moptions)\n\u001B[1;32m    630\u001B[0m \u001B[38;5;28;01melif\u001B[39;00m meth \u001B[38;5;241m==\u001B[39m \u001B[38;5;124m'\u001B[39m\u001B[38;5;124mslsqp\u001B[39m\u001B[38;5;124m'\u001B[39m:\n\u001B[0;32m--> 631\u001B[0m     \u001B[38;5;28;01mreturn\u001B[39;00m \u001B[43m_minimize_slsqp\u001B[49m\u001B[43m(\u001B[49m\u001B[43mfun\u001B[49m\u001B[43m,\u001B[49m\u001B[43m \u001B[49m\u001B[43mx0\u001B[49m\u001B[43m,\u001B[49m\u001B[43m \u001B[49m\u001B[43margs\u001B[49m\u001B[43m,\u001B[49m\u001B[43m \u001B[49m\u001B[43mjac\u001B[49m\u001B[43m,\u001B[49m\u001B[43m \u001B[49m\u001B[43mbounds\u001B[49m\u001B[43m,\u001B[49m\n\u001B[1;32m    632\u001B[0m \u001B[43m                           \u001B[49m\u001B[43mconstraints\u001B[49m\u001B[43m,\u001B[49m\u001B[43m \u001B[49m\u001B[43mcallback\u001B[49m\u001B[38;5;241;43m=\u001B[39;49m\u001B[43mcallback\u001B[49m\u001B[43m,\u001B[49m\u001B[43m \u001B[49m\u001B[38;5;241;43m*\u001B[39;49m\u001B[38;5;241;43m*\u001B[39;49m\u001B[43moptions\u001B[49m\u001B[43m)\u001B[49m\n\u001B[1;32m    633\u001B[0m \u001B[38;5;28;01melif\u001B[39;00m meth \u001B[38;5;241m==\u001B[39m \u001B[38;5;124m'\u001B[39m\u001B[38;5;124mtrust-constr\u001B[39m\u001B[38;5;124m'\u001B[39m:\n\u001B[1;32m    634\u001B[0m     \u001B[38;5;28;01mreturn\u001B[39;00m _minimize_trustregion_constr(fun, x0, args, jac, hess, hessp,\n\u001B[1;32m    635\u001B[0m                                         bounds, constraints,\n\u001B[1;32m    636\u001B[0m                                         callback\u001B[38;5;241m=\u001B[39mcallback, \u001B[38;5;241m*\u001B[39m\u001B[38;5;241m*\u001B[39moptions)\n",
      "File \u001B[0;32m~/opt/anaconda3/lib/python3.9/site-packages/scipy/optimize/slsqp.py:427\u001B[0m, in \u001B[0;36m_minimize_slsqp\u001B[0;34m(func, x0, args, jac, bounds, constraints, maxiter, ftol, iprint, disp, eps, callback, finite_diff_rel_step, **unknown_options)\u001B[0m\n\u001B[1;32m    423\u001B[0m a \u001B[38;5;241m=\u001B[39m _eval_con_normals(x, cons, la, n, m, meq, mieq)\n\u001B[1;32m    425\u001B[0m \u001B[38;5;28;01mwhile\u001B[39;00m \u001B[38;5;241m1\u001B[39m:\n\u001B[1;32m    426\u001B[0m     \u001B[38;5;66;03m# Call SLSQP\u001B[39;00m\n\u001B[0;32m--> 427\u001B[0m     \u001B[43mslsqp\u001B[49m\u001B[43m(\u001B[49m\u001B[43mm\u001B[49m\u001B[43m,\u001B[49m\u001B[43m \u001B[49m\u001B[43mmeq\u001B[49m\u001B[43m,\u001B[49m\u001B[43m \u001B[49m\u001B[43mx\u001B[49m\u001B[43m,\u001B[49m\u001B[43m \u001B[49m\u001B[43mxl\u001B[49m\u001B[43m,\u001B[49m\u001B[43m \u001B[49m\u001B[43mxu\u001B[49m\u001B[43m,\u001B[49m\u001B[43m \u001B[49m\u001B[43mfx\u001B[49m\u001B[43m,\u001B[49m\u001B[43m \u001B[49m\u001B[43mc\u001B[49m\u001B[43m,\u001B[49m\u001B[43m \u001B[49m\u001B[43mg\u001B[49m\u001B[43m,\u001B[49m\u001B[43m \u001B[49m\u001B[43ma\u001B[49m\u001B[43m,\u001B[49m\u001B[43m \u001B[49m\u001B[43macc\u001B[49m\u001B[43m,\u001B[49m\u001B[43m \u001B[49m\u001B[43mmajiter\u001B[49m\u001B[43m,\u001B[49m\u001B[43m \u001B[49m\u001B[43mmode\u001B[49m\u001B[43m,\u001B[49m\u001B[43m \u001B[49m\u001B[43mw\u001B[49m\u001B[43m,\u001B[49m\u001B[43m \u001B[49m\u001B[43mjw\u001B[49m\u001B[43m,\u001B[49m\n\u001B[1;32m    428\u001B[0m \u001B[43m          \u001B[49m\u001B[43malpha\u001B[49m\u001B[43m,\u001B[49m\u001B[43m \u001B[49m\u001B[43mf0\u001B[49m\u001B[43m,\u001B[49m\u001B[43m \u001B[49m\u001B[43mgs\u001B[49m\u001B[43m,\u001B[49m\u001B[43m \u001B[49m\u001B[43mh1\u001B[49m\u001B[43m,\u001B[49m\u001B[43m \u001B[49m\u001B[43mh2\u001B[49m\u001B[43m,\u001B[49m\u001B[43m \u001B[49m\u001B[43mh3\u001B[49m\u001B[43m,\u001B[49m\u001B[43m \u001B[49m\u001B[43mh4\u001B[49m\u001B[43m,\u001B[49m\u001B[43m \u001B[49m\u001B[43mt\u001B[49m\u001B[43m,\u001B[49m\u001B[43m \u001B[49m\u001B[43mt0\u001B[49m\u001B[43m,\u001B[49m\u001B[43m \u001B[49m\u001B[43mtol\u001B[49m\u001B[43m,\u001B[49m\n\u001B[1;32m    429\u001B[0m \u001B[43m          \u001B[49m\u001B[43miexact\u001B[49m\u001B[43m,\u001B[49m\u001B[43m \u001B[49m\u001B[43mincons\u001B[49m\u001B[43m,\u001B[49m\u001B[43m \u001B[49m\u001B[43mireset\u001B[49m\u001B[43m,\u001B[49m\u001B[43m \u001B[49m\u001B[43mitermx\u001B[49m\u001B[43m,\u001B[49m\u001B[43m \u001B[49m\u001B[43mline\u001B[49m\u001B[43m,\u001B[49m\n\u001B[1;32m    430\u001B[0m \u001B[43m          \u001B[49m\u001B[43mn1\u001B[49m\u001B[43m,\u001B[49m\u001B[43m \u001B[49m\u001B[43mn2\u001B[49m\u001B[43m,\u001B[49m\u001B[43m \u001B[49m\u001B[43mn3\u001B[49m\u001B[43m)\u001B[49m\n\u001B[1;32m    432\u001B[0m     \u001B[38;5;28;01mif\u001B[39;00m mode \u001B[38;5;241m==\u001B[39m \u001B[38;5;241m1\u001B[39m:  \u001B[38;5;66;03m# objective and constraint evaluation required\u001B[39;00m\n\u001B[1;32m    433\u001B[0m         fx \u001B[38;5;241m=\u001B[39m wrapped_fun(x)\n",
      "\u001B[0;31mValueError\u001B[0m: unexpected array size: new_size=1, got array with arr_size=0\n"
     ]
    },
    {
     "data": {
      "image/png": "[encoded data removed]",
      "text/plain": [
       "<Figure size 640x480 with 1 Axes>"
      ]
     },
     "metadata": {},
     "output_type": "display_data"
    }
   ],
   "source": [
    "# monthly\n",
    "\n",
    "\n",
    "f = efficient_frontier(monthly_df.mean().values, monthly_df.cov().values, risk_aversion=1, num_port=100)\n",
    "\n",
    "ax = plt.gca()\n",
    "ax.plot(f[0]['mu_std'], f[0]['mu_p'])\n",
    "gmvp_weight = f[1]\n",
    "gmvp_retr = f[2]\n",
    "gmvp_vcv = f[3]\n",
    "\n",
    "optimal_variance = f[-1]\n",
    "optimal_mu = f[-2]\n",
    "\n",
    "ax.plot(gmvp_vcv, gmvp_retr, 'ro', label='MVP')\n",
    "ax.plot(optimal_variance, optimal_mu, 'bo', label='SPEC')\n",
    "\n",
    "\n",
    "res = optimal_portfolio(monthly_df.mean().values, monthly_df.cov().values, f[1], 0.05)\n",
    "ax.plot(res[-1], res[-2], 'go', ms=10, mfc='none', label='optimal portfolio')\n",
    "ax.set_xlabel('Variance')\n",
    "ax.set_ylabel('Return')\n",
    "ax.set_xlim(None, 1)\n",
    "ax.set_ylim(None, 0.6)\n",
    "ax.legend()"
   ]
  },
  {
   "cell_type": "code",
   "execution_count": null,
   "metadata": {},
   "outputs": [],
   "source": [
    "mvp_mean = np.mean(mvp_weight_monthly.T * monthly_df, axis=1)\n",
    "mvp_price = np.mean(mvp_weight_monthly.T * price_df, axis=1)\n",
    "mvp_char = cal_char(pd.DataFrame(mvp_mean), mvp_price)\n",
    "pd.DataFrame(mvp_char._asdict(), index=['mvp'])"
   ]
  },
  {
   "cell_type": "markdown",
   "metadata": {},
   "source": [
    "# Resampling function"
   ]
  },
  {
   "cell_type": "code",
   "execution_count": null,
   "metadata": {},
   "outputs": [],
   "source": [
    "def portfolio_resampling(Q, m, p0, risk_aversion=2, num_port=201):\n",
    "    \"\"\"\n",
    "    \n",
    "    :param Q: number of resampleing\n",
    "    :param m: number of mu\n",
    "    :param returns: returns\n",
    "    :param nb_row: number of sample rows\n",
    "    :param risk_aversion: risk aversion\n",
    "    \"\"\"\n",
    "    ax = plt.gca()\n",
    "\n",
    "    p0_ft, _, min_mu, min_cov, _, max_mu, max_cov = efficient_frontier(\n",
    "        p0.mean(), p0.cov(), risk_aversion=risk_aversion, num_port=num_port)\n",
    "    ax.plot(p0_ft.mu_std, p0_ft.mu_p, 'k--', label='p0')\n",
    "    print('P0 data, min_mu / max_mu', min_mu, max_mu)\n",
    "\n",
    "    mu_0 = p0.mean()\n",
    "    cov_0 = p0.cov()\n",
    "\n",
    "    opt_mus = []\n",
    "    opt_covs = []\n",
    "    a_res = [[] for i in range(m)]\n",
    "    for i in range(Q):\n",
    "        p1 = np.random.normal(loc=p0.mean().values, scale=p0.std().values, size=p0.shape)\n",
    "        p1 = pd.DataFrame(p1)\n",
    "        p1_ft, _, min_mu, min_cov, _, max_mu, max_cov = efficient_frontier(\n",
    "            p1.mean(), p1.cov(), risk_aversion=risk_aversion, num_port=num_port)\n",
    "        \n",
    "        mu_1 = p1.mean()\n",
    "        cov_1 = p1.cov()\n",
    "        c = 0\n",
    "        for mu in np.linspace(min_mu, max_mu, m):\n",
    "            obj = lambda a: a.T @ cov_1 @ a\n",
    "            cons1 = {\n",
    "                'type': 'eq',\n",
    "                'fun': lambda a: a.T @ (np.zeros(len(a)) + 1) - 1\n",
    "            }\n",
    "            cons2 = {\n",
    "                'type': 'eq',\n",
    "                'fun': lambda a: a.T @ mu_1 - mu\n",
    "            }\n",
    "            w0 = np.random.random(mu_1.shape)\n",
    "            w0 /= w0.sum()\n",
    "            bnds = [[None, None] for i in range(len(w0))]\n",
    "            res = minimize(obj, x0=w0.reshape(-1), method='SLSQP', constraints=(cons1, cons2), bounds=bnds)\n",
    "            r = res.x\n",
    "            opt_mu = r.T @ mu_0\n",
    "            opt_cov = r.T @ cov_0 @ r\n",
    "            ax.plot(opt_cov, opt_mu, 'bo')\n",
    "            opt_mus.append(opt_mu)\n",
    "            opt_covs.append(opt_cov)\n",
    "            a_res[c].append(r)\n",
    "            c += 1\n",
    "\n",
    "    mu_res = []\n",
    "    cov_res = []\n",
    "    ares = []\n",
    "    for i in range(m):\n",
    "        _a_res = np.asarray(a_res)[i].sum(axis=0)/Q\n",
    "        mu_res.append(_a_res.T @ mu_0)\n",
    "        cov_res.append(_a_res.T @ cov_0 @ _a_res)\n",
    "        ares.append(_a_res)\n",
    "        \n",
    "    mu_res = np.array(mu_res)\n",
    "    cov_res = np.array(cov_res)\n",
    "    ares = np.array(ares)\n",
    "    \n",
    "    \n",
    "    ax.plot(cov_res, mu_res, 'r-', label='resampled', ms=3)\n",
    "    ax.legend()\n",
    "    ax.set_xlim(-0.1, 1)\n",
    "    ax.set_ylim(-0.1, 1)\n",
    "    \n",
    "    return p0_ft, mu_res, cov_res, ares, opt_mus, opt_covs"
   ]
  },
  {
   "cell_type": "code",
   "execution_count": null,
   "metadata": {},
   "outputs": [],
   "source": [
    "def get_ABCD(mu, cov):\n",
    "    e = np.ones(len(mu))\n",
    "    _A = e.T @  inv(cov) @ mu\n",
    "    _B = mu.T @ inv(cov) @ mu\n",
    "    _C = e.T @ inv(cov) @ e\n",
    "    _D = _B*_C - _A**2\n",
    "    return _A, _B, _C, _D\n",
    "\n",
    "def get_MVP(mu, cov):\n",
    "    _, _, _C, _ = get_ABCD(mu, cov)\n",
    "    alpha_min = inv(cov) @ e / _C\n",
    "    mu_min = alpha_min.T @ mu\n",
    "    cov_min = alpha_min.T @ cov @ alpha_min\n",
    "    return alpha_min, mu_min, cov_min\n",
    "\n",
    "def get_SPEC(mu, cov):\n",
    "    _A, _, _, _ = get_ABCD(mu, cov)\n",
    "    alpha_spec = inv(cov) @ mu / _A\n",
    "    mu_spec = alpha_spec.T @ mu\n",
    "    cov_spec = alpha_spec.T @ cov @ alpha_spec\n",
    "    return alpha_spec, mu_spec, cov_spec\n",
    "\n",
    "def get_maxsharpe(mu, cov, risk_aversion=2):\n",
    "    e = np.ones(len(mu))\n",
    "    alpha_mvp, mu_mvp, cov_mvp = get_MVP(mu, cov)\n",
    "    alpha_spec, mu_spec, cov_spec = get_SPEC(mu, cov)\n",
    "\n",
    "    ratio_spec = (e.T @ inv(cov) @ mu) / risk_aversion\n",
    "    ratio_mvp = 1 - ratio_spec\n",
    "\n",
    "    optimal_weight = ratio_mvp * alpha_mvp + ratio_spec * alpha_spec\n",
    "    optimal_mu = optimal_weight.T @ mu\n",
    "    optimal_cov = optimal_weight.T @ cov @ optimal_weight\n",
    "    return optimal_weight, optimal_mu, optimal_cov\n",
    "\n",
    "def get_FT_func(mu, cov):\n",
    "    _A, _, _C, _D = get_ABCD(mu, cov)\n",
    "    return lambda x: (x - _A/_C)**2 * _C / _D + 1/_C"
   ]
  },
  {
   "cell_type": "code",
   "execution_count": null,
   "metadata": {},
   "outputs": [],
   "source": [
    "Q=100\n",
    "m=50\n",
    "p0=monthly_df.iloc[:-1]\n",
    "risk_aversion=2\n",
    "\n",
    "ax = plt.gca()\n",
    "\n",
    "mu_0 = p0.mean()\n",
    "cov_0 = p0.cov()\n",
    "func = get_FT_func(mu_0, cov_0)\n",
    "dummy_mu = np.linspace(-0.1, 0.8, 1001)\n",
    "ax.plot(func(dummy_mu), dummy_mu, 'k--', label='p0 efficient frontier')\n",
    "\n",
    "opt_mus = []\n",
    "opt_covs = []\n",
    "a_res = [[] for i in range(m)]\n",
    "e = np.ones(len(mu_0))\n",
    "\n",
    "for i in range(Q):\n",
    "    p1 = np.random.normal(loc=p0.mean().values, scale=p0.std().values,\n",
    "                          size=p0.shape\n",
    "                         )\n",
    "    p1 = pd.DataFrame(p1)\n",
    "    mu_1 = p1.mean()\n",
    "    cov_1 = p1.cov()\n",
    "\n",
    "    _A, _B, _C, _D = get_ABCD(mu_1, cov_1)\n",
    "\n",
    "    V1 = inv(cov_1)/_D @ (_B*e - _A*mu_1) \n",
    "    V2 = inv(cov_1)/_D @ (_C*mu_1 - _A*e)\n",
    "\n",
    "    _, mu_mvp, _ = get_MVP(mu_1, cov_1)\n",
    "    _, mu_ms, _ = get_maxsharpe(mu_1, cov_1, risk_aversion)\n",
    "    \n",
    "    c = 0\n",
    "    for mu in np.linspace(mu_mvp, mu_ms, m):\n",
    "        alpha_star = V1 + V2 * mu\n",
    "\n",
    "        opt_mu = alpha_star.T @ mu_0\n",
    "        opt_cov = alpha_star.T @ cov_0 @ alpha_star\n",
    "        ax.plot(opt_cov, opt_mu, 'bo', ms=4)\n",
    "        opt_mus.append(opt_mu)\n",
    "        opt_covs.append(opt_cov)\n",
    "        a_res[c].append(alpha_star)\n",
    "        c += 1\n",
    "\n",
    "mu_res = []\n",
    "cov_res = []\n",
    "ares = []\n",
    "for i in range(m):\n",
    "    _a_res = np.asarray(a_res)[i].sum(axis=0)/Q\n",
    "    mu_res.append(_a_res.T @ mu_0)\n",
    "    cov_res.append(_a_res.T @ cov_0 @ _a_res)\n",
    "    ares.append(_a_res)\n",
    "\n",
    "mu_res = np.array(mu_res)\n",
    "cov_res = np.array(cov_res)\n",
    "ares = np.array(ares)\n",
    "\n",
    "ax.plot(cov_res.reshape(-1), mu_res.reshape(-1), 'r-', label='resampled frontier')\n",
    "ax.set_xlim(0, 0.5)\n",
    "ax.set_ylim(0, 0.3)\n",
    "ax.set_xlabel('Volatility')\n",
    "ax.set_ylabel('Return')\n",
    "ax.legend()"
   ]
  },
  {
   "cell_type": "code",
   "execution_count": null,
   "metadata": {},
   "outputs": [],
   "source": [
    "def portfolio_resampling_ABCD(Q, m, p0, risk_aversion=2, num_port=201, p1_num=None):\n",
    "    \"\"\"\n",
    "    \n",
    "    :param Q: number of resampleing\n",
    "    :param m: number of mu\n",
    "    :param returns: returns\n",
    "    :param nb_row: number of sample rows\n",
    "    :param risk_aversion: risk aversion\n",
    "    \"\"\"\n",
    "#     ax = plt.gca()\n",
    "\n",
    "    mu_0 = p0.mean()\n",
    "    cov_0 = p0.cov()\n",
    "#     func = get_FT_func(mu_0, cov_0)\n",
    "#     dummy_mu = np.linspace(-0.1, 0.8, 1001)\n",
    "#     ax.plot(func(dummy_mu), dummy_mu, 'k--', label='p0')\n",
    "\n",
    "    opt_mus = []\n",
    "    opt_covs = []\n",
    "    a_res = [[] for i in range(m)]\n",
    "    e = np.ones(len(mu_0))\n",
    "\n",
    "    for i in range(Q):\n",
    "        size = p0.shape\n",
    "        if p1_num is not None:\n",
    "            _, col = size\n",
    "            size = (p1_num, col)\n",
    "        p1 = np.random.normal(loc=p0.mean().values, scale=p0.std().values,\n",
    "                              size=size)\n",
    "        p1 = pd.DataFrame(p1)\n",
    "        mu_1 = p1.mean()\n",
    "        cov_1 = p1.cov()\n",
    "\n",
    "        _A, _B, _C, _D = get_ABCD(mu_1, cov_1)\n",
    "\n",
    "        V1 = inv(cov_1)/_D @ (_B*e - _A*mu_1) \n",
    "        V2 = inv(cov_1)/_D @ (_C*mu_1 - _A*e)\n",
    "\n",
    "        _, mu_mvp, _ = get_MVP(mu_1, cov_1)\n",
    "        _, mu_ms, _ = get_maxsharpe(mu_1, cov_1, risk_aversion)\n",
    "\n",
    "\n",
    "        c = 0\n",
    "        for mu in np.linspace(mu_mvp, mu_ms, m):\n",
    "            alpha_star = V1 + V2 * mu\n",
    "\n",
    "            opt_mu = alpha_star.T @ mu_0\n",
    "            opt_cov = alpha_star.T @ cov_0 @ alpha_star\n",
    "#             ax.plot(opt_cov, opt_mu, 'bo')\n",
    "            opt_mus.append(opt_mu)\n",
    "            opt_covs.append(opt_cov)\n",
    "            a_res[c].append(alpha_star)\n",
    "            c += 1\n",
    "\n",
    "    mu_res = []\n",
    "    cov_res = []\n",
    "    ares = []\n",
    "    for i in range(m):\n",
    "        _a_res = np.asarray(a_res)[i].sum(axis=0)/Q\n",
    "        mu_res.append(_a_res.T @ mu_0)\n",
    "        cov_res.append(_a_res.T @ cov_0 @ _a_res)\n",
    "        ares.append(_a_res)\n",
    "\n",
    "    mu_res = np.array(mu_res)\n",
    "    cov_res = np.array(cov_res)\n",
    "    ares = np.array(ares)\n",
    "\n",
    "#     ax.plot(cov_res.reshape(-1), mu_res.reshape(-1), 'r-')\n",
    "    return mu_res, cov_res, ares, opt_mus, opt_covs"
   ]
  },
  {
   "cell_type": "code",
   "execution_count": null,
   "metadata": {},
   "outputs": [],
   "source": [
    "def save_results(mu_res, cov_res, ares, filename):\n",
    "    index_name = ...s\n",
    "    mu_res = pd.DataFrame(mu_res, index=index_name)\n",
    "    cov_res = pd.DataFrame(cov_res, index=index_name)\n",
    "    ares = pd.DataFrame(ares, index=index_name)\n",
    "    \n",
    "    mu_res.to_csv(f'{filename}_mu.csv')\n",
    "    cov_res.to_csv(f'{filename}_cov.csv')\n",
    "    ares_res.to_csv(f'{filename}_ares.csv')"
   ]
  },
  {
   "cell_type": "code",
   "execution_count": null,
   "metadata": {},
   "outputs": [],
   "source": [
    "ax = plt.gca()\n",
    "\n",
    "ax.plot(cov_res, mu_res, 'r-')\n",
    "ax.scatter(opt_covs, opt_mus, c=np.asarray(opt_mus), s=12)\n",
    "ax.set_xlim(-0.1, 0.5)\n",
    "ax.set_ylim(-0.1, 0.5)"
   ]
  },
  {
   "cell_type": "code",
   "execution_count": null,
   "metadata": {},
   "outputs": [],
   "source": [
    "# In sample MVP portfolios "
   ]
  },
  {
   "cell_type": "code",
   "execution_count": null,
   "metadata": {},
   "outputs": [],
   "source": [
    "resampled_mu = pd.read_csv('mu_res.csv')\n",
    "resampled_vcv = pd.read_csv('cov_res.csv')\n",
    "resampled_weight = pd.read_csv('a_res.csv')\n",
    "resampled_opt_mu = pd.read_csv('opt_mus.csv')\n",
    "resampled_opt_vcv = pd.read_csv('opt_covs.csv')\n",
    "resampled_weight"
   ]
  },
  {
   "cell_type": "code",
   "execution_count": null,
   "metadata": {},
   "outputs": [],
   "source": [
    "#Average Annualized MVP Return\n",
    "Expectation_MVP = resampled_mu.iloc[0]\n",
    "Expectation_MVP = Expectation_MVP.drop(Expectation_MVP.index[0])\n",
    "Expectation_MVP = Expectation_MVP.to_numpy()\n",
    "A_Expectation_MVP = Expectation_MVP*252\n",
    "A_Expectation_MVP"
   ]
  },
  {
   "cell_type": "code",
   "execution_count": null,
   "metadata": {},
   "outputs": [],
   "source": [
    "#Annualized volatility of the MVP\n",
    "Variance_MVP = resampled_vcv.iloc[0]\n",
    "Std_MVP = np.sqrt(Variance_MVP)\n",
    "A_Std_MVP = Std_MVP * np.sqrt(252)\n",
    "A_Std_MVP"
   ]
  },
  {
   "cell_type": "code",
   "execution_count": null,
   "metadata": {},
   "outputs": [],
   "source": [
    "#MVP Weights\n",
    "Weights_MVP = resampled_weight.iloc[0]\n",
    "Weights_MVP = Weights_MVP.drop(Weights_MVP.index[0])\n",
    "Weights_MVP = Weights_MVP.to_numpy()\n",
    "\n",
    "#Minimum daily return of the MVP\n",
    "Returns_daily_MVP = np.matmul(opt_simple,Weights_MVP)\n",
    "Min_Returns_Daily_MVP = np.min(Returns_daily_MVP)\n",
    "Min_Returns_Daily_MVP"
   ]
  },
  {
   "cell_type": "code",
   "execution_count": null,
   "metadata": {},
   "outputs": [],
   "source": [
    "#Maximum daily return of the MVP\n",
    "Returns_daily_MVP = np.matmul(opt_simple,Weights_MVP)\n",
    "Min_Returns_Daily_MVP = np.max(Returns_daily_MVP)\n",
    "Min_Returns_Daily_MVP"
   ]
  },
  {
   "cell_type": "code",
   "execution_count": null,
   "metadata": {},
   "outputs": [],
   "source": [
    "#MVP performance\n",
    "portfolio_values_MVP = [100]\n",
    "for ret in Returns_daily_MVP:\n",
    "    portfolio_values_MVP.append(portfolio_values_MVP[-1]*(1+ret))\n",
    "\n",
    "plt.plot(portfolio_values_MVP)\n",
    "plt.legend(['MVP Performance'])\n",
    "plt.show()"
   ]
  },
  {
   "cell_type": "code",
   "execution_count": null,
   "metadata": {},
   "outputs": [],
   "source": [
    "#Maximum Drawdown MVP\n",
    "pd_portfolio_values_MVP = pd.Series(portfolio_values_MVP)\n",
    "max_data_stock = pd_portfolio_values_MVP.rolling(window=len(pd_portfolio_values_MVP), min_periods=1).max()\n",
    "dd_stock = pd_portfolio_values_MVP/max_data_stock - 1\n",
    "MDD_stock = dd_stock.rolling(window=len(pd_portfolio_values_MVP), min_periods=1).min()\n",
    "MDD_stock.min()"
   ]
  },
  {
   "cell_type": "code",
   "execution_count": null,
   "metadata": {},
   "outputs": [],
   "source": [
    "#VaR and ES at 5% of the MVP\n",
    "quantile_threshold = 0.05\n",
    "\n",
    "quantile = np.quantile(Returns_daily_MVP, quantile_threshold)\n",
    "\n",
    "expected_shortfall = np.mean(Returns_daily_MVP[Returns_daily_MVP<=quantile])\n",
    "\n",
    "plt.hist(Returns_daily_MVP, 60)\n",
    "VaR_95_MVP = np.percentile(Returns_daily_MVP, 5)\n",
    "plt.axvline(x=VaR_95_MVP, color='r', linestyle='dashed', linewidth=2)\n",
    "plt.axvline(x=expected_shortfall, color='g', linestyle='dashed', linewidth=2)\n",
    "plt.legend(['VaR 5%','ES 5%'])\n",
    "plt.show()"
   ]
  },
  {
   "cell_type": "code",
   "execution_count": null,
   "metadata": {},
   "outputs": [],
   "source": [
    "print(\"Value at Risk 5%:\", VaR_95_MVP)\n",
    "print(\"Expected Shortfall: \", expected_shortfall)"
   ]
  },
  {
   "cell_type": "code",
   "execution_count": null,
   "metadata": {},
   "outputs": [],
   "source": [
    "# Equally weighted portfolio"
   ]
  },
  {
   "cell_type": "code",
   "execution_count": null,
   "metadata": {},
   "outputs": [],
   "source": [
    "#Average Annualized MVP Return\n",
    "Weights_EWP = [1/len(opt_mean)]*len(opt_mean)\n",
    "Weights_EWP = np.array(Weights_EWP)\n",
    "Weights_EWP_T = np.transpose(Weights_EWP)\n",
    "Return_EWP = np.matmul(Weights_EWP_T,opt_mean)\n",
    "A_Return_EWP = Return_EWP*252\n",
    "A_Return_EWP"
   ]
  },
  {
   "cell_type": "code",
   "execution_count": null,
   "metadata": {},
   "outputs": [],
   "source": [
    "#Annualized volatility of the EWP\n",
    "Variance_EWP = np.matmul(Weights_EWP_T,np.matmul(opt_vcv,Weights_EWP))\n",
    "Std_EWP = np.sqrt(Variance_EWP)\n",
    "A_Std_EWP = Std_EWP * np.sqrt(252)\n",
    "A_Std_EWP"
   ]
  },
  {
   "cell_type": "code",
   "execution_count": null,
   "metadata": {},
   "outputs": [],
   "source": [
    "#Minimum daily return of the EWP\n",
    "Returns_daily_EWP = np.matmul(opt_simple,Weights_EWP)\n",
    "Min_Returns_Daily_EWP = np.min(Returns_daily_EWP)\n",
    "Min_Returns_Daily_EWP"
   ]
  },
  {
   "cell_type": "code",
   "execution_count": null,
   "metadata": {},
   "outputs": [],
   "source": [
    "#Maximum daily return of the MVP\n",
    "Max_Returns_Daily_EWP = np.max(Returns_daily_EWP)\n",
    "Max_Returns_Daily_EWP"
   ]
  },
  {
   "cell_type": "code",
   "execution_count": null,
   "metadata": {},
   "outputs": [],
   "source": [
    "#EWP Performance\n",
    "portfolio_values_EWP = [100]\n",
    "for ret in Returns_daily_EWP:\n",
    "    portfolio_values_EWP.append(portfolio_values_EWP[-1]*(1+ret))\n",
    "\n",
    "plt.plot(portfolio_values_EWP)\n",
    "plt.legend(['EWP Performance'])\n",
    "plt.show()"
   ]
  },
  {
   "cell_type": "code",
   "execution_count": null,
   "metadata": {},
   "outputs": [],
   "source": [
    "#Maximum Drawdown EWP\n",
    "pd_portfolio_values_EWP = pd.Series(portfolio_values_EWP)\n",
    "max_data_stock = pd_portfolio_values_EWP.rolling(window=len(pd_portfolio_values_EWP), min_periods=1).max()\n",
    "dd_stock = pd_portfolio_values_EWP/max_data_stock - 1\n",
    "MDD_stock = dd_stock.rolling(window=len(pd_portfolio_values_EWP), min_periods=1).min()\n",
    "MDD_stock.min()"
   ]
  },
  {
   "cell_type": "code",
   "execution_count": null,
   "metadata": {},
   "outputs": [],
   "source": [
    "#VaR and ES at 5% of the EWP\n",
    "quantile_threshold = 0.05\n",
    "\n",
    "quantile = np.quantile(Returns_daily_EWP, quantile_threshold)\n",
    "\n",
    "expected_shortfall = np.mean(Returns_daily_EWP[Returns_daily_EWP<=quantile])\n",
    "\n",
    "plt.hist(Returns_daily_EWP, 60)\n",
    "VaR_95_EWP = np.percentile(Returns_daily_EWP, 5)\n",
    "plt.axvline(x=VaR_95_EWP, color='r', linestyle='dashed', linewidth=2)\n",
    "plt.axvline(x=expected_shortfall, color='g', linestyle='dashed', linewidth=2)\n",
    "plt.legend(['VaR 5%','ES 5%'])\n",
    "plt.show()"
   ]
  },
  {
   "cell_type": "code",
   "execution_count": null,
   "metadata": {},
   "outputs": [],
   "source": [
    "print(\"Value at Risk 5%:\", VaR_95_EWP)\n",
    "print(\"Expected Shortfall: \", expected_shortfall)"
   ]
  },
  {
   "cell_type": "code",
   "execution_count": null,
   "metadata": {},
   "outputs": [],
   "source": [
    "# Value weighted portfolio "
   ]
  },
  {
   "cell_type": "code",
   "execution_count": null,
   "metadata": {},
   "outputs": [],
   "source": [
    "#Average Annualized VWP Return\n",
    "market_cap['day'] = market_cap['Date'].dt.day\n",
    "last_day_of_month = market_cap[market_cap['day'] == market_cap.groupby(market_cap['Date'].dt.month)['day'].transform('max')]\n",
    "last_day_of_month = last_day_of_month.drop(columns=['Date', '#ERROR', '#ERROR.1', 'DENBURY - MARKET VALUE', 'EXCO RES - MARKET VALUE', 'day'])\n",
    "opt_market = last_day_of_month.dropna(thresh=145).dropna(axis=1)\n",
    "sum_list = opt_market.sum(axis=0)\n",
    "Weights_VWP = [v / sum(sum_list) for v in sum_list]\n",
    "Weights_VWP_T = np.transpose(Weights_VWP)\n",
    "Return_VWP = np.matmul(Weights_VWP_T,opt_mean)\n",
    "A_Return_VWP = Return_VWP*252\n",
    "A_Return_VWP"
   ]
  },
  {
   "cell_type": "code",
   "execution_count": null,
   "metadata": {},
   "outputs": [],
   "source": [
    "#Annualized volatility of the VWP\n",
    "Variance_VWP = np.matmul(Weights_VWP_T,np.matmul(opt_vcv,Weights_VWP))\n",
    "Std_VWP = np.sqrt(Variance_VWP)\n",
    "A_Std_VWP = Std_VWP * np.sqrt(252)\n",
    "A_Std_VWP"
   ]
  },
  {
   "cell_type": "code",
   "execution_count": null,
   "metadata": {},
   "outputs": [],
   "source": [
    "#Minimum daily return of the VWP\n",
    "Returns_daily_VWP = np.matmul(opt_simple,Weights_VWP)\n",
    "Min_Returns_Daily_VWP = np.min(Returns_daily_VWP)\n",
    "Min_Returns_Daily_VWP"
   ]
  },
  {
   "cell_type": "code",
   "execution_count": null,
   "metadata": {},
   "outputs": [],
   "source": [
    "#Maximum daily return of the VWP\n",
    "Returns_daily_VWP = np.matmul(opt_simple,Weights_VWP)\n",
    "Max_Returns_Daily_VWP = np.max(Returns_daily_VWP)\n",
    "Max_Returns_Daily_VWP"
   ]
  },
  {
   "cell_type": "code",
   "execution_count": null,
   "metadata": {},
   "outputs": [],
   "source": [
    "#VWP Performance\n",
    "portfolio_values_VWP = [100]\n",
    "for ret in Returns_daily_VWP:\n",
    "    portfolio_values_VWP.append(portfolio_values_VWP[-1]*(1+ret))\n",
    "\n",
    "plt.plot(portfolio_values_VWP)\n",
    "plt.legend(['VWP Performance'])\n",
    "plt.show()"
   ]
  },
  {
   "cell_type": "code",
   "execution_count": null,
   "metadata": {},
   "outputs": [],
   "source": [
    "#Maximum Drawdown VWP\n",
    "pd_portfolio_values_VWP = pd.Series(portfolio_values_VWP)\n",
    "max_data_stock = pd_portfolio_values_VWP.rolling(window=len(pd_portfolio_values_VWP), min_periods=1).max()\n",
    "dd_stock = pd_portfolio_values_VWP/max_data_stock - 1\n",
    "MDD_stock = dd_stock.rolling(window=len(pd_portfolio_values_VWP), min_periods=1).min()\n",
    "MDD_stock.min()"
   ]
  },
  {
   "cell_type": "code",
   "execution_count": null,
   "metadata": {},
   "outputs": [],
   "source": [
    "#VaR and ES at 5% of the VWP\n",
    "quantile_threshold = 0.05\n",
    "\n",
    "quantile = np.quantile(Returns_daily_VWP, quantile_threshold)\n",
    "\n",
    "expected_shortfall = np.mean(Returns_daily_VWP[Returns_daily_VWP<=quantile])\n",
    "\n",
    "plt.hist(Returns_daily_VWP, 60)\n",
    "VaR_95_VWP = np.percentile(Returns_daily_VWP, 5)\n",
    "plt.axvline(x=VaR_95_EWP, color='r', linestyle='dashed', linewidth=2)\n",
    "plt.axvline(x=expected_shortfall, color='g', linestyle='dashed', linewidth=2)\n",
    "plt.legend(['VaR 5%','ES 5%'])\n",
    "plt.show()"
   ]
  },
  {
   "cell_type": "code",
   "execution_count": null,
   "metadata": {},
   "outputs": [],
   "source": [
    "print(\"Value at Risk 5%:\", VaR_95_VWP)\n",
    "print(\"Expected Shortfall: \", expected_shortfall)"
   ]
  },
  {
   "cell_type": "code",
   "execution_count": null,
   "metadata": {},
   "outputs": [],
   "source": [
    "#Graph of the performance of the 3 portfolios\n",
    "\n",
    "fig = plt.figure()\n",
    "ax = fig.add_subplot(111)\n",
    "\n",
    "ax.plot(portfolio_values_MVP, label='MVP')\n",
    "ax.plot(portfolio_values_EWP, label='EWP')\n",
    "ax.plot(portfolio_values_VWP, label='VWP')\n",
    "\n",
    "ax.set_title('Portfolio Values')\n",
    "ax.legend()\n",
    "\n",
    "plt.show()"
   ]
  },
  {
   "cell_type": "markdown",
   "metadata": {},
   "source": [
    "# 1.5: 6-year moving window"
   ]
  },
  {
   "cell_type": "markdown",
   "metadata": {},
   "source": [
    "## Structure the monthly data"
   ]
  },
  {
   "cell_type": "code",
   "execution_count": null,
   "metadata": {},
   "outputs": [],
   "source": [
    "# monthly return\n",
    "r = simple_return.dropna(axis=1, thresh=6250)  # drop nan with a threshold\n",
    "monthly_df = r.resample('M').agg(lambda x: (x + 1).prod() - 1)  # merge daily to monthly\n",
    "monthly_vol = r.resample('M').std()  # monthly volatility\n",
    "price_df = price_index.dropna(axis=1, thresh=6250).resample('M').mean()  # monthly price\n",
    "monthly_df.head(5)"
   ]
  },
  {
   "cell_type": "code",
   "execution_count": null,
   "metadata": {},
   "outputs": [],
   "source": [
    "# market cap\n",
    "\n",
    "cols = []\n",
    "for col in monthly_df.columns:\n",
    "    col = col.split('-')\n",
    "    for mkt_col in market_cap.columns:\n",
    "        if mkt_col.startswith(col[0]):\n",
    "            cols.append(mkt_col)\n",
    "market_cap = market_cap.loc[:, market_cap.columns.isin(cols)] \n",
    "market_cap.index = r.index\n",
    "market_cap = market_cap.resample('M').mean()"
   ]
  },
  {
   "cell_type": "markdown",
   "metadata": {},
   "source": [
    "## Portfolio using moving window"
   ]
  },
  {
   "cell_type": "code",
   "execution_count": null,
   "metadata": {},
   "outputs": [],
   "source": [
    "win_len = 72  # 6-year moving window\n",
    "Q = 100  # number of Monte Carlo simulation\n",
    "m = 2 # number of mean points durung the resampling, here is two for min mean and max mean.\n",
    "p1_num = 200  # number of points of P1 sample, generated from the normal distribution of monthly data.\n",
    "\n",
    "running = True  # loop condition\n",
    "c = 0  # loop index\n",
    "\n",
    "# --- results --- #\n",
    "min_mu = []\n",
    "max_mu = []\n",
    "\n",
    "min_var = []\n",
    "max_var = []\n",
    "\n",
    "min_p = []\n",
    "max_p = []\n",
    "# --------------- #\n",
    "\n",
    "while running:\n",
    "    print(f'Progress: {c}/217 ...')\n",
    "    \n",
    "    # generate moving window\n",
    "    start = c\n",
    "    stop = c + win_len-1\n",
    "    mov = monthly_df.iloc[slice(start, stop), :]\n",
    "    \n",
    "    # resampling\n",
    "    mu_res, cov_res, ares, _, _ = portfolio_resampling_ABCD(Q=Q, m=m, p0=mov, p1_num=p1_num)\n",
    "    min_mu.append(mu_res[0])\n",
    "    max_mu.append(mu_res[-1])\n",
    "    \n",
    "    min_var.append(cov_res[0])\n",
    "    max_var.append(cov_res[-1])\n",
    "    \n",
    "    min_p.append(ares[0])\n",
    "    max_p.append(ares[-1])\n",
    "    \n",
    "    c += 1\n",
    "    if stop == len(monthly_df):\n",
    "        running = False\n",
    "\n",
    "\n",
    "# Convert to DataFrame        \n",
    "min_mu = pd.DataFrame(min_mu, index=monthly_df[monthly_df.index > '2005'].index)\n",
    "max_mu = pd.DataFrame(max_mu, index=monthly_df[monthly_df.index > '2005'].index)\n",
    "\n",
    "min_var = pd.DataFrame(min_var, index=monthly_df[monthly_df.index > '2005'].index)\n",
    "max_var = pd.DataFrame(max_var, index=monthly_df[monthly_df.index > '2005'].index)\n",
    "\n",
    "min_p = pd.DataFrame(min_p, index=monthly_df[monthly_df.index > '2005'].index)\n",
    "max_p = pd.DataFrame(max_p, index=monthly_df[monthly_df.index > '2005'].index)"
   ]
  },
  {
   "cell_type": "markdown",
   "metadata": {},
   "source": [
    "## Performance of the moving window methodology"
   ]
  },
  {
   "cell_type": "code",
   "execution_count": null,
   "metadata": {
    "scrolled": false
   },
   "outputs": [],
   "source": [
    "# mean\n",
    "res = [[], []]\n",
    "for i in range(18*12):\n",
    "    ret = min_p.iloc[i].values.T @ monthly_df.iloc[i+72]\n",
    "    res[0].append(ret)\n",
    "    ret = max_p.iloc[i].values.T @ monthly_df.iloc[i+72]\n",
    "    res[1].append(ret)\n",
    "\n",
    "# convert to DataFrame\n",
    "port_min_mu = pd.DataFrame(res[0], index=monthly_df[monthly_df.index > '2005'].index,\n",
    "             columns=['performance_min_mu'])\n",
    "port_min_mu.to_csv('monving_window_performance_min_mu_strategy.csv')\n",
    "port_max_mu = pd.DataFrame(res[1], index=monthly_df[monthly_df.index > '2005'].index,\n",
    "             columns=['performance_max_mu'])\n",
    "port_max_mu.to_csv('monving_window_performance_max_mu_strategy.csv')\n"
   ]
  },
  {
   "cell_type": "code",
   "execution_count": null,
   "metadata": {},
   "outputs": [],
   "source": [
    "from collections import namedtuple\n",
    "Char = namedtuple('Char',\n",
    "    'annualized_average_return annualized_volatility minimal maximal max_drawdown VaR ES')\n",
    "def cal_char(returns, price):\n",
    "    return Char(\n",
    "        annualized_average_return=(returns.mean()*12)[0],\n",
    "        annualized_volatility=(np.sqrt(returns.cov()*12)).values[0][0],\n",
    "        minimal=returns.min()[0],\n",
    "        maximal=returns.max()[0],\n",
    "        max_drawdown=(np.min(price)/ np.max(price) - 1),\n",
    "        VaR=returns.quantile(0.05)[0],\n",
    "        ES=returns[returns < returns.quantile(0.05)].mean()[0]\n",
    "        )"
   ]
  },
  {
   "cell_type": "code",
   "execution_count": null,
   "metadata": {},
   "outputs": [],
   "source": [
    "# characteristics\n",
    "port_min_mu = pd.read_csv('1.5_monving_window_performance_min_mu_strategy.csv', index_col=0)\n",
    "port_max_mu = pd.read_csv('1.5_monving_window_performance_max_mu_strategy.csv', index_col=0)\n",
    "min_p = pd.read_csv('1.5_moving_windown_min_p.csv', index_col=0)\n",
    "max_p = pd.read_csv('1.5_moving_windown_max_p.csv', index_col=0)\n",
    "\n",
    "price_min_p = np.sum(min_p.values * price_df[price_df.index >= '2005'].values, axis=1)\n",
    "price_max_p = np.sum(max_p.values * price_df[price_df.index >= '2005'].values, axis=1)\n",
    "\n",
    "\n",
    "port_min_mu_char = cal_char(port_min_mu, price_min_p)\n",
    "port_max_mu_char = cal_char(port_max_mu, price_max_p)\n",
    "dfs = [pd.DataFrame(port_min_mu_char._asdict(), index=['moving_window_min_mu']), \n",
    "       pd.DataFrame(port_max_mu_char._asdict(), index=['moving_window_max_mu'])]\n",
    "dfs = pd.concat(dfs)\n",
    "dfs"
   ]
  },
  {
   "cell_type": "markdown",
   "metadata": {},
   "source": [
    "## Comparison"
   ]
  },
  {
   "cell_type": "code",
   "execution_count": null,
   "metadata": {},
   "outputs": [],
   "source": [
    "# other weights\n",
    "equal_weights = np.ones(len(monthly_df.columns)) / len(monthly_df.columns)\n",
    "mkt_weights = market_cap[market_cap.index > '2005'].div(\n",
    "    market_cap[market_cap.index > '2005'].sum(axis=1), axis=0)"
   ]
  },
  {
   "cell_type": "code",
   "execution_count": null,
   "metadata": {},
   "outputs": [],
   "source": [
    "# equal\n",
    "port_equal = equal_weights @ monthly_df[market_cap.index > '2005'].T\n",
    "port_equal = port_equal.to_frame('eql')\n",
    "\n",
    "# mkt\n",
    "rs = []\n",
    "for i in range(len(mkt_weights)):\n",
    "    w = mkt_weights.iloc[i].values.reshape(1, -1) @ monthly_df[market_cap.index > '2005'].iloc[i].T.values\n",
    "    rs.append(w[0])\n",
    "port_mkt = pd.DataFrame(rs, index=monthly_df[market_cap.index > '2005'].index, columns=['mkt'])\n",
    "\n",
    "price_mkt = np.sum(mkt_weights.values * price_df[price_df.index >= '2005'].values, axis=1)\n",
    "price_equal = np.sum(equal_weights * price_df[price_df.index >= '2005'].values, axis=1)\n",
    "\n",
    "\n",
    "# characteristics\n",
    "port_equal_char = cal_char(port_equal, price_equal)\n",
    "port_mkt_char = cal_char(port_mkt, price_mkt)\n",
    "dfs_others = [pd.DataFrame(port_equal_char._asdict(), index=['equal']), \n",
    "       pd.DataFrame(port_mkt_char._asdict(), index=['value'])]\n",
    "dfs_others = pd.concat(dfs_others)\n",
    "final_char = pd.concat([dfs, dfs_others])\n",
    "final_char"
   ]
  },
  {
   "cell_type": "markdown",
   "metadata": {},
   "source": [
    "# 1.6 Positive constraint, $P_{oss}^{(+)}$"
   ]
  },
  {
   "cell_type": "code",
   "execution_count": null,
   "metadata": {},
   "outputs": [],
   "source": [
    "def portfolio_resampling_pos_constraint(Q, m, p0, risk_aversion=2, p1_num=200):\n",
    "    \"\"\"\n",
    "    \n",
    "    :param Q: number of resampleing\n",
    "    :param m: number of mu\n",
    "    :param returns: returns\n",
    "    :param nb_row: number of sample rows\n",
    "    :param risk_aversion: risk aversion\n",
    "    \"\"\"\n",
    "    mu_0 = p0.mean()\n",
    "    cov_0 = p0.cov()\n",
    "\n",
    "    opt_mus = []\n",
    "    opt_covs = []\n",
    "    a_res = [[] for i in range(m)]\n",
    "    for i in range(Q):\n",
    "        size = p0.shape\n",
    "        if p1_num is not None:\n",
    "            _, col = size\n",
    "            size = (p1_num, col)\n",
    "        p1 = np.random.normal(loc=p0.mean().values, scale=p0.std().values, size=size)\n",
    "        p1 = pd.DataFrame(p1)\n",
    "        p1_ft, _, min_mu, min_cov, _, max_mu, max_cov = efficient_frontier(\n",
    "            p1.mean(), p1.cov(), risk_aversion=risk_aversion, num_port=201)\n",
    "        \n",
    "        mu_1 = p1.mean()\n",
    "        cov_1 = p1.cov()\n",
    "        c = 0\n",
    "        for mu in np.linspace(min_mu, max_mu, m):\n",
    "            obj = lambda a: a.T @ cov_1 @ a\n",
    "            cons1 = {\n",
    "                'type': 'eq',\n",
    "                'fun': lambda a: a.T @ (np.zeros(len(a)) + 1) - 1\n",
    "            }\n",
    "            cons2 = {\n",
    "                'type': 'eq',\n",
    "                'fun': lambda a: a.T @ mu_1 - mu\n",
    "            }\n",
    "            w0 = np.random.random(mu_1.shape)\n",
    "            w0 /= w0.sum()\n",
    "            bnds = [[0, 1] for i in range(len(w0))]\n",
    "            res = minimize(obj, x0=w0.reshape(-1), method='SLSQP', constraints=(cons1, cons2), bounds=bnds)\n",
    "            r = res.x\n",
    "            opt_mu = r.T @ mu_0\n",
    "            opt_cov = r.T @ cov_0 @ r\n",
    "            opt_mus.append(opt_mu)\n",
    "            opt_covs.append(opt_cov)\n",
    "            a_res[c].append(r)\n",
    "            c += 1\n",
    "\n",
    "    mu_res = []\n",
    "    cov_res = []\n",
    "    ares = []\n",
    "    for i in range(m):\n",
    "        _a_res = np.asarray(a_res)[i].sum(axis=0)/Q\n",
    "        mu_res.append(_a_res.T @ mu_0)\n",
    "        cov_res.append(_a_res.T @ cov_0 @ _a_res)\n",
    "        ares.append(_a_res)\n",
    "        \n",
    "    mu_res = np.array(mu_res)\n",
    "    cov_res = np.array(cov_res)\n",
    "    ares = np.array(ares)\n",
    "    \n",
    "    \n",
    "    return mu_res, cov_res, ares, opt_mus, opt_covs"
   ]
  },
  {
   "cell_type": "code",
   "execution_count": null,
   "metadata": {
    "scrolled": false
   },
   "outputs": [],
   "source": [
    "win_len = 72  # 6-year moving window\n",
    "Q = 10  # number of Monte Carlo simulation\n",
    "m = 2 # number of mean points durung the resampling, here is two for min mean and max mean.\n",
    "p1_num = 200  # number of points of P1 sample, generated from the normal distribution of monthly data.\n",
    "\n",
    "running = True  # loop condition\n",
    "c = 0  # loop index\n",
    "\n",
    "# --- results --- #\n",
    "min_mu = []\n",
    "max_mu = []\n",
    "\n",
    "min_var = []\n",
    "max_var = []\n",
    "\n",
    "min_p = []\n",
    "max_p = []\n",
    "# --------------- #\n",
    "\n",
    "while running:\n",
    "    timestart = time.time()\n",
    "    \n",
    "    # generate moving window\n",
    "    start = c\n",
    "    stop = c + win_len-1\n",
    "    mov = monthly_df.iloc[slice(start, stop), :]\n",
    "    \n",
    "    # resampling\n",
    "    mu_res, cov_res, ares, _, _ = portfolio_resampling_pos_constraint(Q=Q, m=m, p0=monthly_df)\n",
    "    min_mu.append(mu_res[0])\n",
    "    max_mu.append(mu_res[-1])\n",
    "    \n",
    "    min_var.append(cov_res[0])\n",
    "    max_var.append(cov_res[-1])\n",
    "    \n",
    "    min_p.append(ares[0])\n",
    "    max_p.append(ares[-1])\n",
    "    \n",
    "    timestop = time.time()\n",
    "    \n",
    "    print(f'Progress: {c}/217, {timestop-timestart}s')\n",
    "    c += 1\n",
    "    if stop == len(monthly_df):\n",
    "        running = False\n",
    "\n",
    "# # Convert to DataFrame        \n",
    "# min_mu = pd.DataFrame(min_mu, index=monthly_df[monthly_df.index > '2005'].index)\n",
    "# max_mu = pd.DataFrame(max_mu, index=monthly_df[monthly_df.index > '2005'].index)\n",
    "\n",
    "# min_var = pd.DataFrame(min_var, index=monthly_df[monthly_df.index > '2005'].index)\n",
    "# max_var = pd.DataFrame(max_var, index=monthly_df[monthly_df.index > '2005'].index)\n",
    "\n",
    "min_p = pd.DataFrame(min_p, index=monthly_df[monthly_df.index > '2005'].index,\n",
    "                     columns=[i.split('-')[0] for i in monthly_df.columns])\n",
    "max_p = pd.DataFrame(max_p, index=monthly_df[monthly_df.index > '2005'].index,\n",
    "                     columns=[i.split('-')[0] for i in monthly_df.columns])\n"
   ]
  },
  {
   "cell_type": "code",
   "execution_count": null,
   "metadata": {},
   "outputs": [],
   "source": [
    "# save data\n",
    "min_p.to_csv('1.6_long_only_port_min_mu.csv')\n",
    "max_p.to_csv('1.6_long_only_port_max_mu.csv')"
   ]
  },
  {
   "cell_type": "code",
   "execution_count": null,
   "metadata": {},
   "outputs": [],
   "source": [
    "# mean\n",
    "res = [[], []]\n",
    "for i in range(18*12):\n",
    "    ret = min_p.iloc[i].values.T @ monthly_df.iloc[i+72]\n",
    "    res[0].append(ret)\n",
    "    ret = max_p.iloc[i].values.T @ monthly_df.iloc[i+72]\n",
    "    res[1].append(ret)\n",
    "\n",
    "# convert/save to DataFrame\n",
    "port_min_mu = pd.DataFrame(res[0], index=monthly_df[monthly_df.index > '2005'].index,\n",
    "             columns=['performance_min_mu'])\n",
    "port_min_mu.to_csv('1.6_monving_window_performance_min_mu_strategy.csv')\n",
    "port_max_mu = pd.DataFrame(res[1], index=monthly_df[monthly_df.index > '2005'].index,\n",
    "             columns=['performance_max_mu'])\n",
    "port_max_mu.to_csv('1.6_monving_window_performance_max_mu_strategy.csv')"
   ]
  },
  {
   "cell_type": "code",
   "execution_count": null,
   "metadata": {},
   "outputs": [],
   "source": [
    "port_long_only_min_mu = pd.read_csv('1.6_monving_window_performance_min_mu_strategy.csv')\n",
    "port_long_only_max_mu = pd.read_csv('1.6_monving_window_performance_max_mu_strategy.csv')\n",
    "\n",
    "min_p = pd.read_csv('1.6_long_only_port_min_mu.csv', index_col=0)\n",
    "max_p = pd.read_csv('1.6_long_only_port_max_mu.csv', index_col=0)\n",
    "\n",
    "price_long_only_min_p = np.sum(min_p.values * price_df[price_df.index >= '2005'].values, axis=1)\n",
    "price_long_only_max_p = np.sum(max_p.values * price_df[price_df.index >= '2005'].values, axis=1)\n",
    "\n",
    "port_min_mu_char = cal_char(port_min_mu, price_long_only_min_p)\n",
    "port_max_mu_char = cal_char(port_max_mu, price_long_only_max_p)\n",
    "poos_pos_df = [pd.DataFrame(port_min_mu_char._asdict(), index=['Poos_pos_min_mu']), \n",
    "                 pd.DataFrame(port_max_mu_char._asdict(), index=['Poos_pos_max_mu'])]"
   ]
  },
  {
   "cell_type": "code",
   "execution_count": null,
   "metadata": {},
   "outputs": [],
   "source": [
    "pd.concat([final_char, *poos_pos_df])  # save to file, named '1.6_portfolio_characteristics_comparison.csv'"
   ]
  },
  {
   "cell_type": "markdown",
   "metadata": {},
   "source": [
    "* `moving_window_min_mu`: out-of-sample portfolio $P_{oos}$ with minimal variance strategy\n",
    "* `moving_window_max_mu`: out-of-sample portfolio $P_{oos}$ with maximal variance strategy\n",
    "* `equal`: equally weighted\n",
    "* `value`: market value weighted\n",
    "* `Poos_pos_min_mu`: out-of-sample long-only portfolio $P_{oos}$ with minimal variance strategy\n",
    "* `Poos_pos_max_mu`: out-of-sample long-only portfolio $P_{oos}$ with maximal variance strategy"
   ]
  },
  {
   "cell_type": "code",
   "execution_count": null,
   "metadata": {},
   "outputs": [],
   "source": [
    "ax = plt.gca()\n",
    "\n",
    "x = price_df[price_df.index >= '2005'].index\n",
    "ax.plot(x, price_min_p, label='$P_{oos}$')\n",
    "ax.plot(x, price_long_only_min_p, label='$P_{oos}^{+}$')\n",
    "ax.plot(x, price_equal, label='equal')\n",
    "ax.plot(x, price_mkt, label='market')\n",
    "ax.legend()\n",
    "ax.set_xlabel('Time')\n",
    "ax.set_ylabel('Price')"
   ]
  },
  {
   "cell_type": "markdown",
   "metadata": {},
   "source": [
    "# 2. Carbon intensity"
   ]
  },
  {
   "cell_type": "markdown",
   "metadata": {},
   "source": [
    "## Structure data"
   ]
  },
  {
   "cell_type": "code",
   "execution_count": null,
   "metadata": {},
   "outputs": [],
   "source": [
    "err_cols = [i for i in revenue.columns if i.startswith('#')]\n",
    "revenue = revenue.drop(columns=err_cols)[revenue.index.year == 2021]\n",
    "revenue.columns = [i.split('-')[0] for i in revenue.columns]\n",
    "\n",
    "err_cols = [i for i in emission.columns if i.startswith('#')]\n",
    "emission = emission.drop(columns=err_cols)[emission.index.year == 2021]\n",
    "emission.columns = [i.split('-')[0] for i in emission.columns]"
   ]
  },
  {
   "cell_type": "code",
   "execution_count": null,
   "metadata": {},
   "outputs": [],
   "source": [
    "arr = []\n",
    "for i in range(len(revenue)):\n",
    "    a = emission.iloc[i, :].values.reshape(-1, 1) / revenue.iloc[i, :].values.reshape(-1, 1)\n",
    "    arr.append(a.reshape(-1))\n",
    "carbon_intensity = pd.DataFrame(arr,\n",
    "                                columns=[i for i in emission.columns],\n",
    "                                index=emission.index)\n",
    "monthly_cols = [i.split('-')[0] for i in monthly_df.columns]\n",
    "carbon_intensity = carbon_intensity.iloc[:, carbon_intensity.columns.isin(monthly_cols)]\n",
    "carbon_intensity = carbon_intensity.dropna(axis=1)\n",
    "carbon_intensity"
   ]
  },
  {
   "cell_type": "markdown",
   "metadata": {},
   "source": [
    "## 2.1 Carbon intensity 2021 distribution"
   ]
  },
  {
   "cell_type": "code",
   "execution_count": null,
   "metadata": {},
   "outputs": [],
   "source": [
    "ax = plt.gca()\n",
    "np.log10(carbon_intensity.mean()).hist(bins=20, ax=ax)\n",
    "plt.xticks(np.arange(-4, 1.1, 1), ['10$^{%s}$' % i for i in range(-4, 2)])\n",
    "ax.set_xlabel('Carbon Intensity')\n",
    "ax.set_ylabel('Number')\n",
    "ax.set_xlim(-4, 1)\n",
    "ax.set_ylim(0, 12);"
   ]
  },
  {
   "cell_type": "markdown",
   "metadata": {},
   "source": [
    "## 2.1 Optimal long-only portfolio with carbon intensity"
   ]
  },
  {
   "cell_type": "code",
   "execution_count": null,
   "metadata": {},
   "outputs": [],
   "source": [
    "monthly_carbon = monthly_df\n",
    "monthly_carbon.columns = [i.split('-')[0] for i in monthly_carbon.columns]\n",
    "monthly_carbon = monthly_carbon.iloc[:, monthly_carbon.columns.isin(carbon_intensity.columns)]\n",
    "price_carbon = price_df.iloc[:, price_df.columns.isin(carbon_intensity.columns)]\n",
    "monthly_carbon"
   ]
  },
  {
   "cell_type": "code",
   "execution_count": null,
   "metadata": {},
   "outputs": [],
   "source": [
    "monthly_carbon_vol = monthly_vol\n",
    "monthly_carbon_vol.columns = [i.split('-')[0] for i in monthly_carbon_vol.columns]\n",
    "monthly_carbon_vol = monthly_carbon_vol.iloc[:, monthly_carbon_vol.columns.isin(carbon_intensity.columns)]\n",
    "monthly_carbon_vol"
   ]
  },
  {
   "cell_type": "code",
   "execution_count": null,
   "metadata": {
    "scrolled": true
   },
   "outputs": [],
   "source": [
    "win_len = 72  # 6-year moving window\n",
    "Q = 100  # number of Monte Carlo simulation\n",
    "m = 2 # number of mean points durung the resampling, here is two for min mean and max mean.\n",
    "p1_num = 200  # number of points of P1 sample, generated from the normal distribution of monthly data.\n",
    "\n",
    "running = True  # loop condition\n",
    "c = 16 * 12 # loop index\n",
    "\n",
    "# --- results --- #\n",
    "min_mu = []\n",
    "max_mu = []\n",
    "\n",
    "min_var = []\n",
    "max_var = []\n",
    "\n",
    "min_p = []\n",
    "max_p = []\n",
    "# --------------- #\n",
    "\n",
    "print('Start to generate the portfolio')\n",
    "while running:\n",
    "    timestart = time.time()\n",
    "    \n",
    "    # generate moving window\n",
    "    start = c\n",
    "    stop = c + win_len\n",
    "    mov = monthly_carbon.iloc[slice(start, stop), :]\n",
    "    \n",
    "    # resampling\n",
    "    mu_res, cov_res, ares, _, _ = portfolio_resampling_pos_constraint(Q=Q, m=m, p0=monthly_carbon)\n",
    "    min_mu.append(mu_res[0])\n",
    "    max_mu.append(mu_res[-1])\n",
    "    \n",
    "    min_var.append(cov_res[0])\n",
    "    max_var.append(cov_res[-1])\n",
    "    \n",
    "    min_p.append(ares[0])\n",
    "    max_p.append(ares[-1])\n",
    "    \n",
    "    timestop = time.time()\n",
    "    \n",
    "    print(f'Progress: {c-16 * 12}/11, {timestop-timestart}s')\n",
    "    c += 1\n",
    "    if c == (17 * 12):\n",
    "        running = False\n",
    "\n",
    "# Convert to DataFrame        \n",
    "min_mu = pd.DataFrame(min_mu, index=carbon_intensity.index)\n",
    "max_mu = pd.DataFrame(max_mu, index=carbon_intensity.index)\n",
    "\n",
    "min_var = pd.DataFrame(min_var, index=carbon_intensity.index)\n",
    "max_var = pd.DataFrame(max_var, index=carbon_intensity.index)\n",
    "\n",
    "min_p = pd.DataFrame(min_p, index=carbon_intensity.index, columns=monthly_carbon.columns)\n",
    "max_p = pd.DataFrame(max_p, index=carbon_intensity.index, columns=monthly_carbon.columns)"
   ]
  },
  {
   "cell_type": "code",
   "execution_count": null,
   "metadata": {},
   "outputs": [],
   "source": [
    "# save\n",
    "# min_p.to_csv('2.1_Poos_pos_b_min_mu.csv')\n",
    "# max_p.to_csv('2.1_Poos_pos_b_max_mu.csv')\n",
    "\n",
    "# read\n",
    "min_p = pd.read_csv('2.1_Poos_pos_b_min_mu.csv', index_col=0)\n",
    "max_p = pd.read_csv('2.1_Poos_pos_b_max_mu.csv', index_col=0)"
   ]
  },
  {
   "cell_type": "code",
   "execution_count": null,
   "metadata": {
    "scrolled": false
   },
   "outputs": [],
   "source": [
    "# portfolio distribution over months\n",
    "\n",
    "fig, ax = plt.subplots(1, 1, figsize=(9, 4))\n",
    "\n",
    "high = np.zeros(len(min_p))\n",
    "colors = colormaps['viridis']\n",
    "edge_colors = colormaps['gray']\n",
    "for i in range(len(min_p.columns)):\n",
    "    low = high\n",
    "    high = low + min_p.iloc[:, i]\n",
    "    ax.fill_between(x=min_p.index, y1=high, y2=low,\n",
    "                    color=colors(i/len(min_p.columns)),\n",
    "                    edgecolor=edge_colors(1 - i/len(min_p.columns)),\n",
    "                    lw=0.2, label=min_p.columns[i])\n",
    "ax.legend(ncol=3, fontsize=5, loc=3, bbox_to_anchor=(1, 0))\n",
    "ax.set_ylim(0, 1)\n",
    "ax.set_ylabel('Weight')\n",
    "ax.set_xlabel('Month')\n",
    "plt.xticks(rotation=90)\n",
    "plt.tight_layout()\n",
    "plt.savefig('poos.pdf')"
   ]
  },
  {
   "cell_type": "markdown",
   "metadata": {},
   "source": [
    "## 2.2 Carbon footprint"
   ]
  },
  {
   "cell_type": "code",
   "execution_count": null,
   "metadata": {},
   "outputs": [],
   "source": [
    "market_cap.columns = [i.split('-')[0] for i in market_cap.columns]\n",
    "market_cap_2021 = market_cap[market_cap.index.year == 2021]\n",
    "market_cap_2021 = market_cap_2021.iloc[:, market_cap_2021.columns.isin(carbon_intensity.columns)]\n",
    "market_cap_2021 = market_cap_2021.resample('M').mean()\n",
    "market_cap_2021"
   ]
  },
  {
   "cell_type": "markdown",
   "metadata": {},
   "source": [
    "### CF using $P_{oos}^{(+b)}$"
   ]
  },
  {
   "cell_type": "code",
   "execution_count": null,
   "metadata": {},
   "outputs": [],
   "source": [
    "emission = emission.iloc[:, emission.columns.isin(carbon_intensity.columns)]\n",
    "poos_pos_b = min_p\n",
    "\n",
    "cf_res = []\n",
    "for i in range(len(market_cap_2021)):\n",
    "    o_t = poos_pos_b.iloc[i] / market_cap_2021.iloc[i]\n",
    "    cf_t = o_t @ emission.iloc[i]\n",
    "    cf_res.append(cf_t)\n",
    "cf_res = pd.DataFrame(cf_res, index=carbon_intensity.index, columns=['CF using Poos+b'])\n",
    "cf_res"
   ]
  },
  {
   "cell_type": "markdown",
   "metadata": {},
   "source": [
    "### Optimize with 75% of CF using  $P_{oos}^{(+b)}$"
   ]
  },
  {
   "cell_type": "code",
   "execution_count": null,
   "metadata": {},
   "outputs": [],
   "source": [
    "cf_goal = cf_res * 0.75\n",
    "cf_goal.columns = ['CF goal']\n",
    "\n",
    "for i in range(len(cf_goal)):\n",
    "    goal = cf_goal.iloc[i].values[0]\n"
   ]
  },
  {
   "cell_type": "code",
   "execution_count": null,
   "metadata": {},
   "outputs": [],
   "source": [
    "def optimize_cf(cov, ems, cf, mkt):\n",
    "    obj = lambda a: a.T @ cov @ a\n",
    "    cons1 = {\n",
    "        'type': 'eq',\n",
    "        'fun': lambda a: a.T @ (np.ones(ems.shape)) - 1\n",
    "    }\n",
    "    cons2 = {\n",
    "        'type': 'eq',\n",
    "        'fun': lambda a: (a/mkt).T @ ems - cf\n",
    "    }\n",
    "    w0 = np.random.random(ems.shape)\n",
    "    w0 /= w0.sum()\n",
    "    \n",
    "    bnds = [[0, None] for i in range(len(w0))]\n",
    "    res = minimize(obj, x0=w0.reshape(-1), method='SLSQP',\n",
    "                   constraints=(cons1, cons2), bounds=bnds, options=dict(maxiter=2000))\n",
    "    return res.x\n",
    "\n",
    "def resampled_poos_75(Q, ems, p0, cf, mkt, risk_aversion=2, p1_num=200):\n",
    "    \"\"\"\n",
    "    \n",
    "    :param Q: number of resampleing\n",
    "    :param m: number of mu\n",
    "    :param returns: returns\n",
    "    :param nb_row: number of sample rows\n",
    "    :param risk_aversion: risk aversion\n",
    "    \"\"\"\n",
    "    mu_0 = p0.mean()\n",
    "    cov_0 = p0.cov()\n",
    "\n",
    "    poos_75 = []\n",
    "    for i in range(Q):\n",
    "        size = p0.shape\n",
    "        if p1_num is not None:\n",
    "            _, col = size\n",
    "            size = (p1_num, col)\n",
    "        p1 = np.random.normal(loc=p0.mean().values, scale=p0.std().values, size=size)\n",
    "        p1 = pd.DataFrame(p1)\n",
    "        p1_ft, _, min_mu, min_cov, _, max_mu, max_cov = efficient_frontier(\n",
    "            p1.mean(), p1.cov(), risk_aversion=risk_aversion, num_port=201)\n",
    "        \n",
    "        mu_1 = p1.mean()\n",
    "        cov_1 = p1.cov()\n",
    "        _poos_75 = optimize_cf(cov_1,ems, cf, mkt)\n",
    "        poos_75.append(_poos_75)\n",
    "\n",
    "\n",
    "    poos_75_res = np.asarray(poos_75).sum(axis=0)/Q\n",
    "    \n",
    "    return poos_75_res"
   ]
  },
  {
   "cell_type": "code",
   "execution_count": null,
   "metadata": {},
   "outputs": [],
   "source": [
    "win_len = 72  # 6-year moving window\n",
    "Q = 100  # number of Monte Carlo simulation\n",
    "p1_num = 200  # number of points of P1 sample, generated from the normal distribution of monthly data.\n",
    "\n",
    "running = True  # loop condition\n",
    "c = 16 * 12 # loop index\n",
    "\n",
    "# --- results --- #\n",
    "poos_75 = []\n",
    "# --------------- #\n",
    "\n",
    "print('Start to generate the portfolio')\n",
    "i = 0\n",
    "while running:\n",
    "    timestart = time.time()\n",
    "    \n",
    "    # generate moving window\n",
    "    start = c\n",
    "    stop = c + win_len\n",
    "    mov = monthly_carbon.iloc[slice(start, stop), :]\n",
    "    \n",
    "    # resampling\n",
    "    ems = emission.iloc[i].values\n",
    "    cf = cf_goal.iloc[i].values[0]\n",
    "    mkt = market_cap_2021.iloc[i]\n",
    "    p75 = resampled_poos_75(Q, ems, mov, cf, mkt, risk_aversion=2, p1_num=200)\n",
    "    poos_75.append(p75)\n",
    "    timestop = time.time()\n",
    "    \n",
    "    print(f'Progress: {c-16 * 12}/11, {timestop-timestart}s')\n",
    "    c += 1\n",
    "    i += 1\n",
    "    if c == (17 * 12):\n",
    "        running = False\n",
    "\n",
    "# Convert to DataFrame        \n",
    "poos_75 = pd.DataFrame(poos_75, index=carbon_intensity.index, columns=monthly_carbon.columns)\n",
    "poos_75.to_csv('2.2_poos_75.csv')"
   ]
  },
  {
   "cell_type": "code",
   "execution_count": null,
   "metadata": {},
   "outputs": [],
   "source": [
    "poos_75 = pd.read_csv('2.2_poos_75.csv', index_col=0)\n",
    "poos_75"
   ]
  },
  {
   "cell_type": "code",
   "execution_count": null,
   "metadata": {},
   "outputs": [],
   "source": [
    "# portfolio distribution over months\n",
    "poos_75 = pd.read_csv('2.2_poos_75.csv', index_col=0)\n",
    "poos_75.index = pd.DatetimeIndex(poos_75.index)\n",
    "fig, ax = plt.subplots(1, 1, figsize=(9, 4))\n",
    "\n",
    "high = np.zeros(len(min_p))\n",
    "colors = colormaps['viridis']\n",
    "edge_colors = colormaps['gray']\n",
    "for i in range(len(poos_75.columns)):\n",
    "    low = high\n",
    "    high = low + poos_75.iloc[:, i]\n",
    "    ax.fill_between(x=poos_75.index, y1=high, y2=low,\n",
    "                    color=colors(i/len(poos_75.columns)),\n",
    "                    edgecolor=edge_colors(1 - i/len(poos_75.columns)),\n",
    "                    lw=0.2, label=poos_75.columns[i])\n",
    "ax.legend(ncol=3, fontsize=5, loc=3, bbox_to_anchor=(1, 0))\n",
    "ax.set_ylim(0, 1)\n",
    "ax.set_ylabel('Weight')\n",
    "ax.set_xlabel('Month')\n",
    "plt.tight_layout()\n",
    "plt.savefig('poos_75.pdf')"
   ]
  },
  {
   "cell_type": "code",
   "execution_count": null,
   "metadata": {},
   "outputs": [],
   "source": [
    "y = r[r.index.year == 2021]\n",
    "y.columns = [i.split('-')[0] for i in y.columns]\n",
    "y = y.iloc[:, y.columns.isin(carbon_intensity.columns)]\n",
    "y[y.index.month == 1].cov()"
   ]
  },
  {
   "cell_type": "markdown",
   "metadata": {},
   "source": [
    "#### Comparison of return"
   ]
  },
  {
   "cell_type": "code",
   "execution_count": null,
   "metadata": {},
   "outputs": [],
   "source": [
    "poos_75 = pd.read_csv('2.2_poos_75.csv', index_col=0)\n",
    "poos = pd.read_csv('2.1_Poos_pos_b_min_mu.csv', index_col=0)\n",
    "\n",
    "ax = plt.gca()\n",
    "\n",
    "ret_75_mu = []\n",
    "ret_mu = []\n",
    "\n",
    "for i in range(12):\n",
    "    mu = monthly_carbon[monthly_carbon.index.year == 2021].iloc[i]\n",
    "    ret_75_mu.append(poos_75.iloc[i] @ mu.T)\n",
    "    ret_mu.append(poos.iloc[i] @ mu.T)\n",
    "x = monthly_carbon[monthly_carbon.index.year == 2021].index\n",
    "ax.plot(x, ret_75_mu, label='$P_{oos}^{(+b)}(0.75)$')\n",
    "ax.plot(x, ret_mu, label='$P_{oos}^{(+b)}$')\n",
    "ax.set_xlabel('Month')\n",
    "ax.set_ylabel('Return')\n",
    "ax.legend()\n",
    "plt.savefig('return_comparison.pdf')"
   ]
  },
  {
   "cell_type": "markdown",
   "metadata": {},
   "source": [
    "#### Comparison of volatility"
   ]
  },
  {
   "cell_type": "code",
   "execution_count": null,
   "metadata": {},
   "outputs": [],
   "source": [
    "poos_75 = pd.read_csv('2.2_poos_75.csv', index_col=0)\n",
    "poos = pd.read_csv('2.1_Poos_pos_b_min_mu.csv', index_col=0)\n",
    "\n",
    "ax = plt.gca()\n",
    "\n",
    "ret_75_vol = []\n",
    "ret_vol = []\n",
    "\n",
    "# daily return for calculating the monthly sigma\n",
    "y = r[r.index.year == 2021]\n",
    "y.columns = [i.split('-')[0] for i in y.columns]\n",
    "y = y.iloc[:, y.columns.isin(carbon_intensity.columns)]\n",
    "for i in range(12):\n",
    "    sigma = y[y.index.month == (i+1)].cov()\n",
    "    ret_75_vol.append(poos_75.iloc[i] @ sigma @ poos_75.iloc[i])\n",
    "    ret_vol.append(poos.iloc[i] @ sigma @ poos.iloc[i])\n",
    "x = monthly_carbon[monthly_carbon.index.year == 2021].index\n",
    "ax.plot(x, ret_75_vol, label='$P_{oos}^{(+b)}(0.75)$')\n",
    "ax.plot(x, ret_vol, label='$P_{oos}^{(+b)}$')\n",
    "ax.legend()\n",
    "ax.set_xlabel('Month')\n",
    "ax.set_ylabel('Volatility')\n",
    "plt.tight_layout()\n",
    "plt.savefig('volatility_comparison.pdf')"
   ]
  },
  {
   "cell_type": "code",
   "execution_count": null,
   "metadata": {},
   "outputs": [],
   "source": [
    "comp = {\n",
    "    'annualized_return': [np.mean(ret_mu) * 12, np.mean(ret_75_mu) * 12],\n",
    "    'annualized_vol': [np.sqrt(252*np.mean(ret_vol)), np.sqrt(252*np.mean(ret_75_vol))]\n",
    "}\n",
    "pd.DataFrame(comp, index=['Poos_+b', 'Poos_+b(0.75)'])"
   ]
  },
  {
   "cell_type": "code",
   "execution_count": null,
   "metadata": {},
   "outputs": [],
   "source": [
    "ret_75_vol"
   ]
  },
  {
   "cell_type": "code",
   "execution_count": null,
   "metadata": {},
   "outputs": [],
   "source": [
    "\n",
    "poos_returns = np.sum(poos.values * monthly_carbon[monthly_carbon.index.year == 2021].values, axis=1)\n",
    "poos_price = np.sum(poos.values * price_carbon[price_carbon.index.year == 2021].values, axis=1)\n",
    "\n",
    "poos_75_returns = np.sum(poos_75.values * monthly_carbon[monthly_carbon.index.year == 2021].values, axis=1)\n",
    "poos_75_price = np.sum(poos_75.values * price_carbon[price_carbon.index.year == 2021].values, axis=1)"
   ]
  },
  {
   "cell_type": "code",
   "execution_count": null,
   "metadata": {},
   "outputs": [],
   "source": [
    "def cal_char_poos(returns, price):\n",
    "    return Char(\n",
    "        annualized_average_return=(returns.mean()*252)[0],\n",
    "        annualized_volatility=(np.sqrt(returns.cov()*252)).values[0][0],\n",
    "        minimal=returns.min()[0],\n",
    "        maximal=returns.max()[0],\n",
    "        max_drawdown=(np.min(price)/ np.max(price) - 1),\n",
    "        VaR=returns.quantile(0.05)[0],\n",
    "        ES=returns[returns < returns.quantile(0.05)].mean()[0]\n",
    "        )"
   ]
  },
  {
   "cell_type": "code",
   "execution_count": null,
   "metadata": {},
   "outputs": [],
   "source": [
    "poos_char = cal_char(pd.DataFrame(poos_returns), poos_price)\n",
    "poos_75_char = cal_char(pd.DataFrame(poos_75_returns), poos_75_price)\n",
    "\n",
    "char_sum = pd.concat([pd.DataFrame(poos_char._asdict(), index=['poos']),\n",
    "                      pd.DataFrame(poos_75_char._asdict(), index=['poos_75'])])\n",
    "char_sum.round(6)"
   ]
  },
  {
   "cell_type": "code",
   "execution_count": null,
   "metadata": {},
   "outputs": [],
   "source": [
    "poos.values * monthly_carbon[monthly_carbon.index.year == 2021].values"
   ]
  },
  {
   "cell_type": "code",
   "execution_count": null,
   "metadata": {},
   "outputs": [],
   "source": [
    "s = char_sum.to_latex()"
   ]
  },
  {
   "cell_type": "code",
   "execution_count": null,
   "metadata": {},
   "outputs": [],
   "source": [
    "print(s)"
   ]
  },
  {
   "cell_type": "code",
   "execution_count": null,
   "metadata": {},
   "outputs": [],
   "source": []
  },
  {
   "cell_type": "code",
   "execution_count": null,
   "metadata": {},
   "outputs": [],
   "source": []
  }
 ],
 "metadata": {
  "hide_input": false,
  "kernelspec": {
   "display_name": "Python 3 (ipykernel)",
   "language": "python",
   "name": "python3"
  },
  "language_info": {
   "codemirror_mode": {
    "name": "ipython",
    "version": 3
   },
   "file_extension": ".py",
   "mimetype": "text/x-python",
   "name": "python",
   "nbconvert_exporter": "python",
   "pygments_lexer": "ipython3",
   "version": "3.9.15"
  },
  "toc": {
   "base_numbering": 1,
   "nav_menu": {},
   "number_sections": true,
   "sideBar": true,
   "skip_h1_title": false,
   "title_cell": "Table of Contents",
   "title_sidebar": "Contents",
   "toc_cell": false,
   "toc_position": {
    "height": "calc(100% - 180px)",
    "left": "10px",
    "top": "150px",
    "width": "165px"
   },
   "toc_section_display": true,
   "toc_window_display": true
  }
 },
 "nbformat": 4,
 "nbformat_minor": 1
}
