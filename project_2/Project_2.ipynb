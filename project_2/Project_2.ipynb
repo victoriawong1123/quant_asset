{
 "cells": [
  {
   "cell_type": "code",
   "execution_count": 1,
   "metadata": {
    "collapsed": true,
    "jupyter": {
     "outputs_hidden": true
    }
   },
   "outputs": [],
   "source": [
    "import numpy as np\n",
    "import pandas as pd\n",
    "from matplotlib import pyplot as plt\n",
    "import statsmodels.api as sm\n",
    "from scipy.optimize import minimize\n",
    "import seaborn as sns\n",
    "from numpy.linalg import inv"
   ]
  },
  {
   "cell_type": "code",
   "execution_count": 10,
   "metadata": {},
   "outputs": [],
   "source": [
    "Poos = pd.read_csv('../project_testing/1.6_monving_window_performance_min_mu_strategy.csv')"
   ]
  },
  {
   "cell_type": "code",
   "execution_count": 11,
   "metadata": {},
   "outputs": [
    {
     "data": {
      "text/plain": "           Date  performance_min_mu\n0    2005-01-31           -0.017901\n1    2005-02-28            0.017428\n2    2005-03-31           -0.004180\n3    2005-04-30           -0.023629\n4    2005-05-31            0.035287\n..          ...                 ...\n211  2022-08-31           -0.029221\n212  2022-09-30           -0.091870\n213  2022-10-31            0.090702\n214  2022-11-30            0.060563\n215  2022-12-31           -0.031388\n\n[216 rows x 2 columns]",
      "text/html": "<div>\n<style scoped>\n    .dataframe tbody tr th:only-of-type {\n        vertical-align: middle;\n    }\n\n    .dataframe tbody tr th {\n        vertical-align: top;\n    }\n\n    .dataframe thead th {\n        text-align: right;\n    }\n</style>\n<table border=\"1\" class=\"dataframe\">\n  <thead>\n    <tr style=\"text-align: right;\">\n      <th></th>\n      <th>Date</th>\n      <th>performance_min_mu</th>\n    </tr>\n  </thead>\n  <tbody>\n    <tr>\n      <th>0</th>\n      <td>2005-01-31</td>\n      <td>-0.017901</td>\n    </tr>\n    <tr>\n      <th>1</th>\n      <td>2005-02-28</td>\n      <td>0.017428</td>\n    </tr>\n    <tr>\n      <th>2</th>\n      <td>2005-03-31</td>\n      <td>-0.004180</td>\n    </tr>\n    <tr>\n      <th>3</th>\n      <td>2005-04-30</td>\n      <td>-0.023629</td>\n    </tr>\n    <tr>\n      <th>4</th>\n      <td>2005-05-31</td>\n      <td>0.035287</td>\n    </tr>\n    <tr>\n      <th>...</th>\n      <td>...</td>\n      <td>...</td>\n    </tr>\n    <tr>\n      <th>211</th>\n      <td>2022-08-31</td>\n      <td>-0.029221</td>\n    </tr>\n    <tr>\n      <th>212</th>\n      <td>2022-09-30</td>\n      <td>-0.091870</td>\n    </tr>\n    <tr>\n      <th>213</th>\n      <td>2022-10-31</td>\n      <td>0.090702</td>\n    </tr>\n    <tr>\n      <th>214</th>\n      <td>2022-11-30</td>\n      <td>0.060563</td>\n    </tr>\n    <tr>\n      <th>215</th>\n      <td>2022-12-31</td>\n      <td>-0.031388</td>\n    </tr>\n  </tbody>\n</table>\n<p>216 rows × 2 columns</p>\n</div>"
     },
     "execution_count": 11,
     "metadata": {},
     "output_type": "execute_result"
    }
   ],
   "source": [
    "\n",
    "Poos['performance_min_mu']"
   ]
  },
  {
   "cell_type": "code",
   "execution_count": null,
   "metadata": {},
   "outputs": [],
   "source": []
  },
  {
   "cell_type": "code",
   "execution_count": null,
   "metadata": {},
   "outputs": [],
   "source": []
  }
 ],
 "metadata": {
  "kernelspec": {
   "display_name": "Python 3 (ipykernel)",
   "language": "python",
   "name": "python3"
  },
  "language_info": {
   "codemirror_mode": {
    "name": "ipython",
    "version": 3
   },
   "file_extension": ".py",
   "mimetype": "text/x-python",
   "name": "python",
   "nbconvert_exporter": "python",
   "pygments_lexer": "ipython3",
   "version": "3.9.15"
  }
 },
 "nbformat": 4,
 "nbformat_minor": 4
}
