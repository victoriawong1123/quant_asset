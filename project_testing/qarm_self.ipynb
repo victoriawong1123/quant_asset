{
 "cells": [
  {
   "cell_type": "code",
   "execution_count": 1,
   "metadata": {
    "collapsed": true
   },
   "outputs": [],
   "source": [
    "import numpy as np\n",
    "import pandas as pd\n",
    "from scipy import stats\n",
    "import statsmodels.api as sm\n",
    "from scipy.optimize import minimize\n",
    "import matplotlib.pyplot as plt"
   ]
  },
  {
   "cell_type": "code",
   "execution_count": 2,
   "outputs": [],
   "source": [
    "market_cap = pd.read_excel('Group_G copy.xlsx', sheet_name=1)\n",
    "price_index = pd.read_excel('Group_G copy.xlsx', sheet_name=2, index_col='Date')\n",
    "revenue = pd.read_excel('Group_G copy.xlsx', sheet_name=3)\n",
    "emission = pd.read_excel('Group_G copy.xlsx', sheet_name=4)"
   ],
   "metadata": {
    "collapsed": false
   }
  },
  {
   "cell_type": "code",
   "execution_count": 3,
   "outputs": [],
   "source": [
    "def assets_returns(assets, period, compounded=True):\n",
    "    if not compounded:\n",
    "        asset_return = (assets / assets.shift(periods=period)) - 1\n",
    "    elif compounded:\n",
    "        diff = assets / assets.shift(periods=period)\n",
    "        asset_return = np.log(diff.astype('float'))\n",
    "    return asset_return"
   ],
   "metadata": {
    "collapsed": false
   }
  },
  {
   "cell_type": "code",
   "execution_count": 4,
   "outputs": [
    {
     "data": {
      "text/plain": "            CAMPBELL SOUP - TOT RETURN IND (~U$) (#T) - CAMPBELL SOUP - TOT RETURN IND (~U$) (#T)  \\\nDate                                                                                                \n1999-01-01                                                NaN                                       \n1999-01-04                                          -0.019318                                       \n1999-01-05                                           0.026652                                       \n1999-01-06                                          -0.009481                                       \n1999-01-07                                          -0.013731                                       \n...                                                       ...                                       \n2022-12-26                                           0.000000                                       \n2022-12-27                                           0.004714                                       \n2022-12-28                                          -0.008863                                       \n2022-12-29                                          -0.005785                                       \n2022-12-30                                           0.000705                                       \n\n            ZOETIS A - TOT RETURN IND (~U$) (#T) - ZOETIS A - TOT RETURN IND (~U$) (#T)  \\\nDate                                                                                      \n1999-01-01                                                NaN                             \n1999-01-04                                                NaN                             \n1999-01-05                                                NaN                             \n1999-01-06                                                NaN                             \n1999-01-07                                                NaN                             \n...                                                       ...                             \n2022-12-26                                           0.000000                             \n2022-12-27                                          -0.003159                             \n2022-12-28                                          -0.010126                             \n2022-12-29                                           0.030043                             \n2022-12-30                                          -0.010791                             \n\n            APARTMENT INV.& MAN.'A' - TOT RETURN IND (~U$) (#T) - APARTMENT INV.& MAN.'A' - TOT RETURN IND (~U$) (#T)  \\\nDate                                                                                                                    \n1999-01-01                                                NaN                                                           \n1999-01-04                                           0.015101                                                           \n1999-01-05                                          -0.001637                                                           \n1999-01-06                                           0.004955                                                           \n1999-01-07                                          -0.023092                                                           \n...                                                       ...                                                           \n2022-12-26                                           0.000000                                                           \n2022-12-27                                          -0.027325                                                           \n2022-12-28                                          -0.015446                                                           \n2022-12-29                                           0.025678                                                           \n2022-12-30                                          -0.009739                                                           \n\n            WILLIAMS - TOT RETURN IND (~U$) (#T) - WILLIAMS - TOT RETURN IND (~U$) (#T)  \\\nDate                                                                                      \n1999-01-01                                                NaN                             \n1999-01-04                                          -0.032066                             \n1999-01-05                                          -0.010350                             \n1999-01-06                                           0.031381                             \n1999-01-07                                           0.000000                             \n...                                                       ...                             \n2022-12-26                                           0.000000                             \n2022-12-27                                           0.002701                             \n2022-12-28                                          -0.020653                             \n2022-12-29                                           0.007641                             \n2022-12-30                                          -0.002124                             \n\n            TNSC.'A' SBVTG. - TOT RETURN IND (~U$) (#T) - TNSC.'A' SBVTG. - TOT RETURN IND (~U$) (#T)  \\\nDate                                                                                                    \n1999-01-01                                                NaN                                           \n1999-01-04                                           0.030542                                           \n1999-01-05                                          -0.020790                                           \n1999-01-06                                          -0.002646                                           \n1999-01-07                                          -0.005047                                           \n...                                                       ...                                           \n2022-12-26                                           0.000000                                           \n2022-12-27                                           0.006491                                           \n2022-12-28                                          -0.011865                                           \n2022-12-29                                           0.017305                                           \n2022-12-30                                          -0.007033                                           \n\n            BREAD FINANCIAL HOLDINGS - TOT RETURN IND (~U$) (#T) - BREAD FINANCIAL HOLDINGS - TOT RETURN IND (~U$) (#T)  \\\nDate                                                                                                                      \n1999-01-01                                                NaN                                                             \n1999-01-04                                                NaN                                                             \n1999-01-05                                                NaN                                                             \n1999-01-06                                                NaN                                                             \n1999-01-07                                                NaN                                                             \n...                                                       ...                                                             \n2022-12-26                                           0.000000                                                             \n2022-12-27                                          -0.010185                                                             \n2022-12-28                                          -0.034947                                                             \n2022-12-29                                           0.047708                                                             \n2022-12-30                                           0.009107                                                             \n\n            NASDAQ - TOT RETURN IND (~U$) (#T) - NASDAQ - TOT RETURN IND (~U$) (#T)  \\\nDate                                                                                  \n1999-01-01                                                NaN                         \n1999-01-04                                                NaN                         \n1999-01-05                                                NaN                         \n1999-01-06                                                NaN                         \n1999-01-07                                                NaN                         \n...                                                       ...                         \n2022-12-26                                           0.000000                         \n2022-12-27                                          -0.004892                         \n2022-12-28                                          -0.004595                         \n2022-12-29                                           0.019276                         \n2022-12-30                                          -0.008406                         \n\n            ENERGEN DEAD - DELIST.30/11/18 - TOT RETURN IND (~U$) (#T) - ENERGEN DEAD - DELIST.30/11/18 - TOT RETURN IND (~U$) (#T)  \\\nDate                                                                                                                                  \n1999-01-01                                                NaN                                                                         \n1999-01-04                                          -0.003204                                                                         \n1999-01-05                                           0.000000                                                                         \n1999-01-06                                          -0.003216                                                                         \n1999-01-07                                          -0.022581                                                                         \n...                                                       ...                                                                         \n2022-12-26                                                NaN                                                                         \n2022-12-27                                                NaN                                                                         \n2022-12-28                                                NaN                                                                         \n2022-12-29                                                NaN                                                                         \n2022-12-30                                                NaN                                                                         \n\n            XEROX HOLDINGS - TOT RETURN IND (~U$) (#T) - XEROX HOLDINGS - TOT RETURN IND (~U$) (#T)  \\\nDate                                                                                                  \n1999-01-01                                                NaN                                         \n1999-01-04                                          -0.002122                                         \n1999-01-05                                           0.019105                                         \n1999-01-06                                           0.019268                                         \n1999-01-07                                          -0.004591                                         \n...                                                       ...                                         \n2022-12-26                                           0.000000                                         \n2022-12-27                                           0.006185                                         \n2022-12-28                                          -0.022539                                         \n2022-12-29                                           0.025822                                         \n2022-12-30                                           0.007524                                         \n\n            UNIVERSAL HEALTH SVS.'B' - TOT RETURN IND (~U$) (#T) - UNIVERSAL HEALTH SVS.'B' - TOT RETURN IND (~U$) (#T)  \\\nDate                                                                                                                      \n1999-01-01                                                NaN                                                             \n1999-01-04                                           0.016873                                                             \n1999-01-05                                           0.004731                                                             \n1999-01-06                                          -0.001175                                                             \n1999-01-07                                          -0.028336                                                             \n...                                                       ...                                                             \n2022-12-26                                           0.000000                                                             \n2022-12-27                                           0.003552                                                             \n2022-12-28                                          -0.013380                                                             \n2022-12-29                                           0.010188                                                             \n2022-12-30                                           0.000710                                                             \n\n            ...  \\\nDate        ...   \n1999-01-01  ...   \n1999-01-04  ...   \n1999-01-05  ...   \n1999-01-06  ...   \n1999-01-07  ...   \n...         ...   \n2022-12-26  ...   \n2022-12-27  ...   \n2022-12-28  ...   \n2022-12-29  ...   \n2022-12-30  ...   \n\n            WSP GLOBAL - TOT RETURN IND (~U$) (#T) - WSP GLOBAL - TOT RETURN IND (~U$) (#T)  \\\nDate                                                                                          \n1999-01-01                                                NaN                                 \n1999-01-04                                                NaN                                 \n1999-01-05                                                NaN                                 \n1999-01-06                                                NaN                                 \n1999-01-07                                                NaN                                 \n...                                                       ...                                 \n2022-12-26                                           0.000000                                 \n2022-12-27                                           0.006489                                 \n2022-12-28                                          -0.013214                                 \n2022-12-29                                           0.013386                                 \n2022-12-30                                           0.006105                                 \n\n            CHIMERA INVESTMENT - TOT RETURN IND (~U$) (#T) - CHIMERA INVESTMENT - TOT RETURN IND (~U$) (#T)  \\\nDate                                                                                                          \n1999-01-01                                                NaN                                                 \n1999-01-04                                                NaN                                                 \n1999-01-05                                                NaN                                                 \n1999-01-06                                                NaN                                                 \n1999-01-07                                                NaN                                                 \n...                                                       ...                                                 \n2022-12-26                                           0.000000                                                 \n2022-12-27                                           0.016272                                                 \n2022-12-28                                          -0.067686                                                 \n2022-12-29                                           0.025956                                                 \n2022-12-30                                          -0.035191                                                 \n\n            SYNOVUS FINANCIAL - TOT RETURN IND (~U$) (#T) - SYNOVUS FINANCIAL - TOT RETURN IND (~U$) (#T)  \\\nDate                                                                                                        \n1999-01-01                                                NaN                                               \n1999-01-04                                          -0.002606                                               \n1999-01-05                                           0.020889                                               \n1999-01-06                                           0.020459                                               \n1999-01-07                                          -0.047619                                               \n...                                                       ...                                               \n2022-12-26                                           0.000000                                               \n2022-12-27                                           0.006834                                               \n2022-12-28                                          -0.005703                                               \n2022-12-29                                           0.022666                                               \n2022-12-30                                           0.002670                                               \n\n            FORTIS - TOT RETURN IND (~U$) (#T) - FORTIS - TOT RETURN IND (~U$) (#T)  \\\nDate                                                                                  \n1999-01-01                                                NaN                         \n1999-01-04                                          -0.004760                         \n1999-01-05                                           0.013321                         \n1999-01-06                                           0.017944                         \n1999-01-07                                           0.021613                         \n...                                                       ...                         \n2022-12-26                                           0.000000                         \n2022-12-27                                           0.006489                         \n2022-12-28                                          -0.015304                         \n2022-12-29                                           0.003107                         \n2022-12-30                                          -0.008093                         \n\n            FREEHOLD ROYALTIES - TOT RETURN IND (~U$) (#T) - FREEHOLD ROYALTIES - TOT RETURN IND (~U$) (#T)  \\\nDate                                                                                                          \n1999-01-01                                                NaN                                                 \n1999-01-04                                           0.016243                                                 \n1999-01-05                                           0.009300                                                 \n1999-01-06                                           0.018716                                                 \n1999-01-07                                           0.042114                                                 \n...                                                       ...                                                 \n2022-12-26                                           0.000000                                                 \n2022-12-27                                           0.006490                                                 \n2022-12-28                                          -0.034375                                                 \n2022-12-29                                           0.011677                                                 \n2022-12-30                                           0.007156                                                 \n\n            CHEESECAKE FACTORY - TOT RETURN IND (~U$) (#T) - CHEESECAKE FACTORY - TOT RETURN IND (~U$) (#T)  \\\nDate                                                                                                          \n1999-01-01                                                NaN                                                 \n1999-01-04                                          -0.043171                                                 \n1999-01-05                                          -0.004439                                                 \n1999-01-06                                          -0.008832                                                 \n1999-01-07                                          -0.037937                                                 \n...                                                       ...                                                 \n2022-12-26                                           0.000000                                                 \n2022-12-27                                          -0.012793                                                 \n2022-12-28                                          -0.003477                                                 \n2022-12-29                                           0.007932                                                 \n2022-12-30                                          -0.002516                                                 \n\n            ROYAL CARIBBEAN GROUP - TOT RETURN IND (~U$) (#T) - ROYAL CARIBBEAN GROUP - TOT RETURN IND (~U$) (#T)  \\\nDate                                                                                                                \n1999-01-01                                                NaN                                                       \n1999-01-04                                          -0.047274                                                       \n1999-01-05                                           0.039058                                                       \n1999-01-06                                           0.051234                                                       \n1999-01-07                                          -0.022692                                                       \n...                                                       ...                                                       \n2022-12-26                                           0.000000                                                       \n2022-12-27                                          -0.017874                                                       \n2022-12-28                                          -0.018401                                                       \n2022-12-29                                           0.037503                                                       \n2022-12-30                                          -0.007432                                                       \n\n            ENTERPRISE PRDS.PTNS.LP. - TOT RETURN IND (~U$) (#T) - ENTERPRISE PRDS.PTNS.LP. - TOT RETURN IND (~U$) (#T)  \\\nDate                                                                                                                      \n1999-01-01                                                NaN                                                             \n1999-01-04                                           0.084056                                                             \n1999-01-05                                           0.038704                                                             \n1999-01-06                                           0.052293                                                             \n1999-01-07                                          -0.007082                                                             \n...                                                       ...                                                             \n2022-12-26                                           0.000000                                                             \n2022-12-27                                           0.005845                                                             \n2022-12-28                                          -0.013700                                                             \n2022-12-29                                           0.019360                                                             \n2022-12-30                                          -0.004128                                                             \n\n            BIRCHCLIFF ENERGY - TOT RETURN IND (~U$) (#T) - BIRCHCLIFF ENERGY - TOT RETURN IND (~U$) (#T)  \\\nDate                                                                                                        \n1999-01-01                                                NaN                                               \n1999-01-04                                                NaN                                               \n1999-01-05                                                NaN                                               \n1999-01-06                                                NaN                                               \n1999-01-07                                                NaN                                               \n...                                                       ...                                               \n2022-12-26                                           0.000000                                               \n2022-12-27                                           0.006487                                               \n2022-12-28                                          -0.051007                                               \n2022-12-29                                           0.021052                                               \n2022-12-30                                           0.006763                                               \n\n            SUPERIOR PLUS - TOT RETURN IND (~U$) (#T) - SUPERIOR PLUS - TOT RETURN IND (~U$) (#T)  \nDate                                                                                               \n1999-01-01                                                NaN                                      \n1999-01-04                                           0.013898                                      \n1999-01-05                                           0.002721                                      \n1999-01-06                                           0.014192                                      \n1999-01-07                                          -0.001749                                      \n...                                                       ...                                      \n2022-12-26                                           0.000000                                      \n2022-12-27                                           0.006487                                      \n2022-12-28                                          -0.004856                                      \n2022-12-29                                           0.028602                                      \n2022-12-30                                          -0.005652                                      \n\n[6261 rows x 149 columns]",
      "text/html": "<div>\n<style scoped>\n    .dataframe tbody tr th:only-of-type {\n        vertical-align: middle;\n    }\n\n    .dataframe tbody tr th {\n        vertical-align: top;\n    }\n\n    .dataframe thead th {\n        text-align: right;\n    }\n</style>\n<table border=\"1\" class=\"dataframe\">\n  <thead>\n    <tr style=\"text-align: right;\">\n      <th></th>\n      <th>CAMPBELL SOUP - TOT RETURN IND (~U$) (#T) - CAMPBELL SOUP - TOT RETURN IND (~U$) (#T)</th>\n      <th>ZOETIS A - TOT RETURN IND (~U$) (#T) - ZOETIS A - TOT RETURN IND (~U$) (#T)</th>\n      <th>APARTMENT INV.&amp; MAN.'A' - TOT RETURN IND (~U$) (#T) - APARTMENT INV.&amp; MAN.'A' - TOT RETURN IND (~U$) (#T)</th>\n      <th>WILLIAMS - TOT RETURN IND (~U$) (#T) - WILLIAMS - TOT RETURN IND (~U$) (#T)</th>\n      <th>TNSC.'A' SBVTG. - TOT RETURN IND (~U$) (#T) - TNSC.'A' SBVTG. - TOT RETURN IND (~U$) (#T)</th>\n      <th>BREAD FINANCIAL HOLDINGS - TOT RETURN IND (~U$) (#T) - BREAD FINANCIAL HOLDINGS - TOT RETURN IND (~U$) (#T)</th>\n      <th>NASDAQ - TOT RETURN IND (~U$) (#T) - NASDAQ - TOT RETURN IND (~U$) (#T)</th>\n      <th>ENERGEN DEAD - DELIST.30/11/18 - TOT RETURN IND (~U$) (#T) - ENERGEN DEAD - DELIST.30/11/18 - TOT RETURN IND (~U$) (#T)</th>\n      <th>XEROX HOLDINGS - TOT RETURN IND (~U$) (#T) - XEROX HOLDINGS - TOT RETURN IND (~U$) (#T)</th>\n      <th>UNIVERSAL HEALTH SVS.'B' - TOT RETURN IND (~U$) (#T) - UNIVERSAL HEALTH SVS.'B' - TOT RETURN IND (~U$) (#T)</th>\n      <th>...</th>\n      <th>WSP GLOBAL - TOT RETURN IND (~U$) (#T) - WSP GLOBAL - TOT RETURN IND (~U$) (#T)</th>\n      <th>CHIMERA INVESTMENT - TOT RETURN IND (~U$) (#T) - CHIMERA INVESTMENT - TOT RETURN IND (~U$) (#T)</th>\n      <th>SYNOVUS FINANCIAL - TOT RETURN IND (~U$) (#T) - SYNOVUS FINANCIAL - TOT RETURN IND (~U$) (#T)</th>\n      <th>FORTIS - TOT RETURN IND (~U$) (#T) - FORTIS - TOT RETURN IND (~U$) (#T)</th>\n      <th>FREEHOLD ROYALTIES - TOT RETURN IND (~U$) (#T) - FREEHOLD ROYALTIES - TOT RETURN IND (~U$) (#T)</th>\n      <th>CHEESECAKE FACTORY - TOT RETURN IND (~U$) (#T) - CHEESECAKE FACTORY - TOT RETURN IND (~U$) (#T)</th>\n      <th>ROYAL CARIBBEAN GROUP - TOT RETURN IND (~U$) (#T) - ROYAL CARIBBEAN GROUP - TOT RETURN IND (~U$) (#T)</th>\n      <th>ENTERPRISE PRDS.PTNS.LP. - TOT RETURN IND (~U$) (#T) - ENTERPRISE PRDS.PTNS.LP. - TOT RETURN IND (~U$) (#T)</th>\n      <th>BIRCHCLIFF ENERGY - TOT RETURN IND (~U$) (#T) - BIRCHCLIFF ENERGY - TOT RETURN IND (~U$) (#T)</th>\n      <th>SUPERIOR PLUS - TOT RETURN IND (~U$) (#T) - SUPERIOR PLUS - TOT RETURN IND (~U$) (#T)</th>\n    </tr>\n    <tr>\n      <th>Date</th>\n      <th></th>\n      <th></th>\n      <th></th>\n      <th></th>\n      <th></th>\n      <th></th>\n      <th></th>\n      <th></th>\n      <th></th>\n      <th></th>\n      <th></th>\n      <th></th>\n      <th></th>\n      <th></th>\n      <th></th>\n      <th></th>\n      <th></th>\n      <th></th>\n      <th></th>\n      <th></th>\n      <th></th>\n    </tr>\n  </thead>\n  <tbody>\n    <tr>\n      <th>1999-01-01</th>\n      <td>NaN</td>\n      <td>NaN</td>\n      <td>NaN</td>\n      <td>NaN</td>\n      <td>NaN</td>\n      <td>NaN</td>\n      <td>NaN</td>\n      <td>NaN</td>\n      <td>NaN</td>\n      <td>NaN</td>\n      <td>...</td>\n      <td>NaN</td>\n      <td>NaN</td>\n      <td>NaN</td>\n      <td>NaN</td>\n      <td>NaN</td>\n      <td>NaN</td>\n      <td>NaN</td>\n      <td>NaN</td>\n      <td>NaN</td>\n      <td>NaN</td>\n    </tr>\n    <tr>\n      <th>1999-01-04</th>\n      <td>-0.019318</td>\n      <td>NaN</td>\n      <td>0.015101</td>\n      <td>-0.032066</td>\n      <td>0.030542</td>\n      <td>NaN</td>\n      <td>NaN</td>\n      <td>-0.003204</td>\n      <td>-0.002122</td>\n      <td>0.016873</td>\n      <td>...</td>\n      <td>NaN</td>\n      <td>NaN</td>\n      <td>-0.002606</td>\n      <td>-0.004760</td>\n      <td>0.016243</td>\n      <td>-0.043171</td>\n      <td>-0.047274</td>\n      <td>0.084056</td>\n      <td>NaN</td>\n      <td>0.013898</td>\n    </tr>\n    <tr>\n      <th>1999-01-05</th>\n      <td>0.026652</td>\n      <td>NaN</td>\n      <td>-0.001637</td>\n      <td>-0.010350</td>\n      <td>-0.020790</td>\n      <td>NaN</td>\n      <td>NaN</td>\n      <td>0.000000</td>\n      <td>0.019105</td>\n      <td>0.004731</td>\n      <td>...</td>\n      <td>NaN</td>\n      <td>NaN</td>\n      <td>0.020889</td>\n      <td>0.013321</td>\n      <td>0.009300</td>\n      <td>-0.004439</td>\n      <td>0.039058</td>\n      <td>0.038704</td>\n      <td>NaN</td>\n      <td>0.002721</td>\n    </tr>\n    <tr>\n      <th>1999-01-06</th>\n      <td>-0.009481</td>\n      <td>NaN</td>\n      <td>0.004955</td>\n      <td>0.031381</td>\n      <td>-0.002646</td>\n      <td>NaN</td>\n      <td>NaN</td>\n      <td>-0.003216</td>\n      <td>0.019268</td>\n      <td>-0.001175</td>\n      <td>...</td>\n      <td>NaN</td>\n      <td>NaN</td>\n      <td>0.020459</td>\n      <td>0.017944</td>\n      <td>0.018716</td>\n      <td>-0.008832</td>\n      <td>0.051234</td>\n      <td>0.052293</td>\n      <td>NaN</td>\n      <td>0.014192</td>\n    </tr>\n    <tr>\n      <th>1999-01-07</th>\n      <td>-0.013731</td>\n      <td>NaN</td>\n      <td>-0.023092</td>\n      <td>0.000000</td>\n      <td>-0.005047</td>\n      <td>NaN</td>\n      <td>NaN</td>\n      <td>-0.022581</td>\n      <td>-0.004591</td>\n      <td>-0.028336</td>\n      <td>...</td>\n      <td>NaN</td>\n      <td>NaN</td>\n      <td>-0.047619</td>\n      <td>0.021613</td>\n      <td>0.042114</td>\n      <td>-0.037937</td>\n      <td>-0.022692</td>\n      <td>-0.007082</td>\n      <td>NaN</td>\n      <td>-0.001749</td>\n    </tr>\n    <tr>\n      <th>...</th>\n      <td>...</td>\n      <td>...</td>\n      <td>...</td>\n      <td>...</td>\n      <td>...</td>\n      <td>...</td>\n      <td>...</td>\n      <td>...</td>\n      <td>...</td>\n      <td>...</td>\n      <td>...</td>\n      <td>...</td>\n      <td>...</td>\n      <td>...</td>\n      <td>...</td>\n      <td>...</td>\n      <td>...</td>\n      <td>...</td>\n      <td>...</td>\n      <td>...</td>\n      <td>...</td>\n    </tr>\n    <tr>\n      <th>2022-12-26</th>\n      <td>0.000000</td>\n      <td>0.000000</td>\n      <td>0.000000</td>\n      <td>0.000000</td>\n      <td>0.000000</td>\n      <td>0.000000</td>\n      <td>0.000000</td>\n      <td>NaN</td>\n      <td>0.000000</td>\n      <td>0.000000</td>\n      <td>...</td>\n      <td>0.000000</td>\n      <td>0.000000</td>\n      <td>0.000000</td>\n      <td>0.000000</td>\n      <td>0.000000</td>\n      <td>0.000000</td>\n      <td>0.000000</td>\n      <td>0.000000</td>\n      <td>0.000000</td>\n      <td>0.000000</td>\n    </tr>\n    <tr>\n      <th>2022-12-27</th>\n      <td>0.004714</td>\n      <td>-0.003159</td>\n      <td>-0.027325</td>\n      <td>0.002701</td>\n      <td>0.006491</td>\n      <td>-0.010185</td>\n      <td>-0.004892</td>\n      <td>NaN</td>\n      <td>0.006185</td>\n      <td>0.003552</td>\n      <td>...</td>\n      <td>0.006489</td>\n      <td>0.016272</td>\n      <td>0.006834</td>\n      <td>0.006489</td>\n      <td>0.006490</td>\n      <td>-0.012793</td>\n      <td>-0.017874</td>\n      <td>0.005845</td>\n      <td>0.006487</td>\n      <td>0.006487</td>\n    </tr>\n    <tr>\n      <th>2022-12-28</th>\n      <td>-0.008863</td>\n      <td>-0.010126</td>\n      <td>-0.015446</td>\n      <td>-0.020653</td>\n      <td>-0.011865</td>\n      <td>-0.034947</td>\n      <td>-0.004595</td>\n      <td>NaN</td>\n      <td>-0.022539</td>\n      <td>-0.013380</td>\n      <td>...</td>\n      <td>-0.013214</td>\n      <td>-0.067686</td>\n      <td>-0.005703</td>\n      <td>-0.015304</td>\n      <td>-0.034375</td>\n      <td>-0.003477</td>\n      <td>-0.018401</td>\n      <td>-0.013700</td>\n      <td>-0.051007</td>\n      <td>-0.004856</td>\n    </tr>\n    <tr>\n      <th>2022-12-29</th>\n      <td>-0.005785</td>\n      <td>0.030043</td>\n      <td>0.025678</td>\n      <td>0.007641</td>\n      <td>0.017305</td>\n      <td>0.047708</td>\n      <td>0.019276</td>\n      <td>NaN</td>\n      <td>0.025822</td>\n      <td>0.010188</td>\n      <td>...</td>\n      <td>0.013386</td>\n      <td>0.025956</td>\n      <td>0.022666</td>\n      <td>0.003107</td>\n      <td>0.011677</td>\n      <td>0.007932</td>\n      <td>0.037503</td>\n      <td>0.019360</td>\n      <td>0.021052</td>\n      <td>0.028602</td>\n    </tr>\n    <tr>\n      <th>2022-12-30</th>\n      <td>0.000705</td>\n      <td>-0.010791</td>\n      <td>-0.009739</td>\n      <td>-0.002124</td>\n      <td>-0.007033</td>\n      <td>0.009107</td>\n      <td>-0.008406</td>\n      <td>NaN</td>\n      <td>0.007524</td>\n      <td>0.000710</td>\n      <td>...</td>\n      <td>0.006105</td>\n      <td>-0.035191</td>\n      <td>0.002670</td>\n      <td>-0.008093</td>\n      <td>0.007156</td>\n      <td>-0.002516</td>\n      <td>-0.007432</td>\n      <td>-0.004128</td>\n      <td>0.006763</td>\n      <td>-0.005652</td>\n    </tr>\n  </tbody>\n</table>\n<p>6261 rows × 149 columns</p>\n</div>"
     },
     "execution_count": 4,
     "metadata": {},
     "output_type": "execute_result"
    }
   ],
   "source": [
    "simple_return = assets_returns(price_index, period=1, compounded=False)\n",
    "simple_return"
   ],
   "metadata": {
    "collapsed": false
   }
  },
  {
   "cell_type": "code",
   "execution_count": 5,
   "outputs": [
    {
     "name": "stderr",
     "output_type": "stream",
     "text": [
      "/Users/victoriawong/opt/anaconda3/lib/python3.9/site-packages/pandas/core/internals/blocks.py:402: RuntimeWarning: divide by zero encountered in log\n",
      "  result = func(self.values, **kwargs)\n"
     ]
    },
    {
     "data": {
      "text/plain": "            CAMPBELL SOUP - TOT RETURN IND (~U$) (#T) - CAMPBELL SOUP - TOT RETURN IND (~U$) (#T)  \\\nDate                                                                                                \n1999-01-01                                                NaN                                       \n1999-01-04                                          -0.019507                                       \n1999-01-05                                           0.026303                                       \n1999-01-06                                          -0.009527                                       \n1999-01-07                                          -0.013826                                       \n...                                                       ...                                       \n2022-12-26                                           0.000000                                       \n2022-12-27                                           0.004703                                       \n2022-12-28                                          -0.008902                                       \n2022-12-29                                          -0.005802                                       \n2022-12-30                                           0.000704                                       \n\n            ZOETIS A - TOT RETURN IND (~U$) (#T) - ZOETIS A - TOT RETURN IND (~U$) (#T)  \\\nDate                                                                                      \n1999-01-01                                                NaN                             \n1999-01-04                                                NaN                             \n1999-01-05                                                NaN                             \n1999-01-06                                                NaN                             \n1999-01-07                                                NaN                             \n...                                                       ...                             \n2022-12-26                                           0.000000                             \n2022-12-27                                          -0.003164                             \n2022-12-28                                          -0.010177                             \n2022-12-29                                           0.029601                             \n2022-12-30                                          -0.010850                             \n\n            APARTMENT INV.& MAN.'A' - TOT RETURN IND (~U$) (#T) - APARTMENT INV.& MAN.'A' - TOT RETURN IND (~U$) (#T)  \\\nDate                                                                                                                    \n1999-01-01                                                NaN                                                           \n1999-01-04                                           0.014988                                                           \n1999-01-05                                          -0.001638                                                           \n1999-01-06                                           0.004943                                                           \n1999-01-07                                          -0.023363                                                           \n...                                                       ...                                                           \n2022-12-26                                           0.000000                                                           \n2022-12-27                                          -0.027706                                                           \n2022-12-28                                          -0.015566                                                           \n2022-12-29                                           0.025353                                                           \n2022-12-30                                          -0.009787                                                           \n\n            WILLIAMS - TOT RETURN IND (~U$) (#T) - WILLIAMS - TOT RETURN IND (~U$) (#T)  \\\nDate                                                                                      \n1999-01-01                                                NaN                             \n1999-01-04                                          -0.032592                             \n1999-01-05                                          -0.010404                             \n1999-01-06                                           0.030899                             \n1999-01-07                                           0.000000                             \n...                                                       ...                             \n2022-12-26                                           0.000000                             \n2022-12-27                                           0.002697                             \n2022-12-28                                          -0.020870                             \n2022-12-29                                           0.007612                             \n2022-12-30                                          -0.002126                             \n\n            TNSC.'A' SBVTG. - TOT RETURN IND (~U$) (#T) - TNSC.'A' SBVTG. - TOT RETURN IND (~U$) (#T)  \\\nDate                                                                                                    \n1999-01-01                                                NaN                                           \n1999-01-04                                           0.030085                                           \n1999-01-05                                          -0.021009                                           \n1999-01-06                                          -0.002649                                           \n1999-01-07                                          -0.005060                                           \n...                                                       ...                                           \n2022-12-26                                           0.000000                                           \n2022-12-27                                           0.006470                                           \n2022-12-28                                          -0.011936                                           \n2022-12-29                                           0.017157                                           \n2022-12-30                                          -0.007058                                           \n\n            BREAD FINANCIAL HOLDINGS - TOT RETURN IND (~U$) (#T) - BREAD FINANCIAL HOLDINGS - TOT RETURN IND (~U$) (#T)  \\\nDate                                                                                                                      \n1999-01-01                                                NaN                                                             \n1999-01-04                                                NaN                                                             \n1999-01-05                                                NaN                                                             \n1999-01-06                                                NaN                                                             \n1999-01-07                                                NaN                                                             \n...                                                       ...                                                             \n2022-12-26                                           0.000000                                                             \n2022-12-27                                          -0.010237                                                             \n2022-12-28                                          -0.035572                                                             \n2022-12-29                                           0.046605                                                             \n2022-12-30                                           0.009066                                                             \n\n            NASDAQ - TOT RETURN IND (~U$) (#T) - NASDAQ - TOT RETURN IND (~U$) (#T)  \\\nDate                                                                                  \n1999-01-01                                                NaN                         \n1999-01-04                                                NaN                         \n1999-01-05                                                NaN                         \n1999-01-06                                                NaN                         \n1999-01-07                                                NaN                         \n...                                                       ...                         \n2022-12-26                                           0.000000                         \n2022-12-27                                          -0.004904                         \n2022-12-28                                          -0.004606                         \n2022-12-29                                           0.019093                         \n2022-12-30                                          -0.008441                         \n\n            ENERGEN DEAD - DELIST.30/11/18 - TOT RETURN IND (~U$) (#T) - ENERGEN DEAD - DELIST.30/11/18 - TOT RETURN IND (~U$) (#T)  \\\nDate                                                                                                                                  \n1999-01-01                                                NaN                                                                         \n1999-01-04                                          -0.003209                                                                         \n1999-01-05                                           0.000000                                                                         \n1999-01-06                                          -0.003222                                                                         \n1999-01-07                                          -0.022839                                                                         \n...                                                       ...                                                                         \n2022-12-26                                                NaN                                                                         \n2022-12-27                                                NaN                                                                         \n2022-12-28                                                NaN                                                                         \n2022-12-29                                                NaN                                                                         \n2022-12-30                                                NaN                                                                         \n\n            XEROX HOLDINGS - TOT RETURN IND (~U$) (#T) - XEROX HOLDINGS - TOT RETURN IND (~U$) (#T)  \\\nDate                                                                                                  \n1999-01-01                                                NaN                                         \n1999-01-04                                          -0.002124                                         \n1999-01-05                                           0.018925                                         \n1999-01-06                                           0.019085                                         \n1999-01-07                                          -0.004602                                         \n...                                                       ...                                         \n2022-12-26                                           0.000000                                         \n2022-12-27                                           0.006166                                         \n2022-12-28                                          -0.022797                                         \n2022-12-29                                           0.025494                                         \n2022-12-30                                           0.007496                                         \n\n            UNIVERSAL HEALTH SVS.'B' - TOT RETURN IND (~U$) (#T) - UNIVERSAL HEALTH SVS.'B' - TOT RETURN IND (~U$) (#T)  \\\nDate                                                                                                                      \n1999-01-01                                                NaN                                                             \n1999-01-04                                           0.016733                                                             \n1999-01-05                                           0.004720                                                             \n1999-01-06                                          -0.001176                                                             \n1999-01-07                                          -0.028745                                                             \n...                                                       ...                                                             \n2022-12-26                                           0.000000                                                             \n2022-12-27                                           0.003546                                                             \n2022-12-28                                          -0.013470                                                             \n2022-12-29                                           0.010137                                                             \n2022-12-30                                           0.000710                                                             \n\n            ...  \\\nDate        ...   \n1999-01-01  ...   \n1999-01-04  ...   \n1999-01-05  ...   \n1999-01-06  ...   \n1999-01-07  ...   \n...         ...   \n2022-12-26  ...   \n2022-12-27  ...   \n2022-12-28  ...   \n2022-12-29  ...   \n2022-12-30  ...   \n\n            WSP GLOBAL - TOT RETURN IND (~U$) (#T) - WSP GLOBAL - TOT RETURN IND (~U$) (#T)  \\\nDate                                                                                          \n1999-01-01                                                NaN                                 \n1999-01-04                                                NaN                                 \n1999-01-05                                                NaN                                 \n1999-01-06                                                NaN                                 \n1999-01-07                                                NaN                                 \n...                                                       ...                                 \n2022-12-26                                           0.000000                                 \n2022-12-27                                           0.006468                                 \n2022-12-28                                          -0.013302                                 \n2022-12-29                                           0.013297                                 \n2022-12-30                                           0.006087                                 \n\n            CHIMERA INVESTMENT - TOT RETURN IND (~U$) (#T) - CHIMERA INVESTMENT - TOT RETURN IND (~U$) (#T)  \\\nDate                                                                                                          \n1999-01-01                                                NaN                                                 \n1999-01-04                                                NaN                                                 \n1999-01-05                                                NaN                                                 \n1999-01-06                                                NaN                                                 \n1999-01-07                                                NaN                                                 \n...                                                       ...                                                 \n2022-12-26                                           0.000000                                                 \n2022-12-27                                           0.016141                                                 \n2022-12-28                                          -0.070085                                                 \n2022-12-29                                           0.025625                                                 \n2022-12-30                                          -0.035825                                                 \n\n            SYNOVUS FINANCIAL - TOT RETURN IND (~U$) (#T) - SYNOVUS FINANCIAL - TOT RETURN IND (~U$) (#T)  \\\nDate                                                                                                        \n1999-01-01                                                NaN                                               \n1999-01-04                                          -0.002609                                               \n1999-01-05                                           0.020673                                               \n1999-01-06                                           0.020253                                               \n1999-01-07                                          -0.048790                                               \n...                                                       ...                                               \n2022-12-26                                           0.000000                                               \n2022-12-27                                           0.006811                                               \n2022-12-28                                          -0.005719                                               \n2022-12-29                                           0.022413                                               \n2022-12-30                                           0.002667                                               \n\n            FORTIS - TOT RETURN IND (~U$) (#T) - FORTIS - TOT RETURN IND (~U$) (#T)  \\\nDate                                                                                  \n1999-01-01                                                NaN                         \n1999-01-04                                          -0.004772                         \n1999-01-05                                           0.013233                         \n1999-01-06                                           0.017785                         \n1999-01-07                                           0.021383                         \n...                                                       ...                         \n2022-12-26                                           0.000000                         \n2022-12-27                                           0.006468                         \n2022-12-28                                          -0.015422                         \n2022-12-29                                           0.003103                         \n2022-12-30                                          -0.008126                         \n\n            FREEHOLD ROYALTIES - TOT RETURN IND (~U$) (#T) - FREEHOLD ROYALTIES - TOT RETURN IND (~U$) (#T)  \\\nDate                                                                                                          \n1999-01-01                                                NaN                                                 \n1999-01-04                                           0.016113                                                 \n1999-01-05                                           0.009257                                                 \n1999-01-06                                           0.018543                                                 \n1999-01-07                                           0.041252                                                 \n...                                                       ...                                                 \n2022-12-26                                           0.000000                                                 \n2022-12-27                                           0.006469                                                 \n2022-12-28                                          -0.034980                                                 \n2022-12-29                                           0.011609                                                 \n2022-12-30                                           0.007130                                                 \n\n            CHEESECAKE FACTORY - TOT RETURN IND (~U$) (#T) - CHEESECAKE FACTORY - TOT RETURN IND (~U$) (#T)  \\\nDate                                                                                                          \n1999-01-01                                                NaN                                                 \n1999-01-04                                          -0.044131                                                 \n1999-01-05                                          -0.004449                                                 \n1999-01-06                                          -0.008872                                                 \n1999-01-07                                          -0.038676                                                 \n...                                                       ...                                                 \n2022-12-26                                           0.000000                                                 \n2022-12-27                                          -0.012875                                                 \n2022-12-28                                          -0.003483                                                 \n2022-12-29                                           0.007901                                                 \n2022-12-30                                          -0.002519                                                 \n\n            ROYAL CARIBBEAN GROUP - TOT RETURN IND (~U$) (#T) - ROYAL CARIBBEAN GROUP - TOT RETURN IND (~U$) (#T)  \\\nDate                                                                                                                \n1999-01-01                                                NaN                                                       \n1999-01-04                                          -0.048428                                                       \n1999-01-05                                           0.038315                                                       \n1999-01-06                                           0.049965                                                       \n1999-01-07                                          -0.022953                                                       \n...                                                       ...                                                       \n2022-12-26                                           0.000000                                                       \n2022-12-27                                          -0.018035                                                       \n2022-12-28                                          -0.018572                                                       \n2022-12-29                                           0.036817                                                       \n2022-12-30                                          -0.007460                                                       \n\n            ENTERPRISE PRDS.PTNS.LP. - TOT RETURN IND (~U$) (#T) - ENTERPRISE PRDS.PTNS.LP. - TOT RETURN IND (~U$) (#T)  \\\nDate                                                                                                                      \n1999-01-01                                                NaN                                                             \n1999-01-04                                           0.080710                                                             \n1999-01-05                                           0.037974                                                             \n1999-01-06                                           0.050971                                                             \n1999-01-07                                          -0.007107                                                             \n...                                                       ...                                                             \n2022-12-26                                           0.000000                                                             \n2022-12-27                                           0.005828                                                             \n2022-12-28                                          -0.013795                                                             \n2022-12-29                                           0.019175                                                             \n2022-12-30                                          -0.004137                                                             \n\n            BIRCHCLIFF ENERGY - TOT RETURN IND (~U$) (#T) - BIRCHCLIFF ENERGY - TOT RETURN IND (~U$) (#T)  \\\nDate                                                                                                        \n1999-01-01                                                NaN                                               \n1999-01-04                                                NaN                                               \n1999-01-05                                                NaN                                               \n1999-01-06                                                NaN                                               \n1999-01-07                                                NaN                                               \n...                                                       ...                                               \n2022-12-26                                           0.000000                                               \n2022-12-27                                           0.006466                                               \n2022-12-28                                          -0.052354                                               \n2022-12-29                                           0.020834                                               \n2022-12-30                                           0.006740                                               \n\n            SUPERIOR PLUS - TOT RETURN IND (~U$) (#T) - SUPERIOR PLUS - TOT RETURN IND (~U$) (#T)  \nDate                                                                                               \n1999-01-01                                                NaN                                      \n1999-01-04                                           0.013802                                      \n1999-01-05                                           0.002717                                      \n1999-01-06                                           0.014092                                      \n1999-01-07                                          -0.001751                                      \n...                                                       ...                                      \n2022-12-26                                           0.000000                                      \n2022-12-27                                           0.006466                                      \n2022-12-28                                          -0.004868                                      \n2022-12-29                                           0.028201                                      \n2022-12-30                                          -0.005668                                      \n\n[6261 rows x 149 columns]",
      "text/html": "<div>\n<style scoped>\n    .dataframe tbody tr th:only-of-type {\n        vertical-align: middle;\n    }\n\n    .dataframe tbody tr th {\n        vertical-align: top;\n    }\n\n    .dataframe thead th {\n        text-align: right;\n    }\n</style>\n<table border=\"1\" class=\"dataframe\">\n  <thead>\n    <tr style=\"text-align: right;\">\n      <th></th>\n      <th>CAMPBELL SOUP - TOT RETURN IND (~U$) (#T) - CAMPBELL SOUP - TOT RETURN IND (~U$) (#T)</th>\n      <th>ZOETIS A - TOT RETURN IND (~U$) (#T) - ZOETIS A - TOT RETURN IND (~U$) (#T)</th>\n      <th>APARTMENT INV.&amp; MAN.'A' - TOT RETURN IND (~U$) (#T) - APARTMENT INV.&amp; MAN.'A' - TOT RETURN IND (~U$) (#T)</th>\n      <th>WILLIAMS - TOT RETURN IND (~U$) (#T) - WILLIAMS - TOT RETURN IND (~U$) (#T)</th>\n      <th>TNSC.'A' SBVTG. - TOT RETURN IND (~U$) (#T) - TNSC.'A' SBVTG. - TOT RETURN IND (~U$) (#T)</th>\n      <th>BREAD FINANCIAL HOLDINGS - TOT RETURN IND (~U$) (#T) - BREAD FINANCIAL HOLDINGS - TOT RETURN IND (~U$) (#T)</th>\n      <th>NASDAQ - TOT RETURN IND (~U$) (#T) - NASDAQ - TOT RETURN IND (~U$) (#T)</th>\n      <th>ENERGEN DEAD - DELIST.30/11/18 - TOT RETURN IND (~U$) (#T) - ENERGEN DEAD - DELIST.30/11/18 - TOT RETURN IND (~U$) (#T)</th>\n      <th>XEROX HOLDINGS - TOT RETURN IND (~U$) (#T) - XEROX HOLDINGS - TOT RETURN IND (~U$) (#T)</th>\n      <th>UNIVERSAL HEALTH SVS.'B' - TOT RETURN IND (~U$) (#T) - UNIVERSAL HEALTH SVS.'B' - TOT RETURN IND (~U$) (#T)</th>\n      <th>...</th>\n      <th>WSP GLOBAL - TOT RETURN IND (~U$) (#T) - WSP GLOBAL - TOT RETURN IND (~U$) (#T)</th>\n      <th>CHIMERA INVESTMENT - TOT RETURN IND (~U$) (#T) - CHIMERA INVESTMENT - TOT RETURN IND (~U$) (#T)</th>\n      <th>SYNOVUS FINANCIAL - TOT RETURN IND (~U$) (#T) - SYNOVUS FINANCIAL - TOT RETURN IND (~U$) (#T)</th>\n      <th>FORTIS - TOT RETURN IND (~U$) (#T) - FORTIS - TOT RETURN IND (~U$) (#T)</th>\n      <th>FREEHOLD ROYALTIES - TOT RETURN IND (~U$) (#T) - FREEHOLD ROYALTIES - TOT RETURN IND (~U$) (#T)</th>\n      <th>CHEESECAKE FACTORY - TOT RETURN IND (~U$) (#T) - CHEESECAKE FACTORY - TOT RETURN IND (~U$) (#T)</th>\n      <th>ROYAL CARIBBEAN GROUP - TOT RETURN IND (~U$) (#T) - ROYAL CARIBBEAN GROUP - TOT RETURN IND (~U$) (#T)</th>\n      <th>ENTERPRISE PRDS.PTNS.LP. - TOT RETURN IND (~U$) (#T) - ENTERPRISE PRDS.PTNS.LP. - TOT RETURN IND (~U$) (#T)</th>\n      <th>BIRCHCLIFF ENERGY - TOT RETURN IND (~U$) (#T) - BIRCHCLIFF ENERGY - TOT RETURN IND (~U$) (#T)</th>\n      <th>SUPERIOR PLUS - TOT RETURN IND (~U$) (#T) - SUPERIOR PLUS - TOT RETURN IND (~U$) (#T)</th>\n    </tr>\n    <tr>\n      <th>Date</th>\n      <th></th>\n      <th></th>\n      <th></th>\n      <th></th>\n      <th></th>\n      <th></th>\n      <th></th>\n      <th></th>\n      <th></th>\n      <th></th>\n      <th></th>\n      <th></th>\n      <th></th>\n      <th></th>\n      <th></th>\n      <th></th>\n      <th></th>\n      <th></th>\n      <th></th>\n      <th></th>\n      <th></th>\n    </tr>\n  </thead>\n  <tbody>\n    <tr>\n      <th>1999-01-01</th>\n      <td>NaN</td>\n      <td>NaN</td>\n      <td>NaN</td>\n      <td>NaN</td>\n      <td>NaN</td>\n      <td>NaN</td>\n      <td>NaN</td>\n      <td>NaN</td>\n      <td>NaN</td>\n      <td>NaN</td>\n      <td>...</td>\n      <td>NaN</td>\n      <td>NaN</td>\n      <td>NaN</td>\n      <td>NaN</td>\n      <td>NaN</td>\n      <td>NaN</td>\n      <td>NaN</td>\n      <td>NaN</td>\n      <td>NaN</td>\n      <td>NaN</td>\n    </tr>\n    <tr>\n      <th>1999-01-04</th>\n      <td>-0.019507</td>\n      <td>NaN</td>\n      <td>0.014988</td>\n      <td>-0.032592</td>\n      <td>0.030085</td>\n      <td>NaN</td>\n      <td>NaN</td>\n      <td>-0.003209</td>\n      <td>-0.002124</td>\n      <td>0.016733</td>\n      <td>...</td>\n      <td>NaN</td>\n      <td>NaN</td>\n      <td>-0.002609</td>\n      <td>-0.004772</td>\n      <td>0.016113</td>\n      <td>-0.044131</td>\n      <td>-0.048428</td>\n      <td>0.080710</td>\n      <td>NaN</td>\n      <td>0.013802</td>\n    </tr>\n    <tr>\n      <th>1999-01-05</th>\n      <td>0.026303</td>\n      <td>NaN</td>\n      <td>-0.001638</td>\n      <td>-0.010404</td>\n      <td>-0.021009</td>\n      <td>NaN</td>\n      <td>NaN</td>\n      <td>0.000000</td>\n      <td>0.018925</td>\n      <td>0.004720</td>\n      <td>...</td>\n      <td>NaN</td>\n      <td>NaN</td>\n      <td>0.020673</td>\n      <td>0.013233</td>\n      <td>0.009257</td>\n      <td>-0.004449</td>\n      <td>0.038315</td>\n      <td>0.037974</td>\n      <td>NaN</td>\n      <td>0.002717</td>\n    </tr>\n    <tr>\n      <th>1999-01-06</th>\n      <td>-0.009527</td>\n      <td>NaN</td>\n      <td>0.004943</td>\n      <td>0.030899</td>\n      <td>-0.002649</td>\n      <td>NaN</td>\n      <td>NaN</td>\n      <td>-0.003222</td>\n      <td>0.019085</td>\n      <td>-0.001176</td>\n      <td>...</td>\n      <td>NaN</td>\n      <td>NaN</td>\n      <td>0.020253</td>\n      <td>0.017785</td>\n      <td>0.018543</td>\n      <td>-0.008872</td>\n      <td>0.049965</td>\n      <td>0.050971</td>\n      <td>NaN</td>\n      <td>0.014092</td>\n    </tr>\n    <tr>\n      <th>1999-01-07</th>\n      <td>-0.013826</td>\n      <td>NaN</td>\n      <td>-0.023363</td>\n      <td>0.000000</td>\n      <td>-0.005060</td>\n      <td>NaN</td>\n      <td>NaN</td>\n      <td>-0.022839</td>\n      <td>-0.004602</td>\n      <td>-0.028745</td>\n      <td>...</td>\n      <td>NaN</td>\n      <td>NaN</td>\n      <td>-0.048790</td>\n      <td>0.021383</td>\n      <td>0.041252</td>\n      <td>-0.038676</td>\n      <td>-0.022953</td>\n      <td>-0.007107</td>\n      <td>NaN</td>\n      <td>-0.001751</td>\n    </tr>\n    <tr>\n      <th>...</th>\n      <td>...</td>\n      <td>...</td>\n      <td>...</td>\n      <td>...</td>\n      <td>...</td>\n      <td>...</td>\n      <td>...</td>\n      <td>...</td>\n      <td>...</td>\n      <td>...</td>\n      <td>...</td>\n      <td>...</td>\n      <td>...</td>\n      <td>...</td>\n      <td>...</td>\n      <td>...</td>\n      <td>...</td>\n      <td>...</td>\n      <td>...</td>\n      <td>...</td>\n      <td>...</td>\n    </tr>\n    <tr>\n      <th>2022-12-26</th>\n      <td>0.000000</td>\n      <td>0.000000</td>\n      <td>0.000000</td>\n      <td>0.000000</td>\n      <td>0.000000</td>\n      <td>0.000000</td>\n      <td>0.000000</td>\n      <td>NaN</td>\n      <td>0.000000</td>\n      <td>0.000000</td>\n      <td>...</td>\n      <td>0.000000</td>\n      <td>0.000000</td>\n      <td>0.000000</td>\n      <td>0.000000</td>\n      <td>0.000000</td>\n      <td>0.000000</td>\n      <td>0.000000</td>\n      <td>0.000000</td>\n      <td>0.000000</td>\n      <td>0.000000</td>\n    </tr>\n    <tr>\n      <th>2022-12-27</th>\n      <td>0.004703</td>\n      <td>-0.003164</td>\n      <td>-0.027706</td>\n      <td>0.002697</td>\n      <td>0.006470</td>\n      <td>-0.010237</td>\n      <td>-0.004904</td>\n      <td>NaN</td>\n      <td>0.006166</td>\n      <td>0.003546</td>\n      <td>...</td>\n      <td>0.006468</td>\n      <td>0.016141</td>\n      <td>0.006811</td>\n      <td>0.006468</td>\n      <td>0.006469</td>\n      <td>-0.012875</td>\n      <td>-0.018035</td>\n      <td>0.005828</td>\n      <td>0.006466</td>\n      <td>0.006466</td>\n    </tr>\n    <tr>\n      <th>2022-12-28</th>\n      <td>-0.008902</td>\n      <td>-0.010177</td>\n      <td>-0.015566</td>\n      <td>-0.020870</td>\n      <td>-0.011936</td>\n      <td>-0.035572</td>\n      <td>-0.004606</td>\n      <td>NaN</td>\n      <td>-0.022797</td>\n      <td>-0.013470</td>\n      <td>...</td>\n      <td>-0.013302</td>\n      <td>-0.070085</td>\n      <td>-0.005719</td>\n      <td>-0.015422</td>\n      <td>-0.034980</td>\n      <td>-0.003483</td>\n      <td>-0.018572</td>\n      <td>-0.013795</td>\n      <td>-0.052354</td>\n      <td>-0.004868</td>\n    </tr>\n    <tr>\n      <th>2022-12-29</th>\n      <td>-0.005802</td>\n      <td>0.029601</td>\n      <td>0.025353</td>\n      <td>0.007612</td>\n      <td>0.017157</td>\n      <td>0.046605</td>\n      <td>0.019093</td>\n      <td>NaN</td>\n      <td>0.025494</td>\n      <td>0.010137</td>\n      <td>...</td>\n      <td>0.013297</td>\n      <td>0.025625</td>\n      <td>0.022413</td>\n      <td>0.003103</td>\n      <td>0.011609</td>\n      <td>0.007901</td>\n      <td>0.036817</td>\n      <td>0.019175</td>\n      <td>0.020834</td>\n      <td>0.028201</td>\n    </tr>\n    <tr>\n      <th>2022-12-30</th>\n      <td>0.000704</td>\n      <td>-0.010850</td>\n      <td>-0.009787</td>\n      <td>-0.002126</td>\n      <td>-0.007058</td>\n      <td>0.009066</td>\n      <td>-0.008441</td>\n      <td>NaN</td>\n      <td>0.007496</td>\n      <td>0.000710</td>\n      <td>...</td>\n      <td>0.006087</td>\n      <td>-0.035825</td>\n      <td>0.002667</td>\n      <td>-0.008126</td>\n      <td>0.007130</td>\n      <td>-0.002519</td>\n      <td>-0.007460</td>\n      <td>-0.004137</td>\n      <td>0.006740</td>\n      <td>-0.005668</td>\n    </tr>\n  </tbody>\n</table>\n<p>6261 rows × 149 columns</p>\n</div>"
     },
     "execution_count": 5,
     "metadata": {},
     "output_type": "execute_result"
    }
   ],
   "source": [
    "log_return = assets_returns(price_index, period=1, compounded=True)\n",
    "log_return"
   ],
   "metadata": {
    "collapsed": false
   }
  },
  {
   "cell_type": "code",
   "execution_count": 6,
   "outputs": [],
   "source": [
    "def get_moment(assetReturn, moment):\n",
    "    if moment == 1:\n",
    "        return pd.DataFrame(assetReturn.mean())\n",
    "    elif moment == 2:\n",
    "        return pd.DataFrame(assetReturn.std())\n",
    "    elif moment == 3:\n",
    "        return pd.DataFrame(assetReturn.skew())\n",
    "    elif moment == 4:\n",
    "        nu = (pow(assetReturn, moment)).mean() - pow(assetReturn.mean(), moment)\n",
    "        den = pow(assetReturn.std(), moment)\n",
    "        res = nu / den\n",
    "        return pd.DataFrame(res)"
   ],
   "metadata": {
    "collapsed": false
   }
  },
  {
   "cell_type": "code",
   "execution_count": 7,
   "outputs": [],
   "source": [
    "simple_mean = get_moment(simple_return, 1)\n",
    "simple_std = get_moment(simple_return, 2)\n",
    "simple_skew = get_moment(simple_return, 3)\n",
    "simple_kurt = get_moment(simple_return, 4)"
   ],
   "metadata": {
    "collapsed": false
   }
  },
  {
   "cell_type": "code",
   "execution_count": 8,
   "outputs": [],
   "source": [
    "def jarque_bera(series, skewness, kurtosis):\n",
    "    t = np.shape(series)[0]\n",
    "    tstat = t * (pow(skewness, 2)/6 + pow((kurtosis), 2)/24)\n",
    "    return tstat"
   ],
   "metadata": {
    "collapsed": false
   }
  },
  {
   "cell_type": "code",
   "execution_count": 9,
   "outputs": [],
   "source": [
    "jb_res = jarque_bera(simple_return, simple_skew, simple_kurt)"
   ],
   "metadata": {
    "collapsed": false
   }
  },
  {
   "cell_type": "code",
   "execution_count": 10,
   "outputs": [],
   "source": [
    "def jb_test(tstat, alpha, dof):\n",
    "    critical_val = stats.chi2.ppf(1-alpha, df=dof)\n",
    "    out = {}\n",
    "    for k, v in tstat.T.items():\n",
    "        if v[0] >= critical_val:\n",
    "\n",
    "            # print(f'Reject H0: Return is not Gaussian')\n",
    "            out[k] = 'Reject H0: Return is not Gaussian'\n",
    "    return pd.Series(out)"
   ],
   "metadata": {
    "collapsed": false
   }
  },
  {
   "cell_type": "code",
   "execution_count": 11,
   "outputs": [],
   "source": [
    "test_res = jb_test(jb_res, 0.05, 2)"
   ],
   "metadata": {
    "collapsed": false
   }
  },
  {
   "cell_type": "code",
   "execution_count": 12,
   "outputs": [],
   "source": [
    "def get_acf(ds: pd.DataFrame, nlags=10) -> pd.DataFrame:\n",
    "    out = {}\n",
    "    for k in ds.keys():\n",
    "        res = sm.tsa.acf(ds[k], nlags=nlags, missing='conservative')\n",
    "        out[k] = res[1:]\n",
    "    return pd.DataFrame(out)"
   ],
   "metadata": {
    "collapsed": false
   }
  },
  {
   "cell_type": "code",
   "execution_count": 13,
   "outputs": [
    {
     "name": "stderr",
     "output_type": "stream",
     "text": [
      "/Users/victoriawong/opt/anaconda3/lib/python3.9/site-packages/statsmodels/tsa/stattools.py:463: RuntimeWarning: invalid value encountered in double_scalars\n",
      "  xo = x - x.sum() / notmask_int.sum()\n",
      "/Users/victoriawong/opt/anaconda3/lib/python3.9/site-packages/statsmodels/tsa/stattools.py:518: RuntimeWarning: invalid value encountered in true_divide\n",
      "  acov = np.fft.ifft(Frf * np.conjugate(Frf))[:nobs] / d[nobs - 1 :]\n",
      "/Users/victoriawong/opt/anaconda3/lib/python3.9/site-packages/statsmodels/tsa/stattools.py:463: RuntimeWarning: invalid value encountered in subtract\n",
      "  xo = x - x.sum() / notmask_int.sum()\n"
     ]
    }
   ],
   "source": [
    "acf = get_acf(simple_return, nlags=10)\n",
    "squared_acf = get_acf(pow(simple_return, 2), nlags=10)"
   ],
   "metadata": {
    "collapsed": false
   }
  },
  {
   "cell_type": "code",
   "execution_count": 14,
   "outputs": [],
   "source": [
    "def ljung_box(acf, returns, nlag):\n",
    "    t = np.shape(returns)[0]\n",
    "    tstat = t*(t+2)*1/(t-nlag)*pow(acf.iloc[nlag],2)\n",
    "    return tstat\n",
    "\n",
    "\n",
    "lj_stat = {}\n",
    "for i in range(10):\n",
    "    lj_stat[i] = ljung_box(acf, simple_return, i)\n",
    "lj_stat = pd.DataFrame(lj_stat).transpose()"
   ],
   "metadata": {
    "collapsed": false
   }
  },
  {
   "cell_type": "code",
   "execution_count": 15,
   "outputs": [],
   "source": [
    "# Filtered portfolio inputs\n",
    "opt_simple = simple_return.dropna(thresh=145).dropna(axis=1)\n",
    "opt_mean = get_moment(opt_simple, 1)\n",
    "opt_vol = get_moment(opt_simple, 2)\n",
    "opt_skew = get_moment(opt_simple, 3)\n",
    "opt_kurt = get_moment(opt_simple, 4)\n",
    "\n",
    "\n",
    "# For annualized portfolio inputs\n",
    "annual_mean = pow((1+opt_mean), 252) -1\n",
    "annual_vol = opt_vol * np.sqrt(252)"
   ],
   "metadata": {
    "collapsed": false
   }
  },
  {
   "cell_type": "code",
   "execution_count": 16,
   "outputs": [],
   "source": [
    "def get_weight(num_assets, size):\n",
    "    weights = np.random.randn(num_assets, size)\n",
    "    weights = pd.DataFrame(weights)\n",
    "    for i in range(size):\n",
    "        weights.iloc[:, i] = weights.iloc[:, i] / weights.iloc[:, i].sum()\n",
    "    return weights\n",
    "\n",
    "\n",
    "# On the rows are each asset's weight in different portfolios,\n",
    "# columns are asset allocation of each portfolio\n",
    "random_weight = get_weight(np.shape(opt_simple)[1], 1000 )"
   ],
   "metadata": {
    "collapsed": false
   }
  },
  {
   "cell_type": "code",
   "execution_count": 17,
   "outputs": [],
   "source": [
    "def portfolio_return(asset_returns, port_weight):\n",
    "    if np.shape(asset_returns)[1] != np.shape(port_weight)[0]:\n",
    "        port_mean = asset_returns.T.values @ port_weight.values\n",
    "    else:\n",
    "        port_mean = asset_returns.values @ port_weight.values\n",
    "    port_mean = pd.DataFrame(port_mean).transpose()\n",
    "    port_mean.index = port_weight.T.index\n",
    "    port_mean.columns = ['Portfolio Mean']\n",
    "    return port_mean\n",
    "\n",
    "\n",
    "def vcv_matrix(asset_returns):\n",
    "    return asset_returns.cov()\n",
    "\n",
    "\n",
    "def portfolio_var(port_weight, vcv):\n",
    "    out = {}\n",
    "    for i in port_weight:\n",
    "        out[i] = port_weight.iloc[:, i].values.T @ vcv.values @ port_weight.iloc[:, i].values\n",
    "    out = pd.Series(out)\n",
    "    out.name = 'Sigma'\n",
    "    return out"
   ],
   "metadata": {
    "collapsed": false
   }
  },
  {
   "cell_type": "code",
   "execution_count": 18,
   "outputs": [],
   "source": [
    "opt_mu = portfolio_return(opt_mean, random_weight)\n",
    "opt_vcv = vcv_matrix(opt_simple)\n",
    "opt_sigma2 = portfolio_var(random_weight, opt_vcv)\n",
    "opt_sigma = np.sqrt(opt_sigma2)\n",
    "annual_opt_mu = pow((1+opt_mu), 252) -1\n",
    "annual_opt_vol = opt_sigma * np.sqrt(252)"
   ],
   "metadata": {
    "collapsed": false
   }
  },
  {
   "cell_type": "code",
   "execution_count": 39,
   "outputs": [
    {
     "data": {
      "text/plain": "0.24751988335462122"
     },
     "execution_count": 39,
     "metadata": {},
     "output_type": "execute_result"
    },
    {
     "data": {
      "text/plain": "<Figure size 640x480 with 1 Axes>",
      "image/png": "[encoded data removed]"
     },
     "metadata": {},
     "output_type": "display_data"
    }
   ],
   "source": [
    "mu = opt_simple.mean().values\n",
    "cov = opt_simple.cov().values\n",
    "\n",
    "A = np.ones(145).T @ np.linalg.inv(cov) @ mu\n",
    "B = mu.T @ np.linalg.inv(cov) @ mu\n",
    "C = np.ones(145).T @ np.linalg.inv(cov) @ np.ones(145)\n",
    "D = B * C - pow(A, 2)\n",
    "\n",
    "# global minimum variance portfolio\n",
    "gmvp = (np.linalg.inv(cov) @ np.ones(145)) / C\n",
    "gmvp_mu = A/C\n",
    "sigma = 1/C\n",
    "min_weight = 1 - np.ones(145) @ np.linalg.inv(cov) @ mu\n",
    "minport = np.linalg.inv(cov) @ np.ones(145) / (np.ones(145).T @ np.linalg.inv(cov) @ np.ones(145))\n",
    "\n",
    "# speculative portfolio\n",
    "spec = (np.linalg.inv(cov) @ mu) / (np.ones(145) @ np.linalg.inv(cov) @ mu)\n",
    "spec_weight = np.ones(145) @ np.linalg.inv(cov) @ mu\n",
    "\n",
    "# optimal portfolio\n",
    "opt_portfolio = min_weight * minport + spec_weight * spec\n",
    "optimal_mu = opt_portfolio @ mu\n",
    "optimal_variance = opt_portfolio.T @ cov @ opt_portfolio\n",
    "\n",
    "x = np.linspace(-0.2, 0.3, 10000)\n",
    "y = np.sqrt(C/D * pow(x - A/C, 2) + 1/C)\n",
    "\n",
    "ax = plt.gca()\n",
    "ax.plot(y.T, x)\n",
    "ax.plot(sigma, gmvp_mu, 'o')\n",
    "\n",
    "ran_mu = random_weight.T @ mu\n",
    "ran_sigma = portfolio_var(random_weight, opt_simple.cov())\n",
    "ax.plot(np.sqrt(ran_sigma), ran_mu, 'ro')\n",
    "ax.plot(optimal_variance, optimal_mu, 'o', 'r')\n",
    "\n",
    "ax.set_ylim(-0.02, 0.02)\n",
    "ax.set_xlim(0, 0.05)\n",
    "optimal_mu"
   ],
   "metadata": {
    "collapsed": false
   }
  },
  {
   "cell_type": "code",
   "execution_count": 37,
   "outputs": [
    {
     "data": {
      "text/plain": "[<matplotlib.lines.Line2D at 0x7fd6313da310>,\n <matplotlib.lines.Line2D at 0x7fd6313de370>]"
     },
     "execution_count": 37,
     "metadata": {},
     "output_type": "execute_result"
    },
    {
     "data": {
      "text/plain": "<Figure size 640x480 with 1 Axes>",
      "image/png": "[encoded data removed]"
     },
     "metadata": {},
     "output_type": "display_data"
    }
   ],
   "source": [
    "ax = plt.gca()\n",
    "ax.plot(optimal_variance, optimal_mu, 'o', 'r')\n",
    "ax.plot()"
   ],
   "metadata": {
    "collapsed": false
   }
  },
  {
   "cell_type": "code",
   "execution_count": 40,
   "outputs": [],
   "source": [
    "def efficient_frontier(mean, vcv, num_port):\n",
    "    \"\"\"\n",
    "\n",
    "    :param mean: All asset's expected return\n",
    "    :param vcv: The variance covariance matrix\n",
    "    :param num_port: Number of equally spaced return portfolios\n",
    "    :return: This function returns only the combination of optimized portfolio mean and portfolio variances\n",
    "    \"\"\"\n",
    "    A = mean.T @ np.linalg.inv(vcv) @ mean\n",
    "    B = mean.T @ np.linalg.inv(vcv) @ np.ones(np.shape(mean)[0])\n",
    "    C = np.ones(np.shape(mean)[0]).T @ np.linalg.inv(vcv) @ np.ones(np.shape(mean)[0])\n",
    "\n",
    "    mu = np.linspace(-0.1, 0.25, num_port)\n",
    "    std = ((C * pow(mu, 2) - 2*B*mu + A)/(A*C-pow(B, 2))).T.reshape(-1)\n",
    "    out = pd.DataFrame({'mu_p': mu, 'mu_std': std})\n",
    "\n",
    "    mvp_weight = np.linalg.inv(vcv) @ np.ones(np.shape(mean)[0]) / C\n",
    "    mvp_return = mvp_weight.T @ mean\n",
    "    mvp_vcv = mvp_weight.T @ vcv @ mvp_weight\n",
    "\n",
    "    return [out, mvp_weight, mvp_return, mvp_vcv]"
   ],
   "metadata": {
    "collapsed": false
   }
  },
  {
   "cell_type": "code",
   "execution_count": 41,
   "outputs": [
    {
     "data": {
      "text/plain": "[<matplotlib.lines.Line2D at 0x7fd631ecba90>,\n <matplotlib.lines.Line2D at 0x7fd631ecbbb0>]"
     },
     "execution_count": 41,
     "metadata": {},
     "output_type": "execute_result"
    },
    {
     "data": {
      "text/plain": "<Figure size 640x480 with 1 Axes>",
      "image/png": "[encoded data removed]"
     },
     "metadata": {},
     "output_type": "display_data"
    }
   ],
   "source": [
    "f = efficient_frontier(opt_mean.values, opt_vcv, 100)\n",
    "ax = plt.gca()\n",
    "ax.plot(f[0]['mu_std'], f[0]['mu_p'])\n",
    "mvp_weight = f[1]\n",
    "mvp_retr = f[2]\n",
    "mvp_vcv2 = f[3]\n",
    "ax.plot(mvp_vcv2, mvp_retr, 'o', 'r')\n",
    "ax.plot(optimal_variance, optimal_mu, 'o', 'r')"
   ],
   "metadata": {
    "collapsed": false
   }
  },
  {
   "cell_type": "code",
   "execution_count": 22,
   "outputs": [],
   "source": [
    "# Efficient frontier using optimization method\n",
    "def min_variance_portfolio(vcv, initial_weight, risk_free: float):\n",
    "    \"\"\"\n",
    "\n",
    "    :param vcv: The variance covariance matrix\n",
    "    :param initial_weight: Initial guess of asset weight allocation\n",
    "    :param risk_free:\n",
    "    :return: Optimal weight allocation of assets given the covariance matrix\n",
    "    \"\"\"\n",
    "    if not risk_free:\n",
    "        obj = lambda a: a.T @ vcv.values @ a\n",
    "        cons = {\n",
    "            'type': 'eq',\n",
    "            'fun': lambda a: a.T @ (np.zeros(len(a)) + 1) - 1\n",
    "        }\n",
    "        bnds = [[None, None] for i in range(len(initial_weight))]\n",
    "        port_weight = minimize(obj, x0=initial_weight, constraints=cons, bounds=bnds)\n",
    "        return port_weight"
   ],
   "metadata": {
    "collapsed": false
   }
  },
  {
   "cell_type": "code",
   "execution_count": 23,
   "outputs": [
    {
     "data": {
      "text/plain": "[        mu_p    mu_std\n 0  -0.100000  0.040812\n 1  -0.097980  0.039187\n 2  -0.095960  0.037595\n 3  -0.093939  0.036036\n 4  -0.091919  0.034510\n ..       ...       ...\n 95  0.091919  0.033904\n 96  0.093939  0.035416\n 97  0.095960  0.036962\n 98  0.097980  0.038541\n 99  0.100000  0.040153\n \n [100 rows x 2 columns],\n array([ 4.49996680e-02,  4.52575977e-03, -2.06895775e-02, -2.72071193e-02,\n         8.85003044e-03,  2.07493197e-02,  4.75843708e-03,  1.78733695e-02,\n        -1.33887022e-02, -2.06073421e-02, -3.89395525e-02,  1.98768318e-03,\n         4.16455211e-02,  2.37064433e-03,  4.46455425e-03, -6.94965731e-02,\n         6.65627058e-03, -3.29175614e-02,  1.05316720e-02,  4.87526440e-02,\n         7.61406288e-03, -1.58742772e-02, -1.12852971e-01,  2.17240921e-02,\n        -4.75755636e-02,  1.05491553e-02,  3.53822835e-02,  5.32728753e-02,\n        -2.64026424e-02, -3.24785924e-03,  1.03994870e-02, -8.13727201e-02,\n        -6.05032378e-02, -3.92911787e-02,  1.05852543e-02, -4.35524845e-03,\n        -1.53664491e-02, -2.70312678e-02,  9.01703877e-03,  2.68452969e-02,\n        -4.31846790e-02,  1.15090844e-01,  4.13838355e-02, -4.28437727e-02,\n         1.15436961e-02,  7.70826094e-02,  3.11017433e-02, -1.97886090e-03,\n        -1.93187477e-02, -6.65102506e-02, -3.24255324e-02, -8.47204788e-04,\n        -1.74451045e-02,  9.71231974e-02, -6.40550830e-02, -7.26900450e-02,\n         6.22786528e-02,  3.57156138e-03, -1.08042393e-03,  1.08073376e-01,\n         5.18638903e-02,  4.69193155e-02, -3.41259538e-04, -4.30671892e-02,\n         1.93126010e-02, -2.23984618e-02,  2.90930107e-02,  7.66511027e-02,\n         9.37029793e-03, -6.94895707e-03,  1.84596970e-02, -1.89110277e-02,\n         1.40770468e-04, -2.34042248e-03, -1.63308720e-03, -1.09617886e-01,\n         3.92208609e-02,  6.03774309e-03,  5.41656733e-02, -1.16641431e-02,\n        -7.45675227e-04,  1.38806691e-01, -2.29374383e-03, -2.16607536e-02,\n         5.39104257e-02, -1.31206716e-02,  9.98027886e-02, -1.42395291e-01,\n        -7.85883318e-03,  2.12487831e-02, -1.38998888e-02, -3.39714419e-02,\n         7.78938809e-03,  9.01636821e-02,  1.33062102e-02, -7.29906023e-03,\n        -2.43811667e-02, -4.04301834e-02, -5.96153555e-02, -6.81423392e-03,\n         4.37244549e-02, -1.49351013e-02, -2.62898760e-02, -9.88404409e-03,\n        -5.37583713e-03, -3.23845080e-02,  1.83469034e-02,  2.12307124e-02,\n         7.29623926e-02, -2.44867514e-02, -2.12981978e-02, -1.00713583e-01,\n         3.54572460e-02,  1.74519562e-02,  7.52162189e-02,  1.56673388e-01,\n         1.91484860e-03, -1.75515666e-02,  1.53765929e-02,  2.39355636e-02,\n         1.61023253e-01, -8.51686660e-03,  3.09357980e-02,  1.90147067e-02,\n         4.48161859e-02,  2.09646390e-02,  7.79106377e-03,  8.75847233e-03,\n        -1.22602759e-02, -1.49503858e-02,  2.58518680e-02,  3.76241594e-02,\n         1.31787918e-03,  3.60658574e-02,  1.97060114e-02,  1.18924917e-02,\n         1.90074593e-01,  5.84733354e-02, -3.57289747e-02,  3.40773282e-02,\n         3.06213909e-03,  6.79773332e-03,  1.76646333e-02, -1.17151563e-02,\n         1.72941214e-03]),\n array([0.00040744]),\n 1.4515524956689552e-05]"
     },
     "execution_count": 23,
     "metadata": {},
     "output_type": "execute_result"
    }
   ],
   "source": [
    "f"
   ],
   "metadata": {
    "collapsed": false
   }
  },
  {
   "cell_type": "code",
   "execution_count": 24,
   "outputs": [
    {
     "ename": "TypeError",
     "evalue": "list indices must be integers or slices, not str",
     "output_type": "error",
     "traceback": [
      "\u001B[0;31m---------------------------------------------------------------------------\u001B[0m",
      "\u001B[0;31mTypeError\u001B[0m                                 Traceback (most recent call last)",
      "Cell \u001B[0;32mIn[24], line 2\u001B[0m\n\u001B[1;32m      1\u001B[0m ax \u001B[38;5;241m=\u001B[39m plt\u001B[38;5;241m.\u001B[39mgca()\n\u001B[0;32m----> 2\u001B[0m y2 \u001B[38;5;241m=\u001B[39m np\u001B[38;5;241m.\u001B[39msqrt(\u001B[43mf\u001B[49m\u001B[43m[\u001B[49m\u001B[38;5;124;43m'\u001B[39;49m\u001B[38;5;124;43mmu_std\u001B[39;49m\u001B[38;5;124;43m'\u001B[39;49m\u001B[43m]\u001B[49m) \u001B[38;5;66;03m# this is actually the squared root of the variance\u001B[39;00m\n\u001B[1;32m      5\u001B[0m pmus \u001B[38;5;241m=\u001B[39m []\n\u001B[1;32m      6\u001B[0m pvols \u001B[38;5;241m=\u001B[39m []\n",
      "\u001B[0;31mTypeError\u001B[0m: list indices must be integers or slices, not str"
     ]
    },
    {
     "data": {
      "text/plain": "<Figure size 640x480 with 1 Axes>",
      "image/png": "[encoded data removed]"
     },
     "metadata": {},
     "output_type": "display_data"
    }
   ],
   "source": [
    "ax = plt.gca()\n",
    "y2 = np.sqrt(f['mu_std']) # this is actually the squared root of the variance\n",
    "\n",
    "\n",
    "pmus = []\n",
    "pvols = []\n",
    "# for i in range(len(random_weight.columns)):\n",
    "#     res = ef_optimization(opt_vcv, random_weight.iloc[:, i], risk_free=False)\n",
    "#\n",
    "#     pmu = res.x @ opt_mean\n",
    "#     pvol = res.x.T @ opt_vcv @ res.x\n",
    "#     pmus.append(pmu)\n",
    "#     pvols.append(pvol)\n",
    "#     ax.plot(np.sqrt(pvol).T, pmu, 'ro')\n",
    "#\n",
    "# # ax.set_ylim(-0.01, 0.02)\n",
    "# # ax.set_xlim(0, 0.05)\n",
    "# ax.plot(y2, f['mu_p'])"
   ],
   "metadata": {
    "collapsed": false
   }
  },
  {
   "cell_type": "code",
   "execution_count": null,
   "outputs": [],
   "source": [
    "ax = plt.gca()\n",
    "ax.plot(pvols, pmus, 'ro')\n",
    "ax.plot(y2, f['mu_p'])\n",
    "ax.set_xlim(0, 0.01)\n",
    "ax.set_ylim(-0.05, 0.05)"
   ],
   "metadata": {
    "collapsed": false
   }
  },
  {
   "cell_type": "code",
   "execution_count": null,
   "outputs": [],
   "source": [
    "def portfolio_resampling(row_selected, num_iter, len_dummy_mu):\n",
    "    \"\"\"\n",
    "\n",
    "    :param row_selected: Number of draws of raw returns we have for each sample\n",
    "    :param num_iter: Number of resampled returns\n",
    "    :param len_dummy_mu: Number of portfolio returns we set to optimize for portfolio volatility\n",
    "    :return: The output contains multiple outputs. First, the optimal allocation given all returns, the expected return of the portfolio, the variacne of the optimal portfolios.\n",
    "    \"\"\"\n",
    "    out = []\n",
    "    optimal_weights = []\n",
    "    optimal_mu = []\n",
    "    optimal_vcv = []\n",
    "    for i in range(num_iter):\n",
    "        sam = opt_simple.sample(n=row_selected, ignore_index=True)\n",
    "        mu = sam.mean()\n",
    "        optimal_mu.append(mu)\n",
    "        cov = sam.cov()\n",
    "        optimal_vcv.append(cov)\n",
    "        res = efficient_frontier(mu, cov, len_dummy_mu)\n",
    "        num = np.linalg.inv(cov) @ np.ones(np.shape(cov)[0])\n",
    "        den = np.ones(np.shape(cov)[0]).T @ np.linalg.inv(cov) @ np.ones(np.shape(cov)[0])\n",
    "        alpha = num / den\n",
    "        out.append(res['mu_std'])\n",
    "        optimal_weights.append(alpha)\n",
    "    df = pd.DataFrame(np.asarray(out).T, index=res['mu_p'])\n",
    "    optimal_weights = pd.DataFrame(optimal_weights).T\n",
    "    optimal_mu = pd.DataFrame(optimal_mu)\n",
    "    return [df, optimal_weights, optimal_mu]\n",
    "\n",
    "\n",
    "# def resampled_mu(row_selected, num_iter, )"
   ],
   "metadata": {
    "collapsed": false
   }
  },
  {
   "cell_type": "code",
   "execution_count": null,
   "outputs": [],
   "source": [
    "resampled = portfolio_resampling(300, 2000, 200)\n",
    "# resampled = pd.DataFrame(np.asarray(resampled).T)\n",
    "# np.shape(resampled)\n",
    "# all_weights = []\n",
    "\n",
    "\n",
    "# for i in range(np.shape(resampled)[0]+1):\n",
    "#     resampled.iloc[:, i] = resampled.iloc[:, i] / resampled.iloc[:, i].sum()\n",
    "\n",
    "\n",
    "# all_weights = pd.DataFrame(all_weights)\n",
    "# all_weights.sum()\n",
    "# resampled.plot(legend=False)\n",
    "resampled[1].sum()"
   ],
   "metadata": {
    "collapsed": false
   }
  },
  {
   "cell_type": "code",
   "execution_count": null,
   "outputs": [],
   "source": [
    "final_sample = resampled.mean(axis=1)\n",
    "final_sample\n",
    "final_sample"
   ],
   "metadata": {
    "collapsed": false
   }
  },
  {
   "cell_type": "code",
   "execution_count": null,
   "outputs": [],
   "source": [
    "ax = plt.gca()\n",
    "for i in range(len(resampled.columns)):\n",
    "    ax.plot(resampled.iloc[:, i], resampled.index, 'k-', lw=0.05)\n",
    "ax.plot(resampled.mean(axis=1), resampled.index, 'r-', lw=1.2)"
   ],
   "metadata": {
    "collapsed": false
   }
  },
  {
   "cell_type": "code",
   "execution_count": null,
   "outputs": [],
   "source": [
    "emission"
   ],
   "metadata": {
    "collapsed": false
   }
  },
  {
   "cell_type": "code",
   "execution_count": null,
   "outputs": [],
   "source": [
    "for i in emission.columns:\n",
    "    print(type(i))"
   ],
   "metadata": {
    "collapsed": false
   }
  },
  {
   "cell_type": "code",
   "execution_count": null,
   "outputs": [],
   "source": [
    "revenue"
   ],
   "metadata": {
    "collapsed": false
   }
  },
  {
   "cell_type": "code",
   "execution_count": null,
   "outputs": [],
   "source": [
    "carbon_intensity = []\n",
    "for i in emission.columns:\n",
    "    res = emission.iloc[:, i].values / emission[:, i]\n",
    "    carbon_intensity.append(res)\n"
   ],
   "metadata": {
    "collapsed": false
   }
  },
  {
   "cell_type": "code",
   "execution_count": null,
   "outputs": [],
   "source": [
    "emission.iloc[:, 1].values"
   ],
   "metadata": {
    "collapsed": false
   }
  },
  {
   "cell_type": "code",
   "execution_count": null,
   "outputs": [],
   "source": [
    "out = []\n",
    "for i, a in emission.iloc[:, 1].values, revenue.iloc[:, 1]:\n",
    "    res = i/a\n",
    "    out.append(res)\n",
    "\n",
    "out = pd.DataFrame(out)"
   ],
   "metadata": {
    "collapsed": false
   }
  },
  {
   "cell_type": "code",
   "execution_count": null,
   "outputs": [],
   "source": [
    "revenue"
   ],
   "metadata": {
    "collapsed": false
   }
  },
  {
   "cell_type": "code",
   "execution_count": null,
   "outputs": [],
   "source": [
    "revenue.iloc[:, 1].values"
   ],
   "metadata": {
    "collapsed": false
   }
  },
  {
   "cell_type": "code",
   "execution_count": null,
   "outputs": [],
   "source": [],
   "metadata": {
    "collapsed": false
   }
  }
 ],
 "metadata": {
  "kernelspec": {
   "display_name": "Python 3",
   "language": "python",
   "name": "python3"
  },
  "language_info": {
   "codemirror_mode": {
    "name": "ipython",
    "version": 2
   },
   "file_extension": ".py",
   "mimetype": "text/x-python",
   "name": "python",
   "nbconvert_exporter": "python",
   "pygments_lexer": "ipython2",
   "version": "2.7.6"
  }
 },
 "nbformat": 4,
 "nbformat_minor": 0
}
